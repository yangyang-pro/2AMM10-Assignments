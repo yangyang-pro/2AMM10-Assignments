{
  "nbformat": 4,
  "nbformat_minor": 0,
  "metadata": {
    "kernelspec": {
      "display_name": "Python 3",
      "language": "python",
      "name": "python3"
    },
    "language_info": {
      "codemirror_mode": {
        "name": "ipython",
        "version": 3
      },
      "file_extension": ".py",
      "mimetype": "text/x-python",
      "name": "python",
      "nbconvert_exporter": "python",
      "pygments_lexer": "ipython3",
      "version": "3.8.5"
    },
    "colab": {
      "name": "workbook-task1.2_fin.ipynb",
      "provenance": [],
      "collapsed_sections": [],
      "machine_shape": "hm"
    },
    "accelerator": "GPU"
  },
  "cells": [
    {
      "cell_type": "markdown",
      "metadata": {
        "id": "z-CT20VbHVih"
      },
      "source": [
        "<a href=\"https://colab.research.google.com/github/vlamen/tue-deeplearning/blob/main/assignments/assignment1/workbook-task1.2.ipynb\" target=\"_parent\"><img src=\"https://colab.research.google.com/assets/colab-badge.svg\" alt=\"Open In Colab\"/></a>"
      ]
    },
    {
      "cell_type": "markdown",
      "metadata": {
        "id": "0DuLfzplHVij"
      },
      "source": [
        "TODO: Modify this cell to add your group name, group number and your names and student IDs\n",
        "\n",
        "Group: 99\n",
        "\n",
        "Authors:"
      ]
    },
    {
      "cell_type": "code",
      "metadata": {
        "colab": {
          "base_uri": "https://localhost:8080/"
        },
        "id": "iJKoLVH-HVik",
        "outputId": "85292b05-16f9-433e-8204-d8ef16200e6c"
      },
      "source": [
        "import requests\n",
        "import io\n",
        "import pandas as pd\n",
        "import xarray as xa\n",
        "\n",
        "%pylab inline"
      ],
      "execution_count": 1,
      "outputs": [
        {
          "output_type": "stream",
          "text": [
            "Populating the interactive namespace from numpy and matplotlib\n"
          ],
          "name": "stdout"
        }
      ]
    },
    {
      "cell_type": "markdown",
      "metadata": {
        "id": "eM7S4Zs4HVil"
      },
      "source": [
        "### Load training/testing dataset"
      ]
    },
    {
      "cell_type": "code",
      "metadata": {
        "colab": {
          "base_uri": "https://localhost:8080/"
        },
        "id": "5UD-2MybHVil",
        "outputId": "d72ec455-4e25-4527-fd5b-78803121f789"
      },
      "source": [
        "def load_dataset_from_url(url):\n",
        "    \"\"\"\n",
        "    Loads a dataset from surfdrive. \n",
        "    \n",
        "    Input:\n",
        "    url: Download link of dataset \n",
        "    \n",
        "    Outputs:\n",
        "    x: Input features in numpy array format\n",
        "    y: Targets/labels in numpy array format\n",
        "    \"\"\"\n",
        "    \n",
        "    response = requests.get(url)\n",
        "    response.raise_for_status()\n",
        "    \n",
        "    dataset = np.load(io.BytesIO(response.content)) \n",
        "    \n",
        "    x, y = np.split(dataset, [9], axis=2)\n",
        "    \n",
        "    return x, y\n",
        "    \n",
        "    \n",
        "# Downloading may take a while..\n",
        "train_x, train_y = load_dataset_from_url('https://surfdrive.surf.nl/files/index.php/s/gVrTFgSJ1rWl1IN/download')\n",
        "test_x, test_y = load_dataset_from_url('https://surfdrive.surf.nl/files/index.php/s/JR0WXbrzzTAmwEB/download')\n",
        "\n",
        "print(f\"train_x shape: {train_x.shape}\")\n",
        "print(f\"train_y shape: {train_y.shape}\\n\")\n",
        "\n",
        "print(f\"test_x shape: {test_x.shape}\")\n",
        "print(f\"test_y shape: {test_y.shape}\")"
      ],
      "execution_count": 2,
      "outputs": [
        {
          "output_type": "stream",
          "text": [
            "train_x shape: (10000, 1000, 9)\n",
            "train_y shape: (10000, 1000, 1)\n",
            "\n",
            "test_x shape: (2000, 1000, 9)\n",
            "test_y shape: (2000, 1000, 1)\n"
          ],
          "name": "stdout"
        }
      ]
    },
    {
      "cell_type": "markdown",
      "metadata": {
        "id": "24ahHTsdHVim"
      },
      "source": [
        "### Visualize some of the training samples"
      ]
    },
    {
      "cell_type": "code",
      "metadata": {
        "id": "oBSxUFpvHVin"
      },
      "source": [
        "#TODO Implement the solution to task 2 of assignment 1\n",
        "\n",
        "train_y, test_y = train_y.squeeze(-1), test_y.squeeze(-1)"
      ],
      "execution_count": 3,
      "outputs": []
    },
    {
      "cell_type": "code",
      "metadata": {
        "pycharm": {
          "name": "#%%\n"
        },
        "id": "GxxkCeW8HVin"
      },
      "source": [
        "import torch\n",
        "from sklearn.model_selection import train_test_split\n",
        "from torch.utils.data import TensorDataset\n",
        "from torch.utils.data import DataLoader\n",
        "from torch import nn\n",
        "import numpy as np"
      ],
      "execution_count": 4,
      "outputs": []
    },
    {
      "cell_type": "code",
      "metadata": {
        "pycharm": {
          "name": "#%%\n"
        },
        "id": "CkE6yrB3HVin"
      },
      "source": [
        "class RNNClassifier(nn.Module):\n",
        "    def __init__(self, input_size, hidden_size, num_classes, num_layers):\n",
        "        super().__init__()\n",
        "        self.conv = nn.Sequential(\n",
        "            nn.Conv1d(in_channels=input_size, out_channels=64, kernel_size=3, padding=1),\n",
        "            nn.BatchNorm1d(64),\n",
        "            nn.ReLU(inplace=True),\n",
        "            nn.Conv1d(in_channels=64, out_channels=64, kernel_size=3, padding=1),\n",
        "            nn.ReLU(inplace=True),\n",
        "            nn.Dropout(0.5)\n",
        "        )\n",
        "        self.rnn = nn.LSTM(input_size=64, hidden_size=hidden_size, num_layers=num_layers, batch_first=True)\n",
        "        self.fc = nn.Linear(in_features=hidden_size, out_features=num_classes)\n",
        "\n",
        "    def forward(self, x):\n",
        "        x = x.permute(0, 2, 1)\n",
        "        x = self.conv(x).permute(0, 2, 1)\n",
        "        x, (_, _) = self.rnn(x)\n",
        "        x = self.fc(x)\n",
        "        return x.permute(0, 2, 1)"
      ],
      "execution_count": 13,
      "outputs": []
    },
    {
      "cell_type": "code",
      "metadata": {
        "pycharm": {
          "name": "#%%\n"
        },
        "id": "6Xng21KoHVio"
      },
      "source": [
        "from tqdm import tqdm\n",
        "import matplotlib.pyplot as plt\n",
        "\n",
        "class Trainer():\n",
        "    def __init__(self,\n",
        "                 model: torch.nn.Module,\n",
        "                 device: torch.device,\n",
        "                 criterion: torch.nn.Module,\n",
        "                 optimizer: torch.optim.Optimizer,\n",
        "                 training_dataLoader: torch.utils.data.Dataset,\n",
        "                 validation_dataLoader: torch.utils.data.Dataset ,\n",
        "                 epochs: int\n",
        "                 ):\n",
        "        self.model = model\n",
        "        self.criterion = criterion\n",
        "        self.optimizer = optimizer\n",
        "        self.training_dataLoader = training_dataLoader\n",
        "        self.validation_dataLoader = validation_dataLoader\n",
        "        self.device = device\n",
        "        self.epochs = epochs\n",
        "\n",
        "    def run_trainer(self):\n",
        "        train_losses_total = []\n",
        "        val_losses_total = []\n",
        "        for epoch in tqdm(range(self.epochs)):\n",
        "            self.model.train()  # train mode\n",
        "            train_losses=[]\n",
        "            for batch in self.training_dataLoader:\n",
        "                x, y = batch\n",
        "                input, target = x.to(device=self.device, dtype=torch.float), y.to(self.device) # send to device (GPU or CPU)\n",
        "                self.optimizer.zero_grad()  # zerograd the parameters\n",
        "                out = self.model(input)  # one forward pass\n",
        "                loss = self.criterion(out, target)  # calculate training loss\n",
        "\n",
        "                loss_value = loss.item()\n",
        "                train_losses.append(loss_value)\n",
        "\n",
        "                loss.backward()  # one backward pass\n",
        "                self.optimizer.step()  # update the parameters\n",
        "\n",
        "            self.model.eval()  # evaluation mode\n",
        "            val_losses = []  # accumulate the losses here\n",
        "\n",
        "            for batch in self.validation_dataLoader:\n",
        "                x, y = batch\n",
        "                input, target = x.to(device=self.device, dtype=torch.float), y.to(device=self.device)  # send to device (GPU or CPU)\n",
        "                with torch.no_grad():\n",
        "                    out = self.model(input)   # one forward pass\n",
        "                    loss = self.criterion(out, target) # calculate validation loss\n",
        "                  \n",
        "                    loss_value = loss.item()\n",
        "                    val_losses.append(loss_value)\n",
        "                    \n",
        "            print('Epoch:', epoch)\n",
        "            print('Training loss,', np.mean(train_losses))\n",
        "            print('Validation loss,', np.mean(val_losses))\n",
        "\n",
        "            train_losses_total.append(np.mean(train_losses))\n",
        "            val_losses_total.append(np.mean(val_losses))\n",
        "          \n",
        "\n",
        "        plt.plot(range(1, self.epochs + 1), train_losses_total, 'g', label='Training loss')\n",
        "        plt.plot(range(1, self.epochs + 1), val_losses_total, 'b', label='Validation loss')\n",
        "\n",
        "        plt.title('Training and Validation loss')\n",
        "        plt.xlabel('Epochs')\n",
        "        plt.ylabel('Loss')\n",
        "        plt.legend()\n",
        "        plt.savefig('loss.png')\n",
        "        plt.show()"
      ],
      "execution_count": 6,
      "outputs": []
    },
    {
      "cell_type": "code",
      "metadata": {
        "pycharm": {
          "name": "#%%\n"
        },
        "id": "mcuYHNzeHVip"
      },
      "source": [
        "device = torch.device('cuda' if torch.cuda.is_available() else 'cpu')\n",
        "#device = xm.xla_device() if os.environ['COLAB_TPU_ADDR'] else torch.device('cpu')\n",
        "BATCH_SIZE = 32\n",
        "NUM_CLASSES = 6\n",
        "NUM_FEATURES = 9\n",
        "HIDDEN_SIZE = 128\n",
        "NUM_RNN_LAYERS = 1\n",
        "NUM_EPOCH = 150"
      ],
      "execution_count": 7,
      "outputs": []
    },
    {
      "cell_type": "code",
      "metadata": {
        "pycharm": {
          "name": "#%%\n"
        },
        "id": "vcQ5cWG6HVip"
      },
      "source": [
        "train_x, val_x, train_y, val_y = train_test_split(train_x, train_y, test_size=0.2)\n",
        "train_data = TensorDataset(torch.tensor(train_x), torch.tensor(train_y, dtype=torch.long))\n",
        "val_data = TensorDataset(torch.tensor(val_x), torch.tensor(val_y, dtype=torch.long))\n",
        "test_data = TensorDataset(torch.tensor(test_x), torch.tensor(test_y, dtype=torch.long))\n",
        "\n",
        "train_dataloader = DataLoader(train_data, batch_size=BATCH_SIZE)\n",
        "val_dataloader = DataLoader(val_data, batch_size=BATCH_SIZE)\n",
        "test_dataloader = DataLoader(test_data, batch_size=BATCH_SIZE)\n",
        "\n",
        "model = RNNClassifier(input_size=NUM_FEATURES, hidden_size=HIDDEN_SIZE, num_classes=NUM_CLASSES, num_layers=NUM_RNN_LAYERS).to(device)\n",
        "\n",
        "criterion = nn.CrossEntropyLoss()\n",
        "optimizer = torch.optim.SGD(model.parameters(), lr=0.001, momentum=0.9)\n",
        "\n",
        "trainer = Trainer(model=model, device=device, criterion=criterion, optimizer=optimizer, training_dataLoader=train_dataloader, validation_dataLoader=val_dataloader, epochs=NUM_EPOCH)"
      ],
      "execution_count": 14,
      "outputs": []
    },
    {
      "cell_type": "code",
      "metadata": {
        "pycharm": {
          "name": "#%%\n",
          "is_executing": true
        },
        "colab": {
          "base_uri": "https://localhost:8080/",
          "height": 1000
        },
        "id": "heMukpA5HVip",
        "outputId": "29da02b3-30ff-4eb0-f8d9-84b57c4e7022"
      },
      "source": [
        "trainer.run_trainer()"
      ],
      "execution_count": 15,
      "outputs": [
        {
          "output_type": "stream",
          "text": [
            "  1%|          | 1/150 [00:10<26:24, 10.64s/it]"
          ],
          "name": "stderr"
        },
        {
          "output_type": "stream",
          "text": [
            "Epoch: 0\n",
            "Training loss, 1.7065377873182297\n",
            "Validation loss, 1.5609352350234986\n"
          ],
          "name": "stdout"
        },
        {
          "output_type": "stream",
          "text": [
            "\r  1%|▏         | 2/150 [00:21<26:26, 10.72s/it]"
          ],
          "name": "stderr"
        },
        {
          "output_type": "stream",
          "text": [
            "Epoch: 1\n",
            "Training loss, 1.4509170722961426\n",
            "Validation loss, 1.340147123336792\n"
          ],
          "name": "stdout"
        },
        {
          "output_type": "stream",
          "text": [
            "\r  2%|▏         | 3/150 [00:32<26:34, 10.85s/it]"
          ],
          "name": "stderr"
        },
        {
          "output_type": "stream",
          "text": [
            "Epoch: 2\n",
            "Training loss, 1.3044204217195512\n",
            "Validation loss, 1.2378427815437316\n"
          ],
          "name": "stdout"
        },
        {
          "output_type": "stream",
          "text": [
            "\r  3%|▎         | 4/150 [00:43<26:42, 10.98s/it]"
          ],
          "name": "stderr"
        },
        {
          "output_type": "stream",
          "text": [
            "Epoch: 3\n",
            "Training loss, 1.1981267541646958\n",
            "Validation loss, 1.1070025396347045\n"
          ],
          "name": "stdout"
        },
        {
          "output_type": "stream",
          "text": [
            "\r  3%|▎         | 5/150 [00:55<26:46, 11.08s/it]"
          ],
          "name": "stderr"
        },
        {
          "output_type": "stream",
          "text": [
            "Epoch: 4\n",
            "Training loss, 1.0368543472886085\n",
            "Validation loss, 0.9041233968734741\n"
          ],
          "name": "stdout"
        },
        {
          "output_type": "stream",
          "text": [
            "\r  4%|▍         | 6/150 [01:06<26:47, 11.16s/it]"
          ],
          "name": "stderr"
        },
        {
          "output_type": "stream",
          "text": [
            "Epoch: 5\n",
            "Training loss, 0.8403168877959252\n",
            "Validation loss, 0.7082056450843811\n"
          ],
          "name": "stdout"
        },
        {
          "output_type": "stream",
          "text": [
            "\r  5%|▍         | 7/150 [01:18<26:45, 11.22s/it]"
          ],
          "name": "stderr"
        },
        {
          "output_type": "stream",
          "text": [
            "Epoch: 6\n",
            "Training loss, 0.6708325904607773\n",
            "Validation loss, 0.5900031518936157\n"
          ],
          "name": "stdout"
        },
        {
          "output_type": "stream",
          "text": [
            "\r  5%|▌         | 8/150 [01:29<26:40, 11.27s/it]"
          ],
          "name": "stderr"
        },
        {
          "output_type": "stream",
          "text": [
            "Epoch: 7\n",
            "Training loss, 0.5852275064587593\n",
            "Validation loss, 0.5316648489236832\n"
          ],
          "name": "stdout"
        },
        {
          "output_type": "stream",
          "text": [
            "\r  6%|▌         | 9/150 [01:40<26:33, 11.30s/it]"
          ],
          "name": "stderr"
        },
        {
          "output_type": "stream",
          "text": [
            "Epoch: 8\n",
            "Training loss, 0.5311276550590992\n",
            "Validation loss, 0.47243874907493594\n"
          ],
          "name": "stdout"
        },
        {
          "output_type": "stream",
          "text": [
            "\r  7%|▋         | 10/150 [01:52<26:25, 11.33s/it]"
          ],
          "name": "stderr"
        },
        {
          "output_type": "stream",
          "text": [
            "Epoch: 9\n",
            "Training loss, 0.47724481984972955\n",
            "Validation loss, 0.41548818051815034\n"
          ],
          "name": "stdout"
        },
        {
          "output_type": "stream",
          "text": [
            "\r  7%|▋         | 11/150 [02:03<26:15, 11.34s/it]"
          ],
          "name": "stderr"
        },
        {
          "output_type": "stream",
          "text": [
            "Epoch: 10\n",
            "Training loss, 0.43102178901433946\n",
            "Validation loss, 0.367524710893631\n"
          ],
          "name": "stdout"
        },
        {
          "output_type": "stream",
          "text": [
            "\r  8%|▊         | 12/150 [02:14<26:05, 11.35s/it]"
          ],
          "name": "stderr"
        },
        {
          "output_type": "stream",
          "text": [
            "Epoch: 11\n",
            "Training loss, 0.38809046387672425\n",
            "Validation loss, 0.32037686824798584\n"
          ],
          "name": "stdout"
        },
        {
          "output_type": "stream",
          "text": [
            "\r  9%|▊         | 13/150 [02:26<25:55, 11.35s/it]"
          ],
          "name": "stderr"
        },
        {
          "output_type": "stream",
          "text": [
            "Epoch: 12\n",
            "Training loss, 0.3419174173474312\n",
            "Validation loss, 0.3062349855899811\n"
          ],
          "name": "stdout"
        },
        {
          "output_type": "stream",
          "text": [
            "\r  9%|▉         | 14/150 [02:37<25:44, 11.36s/it]"
          ],
          "name": "stderr"
        },
        {
          "output_type": "stream",
          "text": [
            "Epoch: 13\n",
            "Training loss, 0.3068258510529995\n",
            "Validation loss, 0.281696212887764\n"
          ],
          "name": "stdout"
        },
        {
          "output_type": "stream",
          "text": [
            "\r 10%|█         | 15/150 [02:49<25:34, 11.36s/it]"
          ],
          "name": "stderr"
        },
        {
          "output_type": "stream",
          "text": [
            "Epoch: 14\n",
            "Training loss, 0.28006427221000196\n",
            "Validation loss, 0.24399941354990007\n"
          ],
          "name": "stdout"
        },
        {
          "output_type": "stream",
          "text": [
            "\r 11%|█         | 16/150 [03:00<25:23, 11.37s/it]"
          ],
          "name": "stderr"
        },
        {
          "output_type": "stream",
          "text": [
            "Epoch: 15\n",
            "Training loss, 0.2576327902823687\n",
            "Validation loss, 0.23235618352890014\n"
          ],
          "name": "stdout"
        },
        {
          "output_type": "stream",
          "text": [
            "\r 11%|█▏        | 17/150 [03:11<25:12, 11.37s/it]"
          ],
          "name": "stderr"
        },
        {
          "output_type": "stream",
          "text": [
            "Epoch: 16\n",
            "Training loss, 0.24123361378908156\n",
            "Validation loss, 0.2233652800321579\n"
          ],
          "name": "stdout"
        },
        {
          "output_type": "stream",
          "text": [
            "\r 12%|█▏        | 18/150 [03:23<25:01, 11.38s/it]"
          ],
          "name": "stderr"
        },
        {
          "output_type": "stream",
          "text": [
            "Epoch: 17\n",
            "Training loss, 0.22620870523154735\n",
            "Validation loss, 0.2180135041475296\n"
          ],
          "name": "stdout"
        },
        {
          "output_type": "stream",
          "text": [
            "\r 13%|█▎        | 19/150 [03:34<24:49, 11.37s/it]"
          ],
          "name": "stderr"
        },
        {
          "output_type": "stream",
          "text": [
            "Epoch: 18\n",
            "Training loss, 0.21567225016653538\n",
            "Validation loss, 0.19797283232212068\n"
          ],
          "name": "stdout"
        },
        {
          "output_type": "stream",
          "text": [
            "\r 13%|█▎        | 20/150 [03:45<24:38, 11.37s/it]"
          ],
          "name": "stderr"
        },
        {
          "output_type": "stream",
          "text": [
            "Epoch: 19\n",
            "Training loss, 0.20651722624897956\n",
            "Validation loss, 0.18599022403359414\n"
          ],
          "name": "stdout"
        },
        {
          "output_type": "stream",
          "text": [
            "\r 14%|█▍        | 21/150 [03:57<24:26, 11.36s/it]"
          ],
          "name": "stderr"
        },
        {
          "output_type": "stream",
          "text": [
            "Epoch: 20\n",
            "Training loss, 0.20030807949602603\n",
            "Validation loss, 0.19418374955654144\n"
          ],
          "name": "stdout"
        },
        {
          "output_type": "stream",
          "text": [
            "\r 15%|█▍        | 22/150 [04:08<24:13, 11.35s/it]"
          ],
          "name": "stderr"
        },
        {
          "output_type": "stream",
          "text": [
            "Epoch: 21\n",
            "Training loss, 0.1932140824943781\n",
            "Validation loss, 0.17785882622003554\n"
          ],
          "name": "stdout"
        },
        {
          "output_type": "stream",
          "text": [
            "\r 15%|█▌        | 23/150 [04:19<24:02, 11.35s/it]"
          ],
          "name": "stderr"
        },
        {
          "output_type": "stream",
          "text": [
            "Epoch: 22\n",
            "Training loss, 0.18711122158914806\n",
            "Validation loss, 0.17171085104346276\n"
          ],
          "name": "stdout"
        },
        {
          "output_type": "stream",
          "text": [
            "\r 16%|█▌        | 24/150 [04:31<23:51, 11.36s/it]"
          ],
          "name": "stderr"
        },
        {
          "output_type": "stream",
          "text": [
            "Epoch: 23\n",
            "Training loss, 0.18013542465865612\n",
            "Validation loss, 0.16949959352612495\n"
          ],
          "name": "stdout"
        },
        {
          "output_type": "stream",
          "text": [
            "\r 17%|█▋        | 25/150 [04:42<23:40, 11.36s/it]"
          ],
          "name": "stderr"
        },
        {
          "output_type": "stream",
          "text": [
            "Epoch: 24\n",
            "Training loss, 0.18195709448307754\n",
            "Validation loss, 0.1687480328977108\n"
          ],
          "name": "stdout"
        },
        {
          "output_type": "stream",
          "text": [
            "\r 17%|█▋        | 26/150 [04:54<23:29, 11.37s/it]"
          ],
          "name": "stderr"
        },
        {
          "output_type": "stream",
          "text": [
            "Epoch: 25\n",
            "Training loss, 0.17225416388362647\n",
            "Validation loss, 0.16604895010590554\n"
          ],
          "name": "stdout"
        },
        {
          "output_type": "stream",
          "text": [
            "\r 18%|█▊        | 27/150 [05:05<23:17, 11.36s/it]"
          ],
          "name": "stderr"
        },
        {
          "output_type": "stream",
          "text": [
            "Epoch: 26\n",
            "Training loss, 0.16842143092304468\n",
            "Validation loss, 0.16190843805670738\n"
          ],
          "name": "stdout"
        },
        {
          "output_type": "stream",
          "text": [
            "\r 19%|█▊        | 28/150 [05:16<23:06, 11.37s/it]"
          ],
          "name": "stderr"
        },
        {
          "output_type": "stream",
          "text": [
            "Epoch: 27\n",
            "Training loss, 0.16445368196815252\n",
            "Validation loss, 0.15411655589938164\n"
          ],
          "name": "stdout"
        },
        {
          "output_type": "stream",
          "text": [
            "\r 19%|█▉        | 29/150 [05:28<22:56, 11.37s/it]"
          ],
          "name": "stderr"
        },
        {
          "output_type": "stream",
          "text": [
            "Epoch: 28\n",
            "Training loss, 0.1617253340780735\n",
            "Validation loss, 0.18947325140237808\n"
          ],
          "name": "stdout"
        },
        {
          "output_type": "stream",
          "text": [
            "\r 20%|██        | 30/150 [05:39<22:44, 11.37s/it]"
          ],
          "name": "stderr"
        },
        {
          "output_type": "stream",
          "text": [
            "Epoch: 29\n",
            "Training loss, 0.15918553050607442\n",
            "Validation loss, 0.28255329132080076\n"
          ],
          "name": "stdout"
        },
        {
          "output_type": "stream",
          "text": [
            "\r 21%|██        | 31/150 [05:50<22:32, 11.36s/it]"
          ],
          "name": "stderr"
        },
        {
          "output_type": "stream",
          "text": [
            "Epoch: 30\n",
            "Training loss, 0.15726158622652292\n",
            "Validation loss, 0.19889755100011824\n"
          ],
          "name": "stdout"
        },
        {
          "output_type": "stream",
          "text": [
            "\r 21%|██▏       | 32/150 [06:02<22:21, 11.37s/it]"
          ],
          "name": "stderr"
        },
        {
          "output_type": "stream",
          "text": [
            "Epoch: 31\n",
            "Training loss, 0.15207370903342962\n",
            "Validation loss, 0.15605835646390914\n"
          ],
          "name": "stdout"
        },
        {
          "output_type": "stream",
          "text": [
            "\r 22%|██▏       | 33/150 [06:13<22:09, 11.36s/it]"
          ],
          "name": "stderr"
        },
        {
          "output_type": "stream",
          "text": [
            "Epoch: 32\n",
            "Training loss, 0.15019886855036022\n",
            "Validation loss, 0.21044135749340057\n"
          ],
          "name": "stdout"
        },
        {
          "output_type": "stream",
          "text": [
            "\r 23%|██▎       | 34/150 [06:24<21:58, 11.37s/it]"
          ],
          "name": "stderr"
        },
        {
          "output_type": "stream",
          "text": [
            "Epoch: 33\n",
            "Training loss, 0.1470229347795248\n",
            "Validation loss, 0.13482749044895173\n"
          ],
          "name": "stdout"
        },
        {
          "output_type": "stream",
          "text": [
            "\r 23%|██▎       | 35/150 [06:36<21:47, 11.37s/it]"
          ],
          "name": "stderr"
        },
        {
          "output_type": "stream",
          "text": [
            "Epoch: 34\n",
            "Training loss, 0.14365879204124213\n",
            "Validation loss, 0.24425239682197572\n"
          ],
          "name": "stdout"
        },
        {
          "output_type": "stream",
          "text": [
            "\r 24%|██▍       | 36/150 [06:47<21:35, 11.36s/it]"
          ],
          "name": "stderr"
        },
        {
          "output_type": "stream",
          "text": [
            "Epoch: 35\n",
            "Training loss, 0.14158667355775834\n",
            "Validation loss, 0.15671439930796624\n"
          ],
          "name": "stdout"
        },
        {
          "output_type": "stream",
          "text": [
            "\r 25%|██▍       | 37/150 [06:59<21:26, 11.38s/it]"
          ],
          "name": "stderr"
        },
        {
          "output_type": "stream",
          "text": [
            "Epoch: 36\n",
            "Training loss, 0.14449650321155785\n",
            "Validation loss, 0.23941610544919967\n"
          ],
          "name": "stdout"
        },
        {
          "output_type": "stream",
          "text": [
            "\r 25%|██▌       | 38/150 [07:10<21:15, 11.38s/it]"
          ],
          "name": "stderr"
        },
        {
          "output_type": "stream",
          "text": [
            "Epoch: 37\n",
            "Training loss, 0.13856261909008027\n",
            "Validation loss, 0.2931531503796577\n"
          ],
          "name": "stdout"
        },
        {
          "output_type": "stream",
          "text": [
            "\r 26%|██▌       | 39/150 [07:21<21:02, 11.37s/it]"
          ],
          "name": "stderr"
        },
        {
          "output_type": "stream",
          "text": [
            "Epoch: 38\n",
            "Training loss, 0.13512297313660382\n",
            "Validation loss, 0.49329481184482576\n"
          ],
          "name": "stdout"
        },
        {
          "output_type": "stream",
          "text": [
            "\r 27%|██▋       | 40/150 [07:33<20:50, 11.37s/it]"
          ],
          "name": "stderr"
        },
        {
          "output_type": "stream",
          "text": [
            "Epoch: 39\n",
            "Training loss, 0.1319092521443963\n",
            "Validation loss, 0.16865672886371613\n"
          ],
          "name": "stdout"
        },
        {
          "output_type": "stream",
          "text": [
            "\r 27%|██▋       | 41/150 [07:44<20:40, 11.38s/it]"
          ],
          "name": "stderr"
        },
        {
          "output_type": "stream",
          "text": [
            "Epoch: 40\n",
            "Training loss, 0.13053591180592775\n",
            "Validation loss, 0.5181076860427857\n"
          ],
          "name": "stdout"
        },
        {
          "output_type": "stream",
          "text": [
            "\r 28%|██▊       | 42/150 [07:55<20:27, 11.37s/it]"
          ],
          "name": "stderr"
        },
        {
          "output_type": "stream",
          "text": [
            "Epoch: 41\n",
            "Training loss, 0.13113973390311004\n",
            "Validation loss, 0.30759367763996126\n"
          ],
          "name": "stdout"
        },
        {
          "output_type": "stream",
          "text": [
            "\r 29%|██▊       | 43/150 [08:07<20:16, 11.37s/it]"
          ],
          "name": "stderr"
        },
        {
          "output_type": "stream",
          "text": [
            "Epoch: 42\n",
            "Training loss, 0.12563180837780238\n",
            "Validation loss, 0.1320139379799366\n"
          ],
          "name": "stdout"
        },
        {
          "output_type": "stream",
          "text": [
            "\r 29%|██▉       | 44/150 [08:18<20:05, 11.37s/it]"
          ],
          "name": "stderr"
        },
        {
          "output_type": "stream",
          "text": [
            "Epoch: 43\n",
            "Training loss, 0.1245988880470395\n",
            "Validation loss, 1.0087474763393403\n"
          ],
          "name": "stdout"
        },
        {
          "output_type": "stream",
          "text": [
            "\r 30%|███       | 45/150 [08:30<19:53, 11.36s/it]"
          ],
          "name": "stderr"
        },
        {
          "output_type": "stream",
          "text": [
            "Epoch: 44\n",
            "Training loss, 0.12147535040974616\n",
            "Validation loss, 0.11083916559815407\n"
          ],
          "name": "stdout"
        },
        {
          "output_type": "stream",
          "text": [
            "\r 31%|███       | 46/150 [08:41<19:42, 11.37s/it]"
          ],
          "name": "stderr"
        },
        {
          "output_type": "stream",
          "text": [
            "Epoch: 45\n",
            "Training loss, 0.12046823259443044\n",
            "Validation loss, 0.6116825264692306\n"
          ],
          "name": "stdout"
        },
        {
          "output_type": "stream",
          "text": [
            "\r 31%|███▏      | 47/150 [08:52<19:31, 11.37s/it]"
          ],
          "name": "stderr"
        },
        {
          "output_type": "stream",
          "text": [
            "Epoch: 46\n",
            "Training loss, 0.11819068163633346\n",
            "Validation loss, 0.3491051721572876\n"
          ],
          "name": "stdout"
        },
        {
          "output_type": "stream",
          "text": [
            "\r 32%|███▏      | 48/150 [09:04<19:19, 11.37s/it]"
          ],
          "name": "stderr"
        },
        {
          "output_type": "stream",
          "text": [
            "Epoch: 47\n",
            "Training loss, 0.116836210899055\n",
            "Validation loss, 0.18407622069120408\n"
          ],
          "name": "stdout"
        },
        {
          "output_type": "stream",
          "text": [
            "\r 33%|███▎      | 49/150 [09:15<19:08, 11.37s/it]"
          ],
          "name": "stderr"
        },
        {
          "output_type": "stream",
          "text": [
            "Epoch: 48\n",
            "Training loss, 0.1143988473340869\n",
            "Validation loss, 0.3216935124993324\n"
          ],
          "name": "stdout"
        },
        {
          "output_type": "stream",
          "text": [
            "\r 33%|███▎      | 50/150 [09:26<18:54, 11.35s/it]"
          ],
          "name": "stderr"
        },
        {
          "output_type": "stream",
          "text": [
            "Epoch: 49\n",
            "Training loss, 0.11140837669372558\n",
            "Validation loss, 0.3229886680841446\n"
          ],
          "name": "stdout"
        },
        {
          "output_type": "stream",
          "text": [
            "\r 34%|███▍      | 51/150 [09:38<18:38, 11.29s/it]"
          ],
          "name": "stderr"
        },
        {
          "output_type": "stream",
          "text": [
            "Epoch: 50\n",
            "Training loss, 0.11124114878475666\n",
            "Validation loss, 0.0995440611243248\n"
          ],
          "name": "stdout"
        },
        {
          "output_type": "stream",
          "text": [
            "\r 35%|███▍      | 52/150 [09:49<18:26, 11.29s/it]"
          ],
          "name": "stderr"
        },
        {
          "output_type": "stream",
          "text": [
            "Epoch: 51\n",
            "Training loss, 0.1075186238437891\n",
            "Validation loss, 0.1356188350915909\n"
          ],
          "name": "stdout"
        },
        {
          "output_type": "stream",
          "text": [
            "\r 35%|███▌      | 53/150 [10:00<18:16, 11.30s/it]"
          ],
          "name": "stderr"
        },
        {
          "output_type": "stream",
          "text": [
            "Epoch: 52\n",
            "Training loss, 0.10657920438796281\n",
            "Validation loss, 0.16826301261782647\n"
          ],
          "name": "stdout"
        },
        {
          "output_type": "stream",
          "text": [
            "\r 36%|███▌      | 54/150 [10:11<18:06, 11.32s/it]"
          ],
          "name": "stderr"
        },
        {
          "output_type": "stream",
          "text": [
            "Epoch: 53\n",
            "Training loss, 0.10665630750358104\n",
            "Validation loss, 0.09038614869117736\n"
          ],
          "name": "stdout"
        },
        {
          "output_type": "stream",
          "text": [
            "\r 37%|███▋      | 55/150 [10:23<17:57, 11.34s/it]"
          ],
          "name": "stderr"
        },
        {
          "output_type": "stream",
          "text": [
            "Epoch: 54\n",
            "Training loss, 0.10460282994434238\n",
            "Validation loss, 0.3378630658984184\n"
          ],
          "name": "stdout"
        },
        {
          "output_type": "stream",
          "text": [
            "\r 37%|███▋      | 56/150 [10:34<17:47, 11.35s/it]"
          ],
          "name": "stderr"
        },
        {
          "output_type": "stream",
          "text": [
            "Epoch: 55\n",
            "Training loss, 0.10156206019222737\n",
            "Validation loss, 0.48612177073955537\n"
          ],
          "name": "stdout"
        },
        {
          "output_type": "stream",
          "text": [
            "\r 38%|███▊      | 57/150 [10:46<17:36, 11.36s/it]"
          ],
          "name": "stderr"
        },
        {
          "output_type": "stream",
          "text": [
            "Epoch: 56\n",
            "Training loss, 0.09980911284685134\n",
            "Validation loss, 0.09073086574673653\n"
          ],
          "name": "stdout"
        },
        {
          "output_type": "stream",
          "text": [
            "\r 39%|███▊      | 58/150 [10:57<17:24, 11.35s/it]"
          ],
          "name": "stderr"
        },
        {
          "output_type": "stream",
          "text": [
            "Epoch: 57\n",
            "Training loss, 0.09884320314973592\n",
            "Validation loss, 0.10899921275675296\n"
          ],
          "name": "stdout"
        },
        {
          "output_type": "stream",
          "text": [
            "\r 39%|███▉      | 59/150 [11:08<17:13, 11.35s/it]"
          ],
          "name": "stderr"
        },
        {
          "output_type": "stream",
          "text": [
            "Epoch: 58\n",
            "Training loss, 0.10210466017946601\n",
            "Validation loss, 0.7578648865222931\n"
          ],
          "name": "stdout"
        },
        {
          "output_type": "stream",
          "text": [
            "\r 40%|████      | 60/150 [11:20<17:02, 11.36s/it]"
          ],
          "name": "stderr"
        },
        {
          "output_type": "stream",
          "text": [
            "Epoch: 59\n",
            "Training loss, 0.09607994575053454\n",
            "Validation loss, 0.07755218036472797\n"
          ],
          "name": "stdout"
        },
        {
          "output_type": "stream",
          "text": [
            "\r 41%|████      | 61/150 [11:31<16:51, 11.36s/it]"
          ],
          "name": "stderr"
        },
        {
          "output_type": "stream",
          "text": [
            "Epoch: 60\n",
            "Training loss, 0.09576141042634845\n",
            "Validation loss, 0.12258733615279198\n"
          ],
          "name": "stdout"
        },
        {
          "output_type": "stream",
          "text": [
            "\r 41%|████▏     | 62/150 [11:42<16:39, 11.36s/it]"
          ],
          "name": "stderr"
        },
        {
          "output_type": "stream",
          "text": [
            "Epoch: 61\n",
            "Training loss, 0.09497845534235239\n",
            "Validation loss, 0.2545484462380409\n"
          ],
          "name": "stdout"
        },
        {
          "output_type": "stream",
          "text": [
            "\r 42%|████▏     | 63/150 [11:54<16:28, 11.36s/it]"
          ],
          "name": "stderr"
        },
        {
          "output_type": "stream",
          "text": [
            "Epoch: 62\n",
            "Training loss, 0.09313972664996982\n",
            "Validation loss, 0.11123053342103958\n"
          ],
          "name": "stdout"
        },
        {
          "output_type": "stream",
          "text": [
            "\r 43%|████▎     | 64/150 [12:05<16:16, 11.36s/it]"
          ],
          "name": "stderr"
        },
        {
          "output_type": "stream",
          "text": [
            "Epoch: 63\n",
            "Training loss, 0.09263531088829041\n",
            "Validation loss, 0.16528130695223808\n"
          ],
          "name": "stdout"
        },
        {
          "output_type": "stream",
          "text": [
            "\r 43%|████▎     | 65/150 [12:16<16:04, 11.35s/it]"
          ],
          "name": "stderr"
        },
        {
          "output_type": "stream",
          "text": [
            "Epoch: 64\n",
            "Training loss, 0.08985215522348881\n",
            "Validation loss, 0.19701026245951653\n"
          ],
          "name": "stdout"
        },
        {
          "output_type": "stream",
          "text": [
            "\r 44%|████▍     | 66/150 [12:28<15:53, 11.35s/it]"
          ],
          "name": "stderr"
        },
        {
          "output_type": "stream",
          "text": [
            "Epoch: 65\n",
            "Training loss, 0.08944812273606657\n",
            "Validation loss, 0.07551446340978146\n"
          ],
          "name": "stdout"
        },
        {
          "output_type": "stream",
          "text": [
            "\r 45%|████▍     | 67/150 [12:39<15:42, 11.36s/it]"
          ],
          "name": "stderr"
        },
        {
          "output_type": "stream",
          "text": [
            "Epoch: 66\n",
            "Training loss, 0.09069978700950741\n",
            "Validation loss, 0.3122122010588646\n"
          ],
          "name": "stdout"
        },
        {
          "output_type": "stream",
          "text": [
            "\r 45%|████▌     | 68/150 [12:51<15:31, 11.36s/it]"
          ],
          "name": "stderr"
        },
        {
          "output_type": "stream",
          "text": [
            "Epoch: 67\n",
            "Training loss, 0.08792496712878346\n",
            "Validation loss, 0.3495859679579735\n"
          ],
          "name": "stdout"
        },
        {
          "output_type": "stream",
          "text": [
            "\r 46%|████▌     | 69/150 [13:02<15:19, 11.35s/it]"
          ],
          "name": "stderr"
        },
        {
          "output_type": "stream",
          "text": [
            "Epoch: 68\n",
            "Training loss, 0.0869006560370326\n",
            "Validation loss, 0.11649689696729183\n"
          ],
          "name": "stdout"
        },
        {
          "output_type": "stream",
          "text": [
            "\r 47%|████▋     | 70/150 [13:13<15:07, 11.35s/it]"
          ],
          "name": "stderr"
        },
        {
          "output_type": "stream",
          "text": [
            "Epoch: 69\n",
            "Training loss, 0.08670369785279036\n",
            "Validation loss, 0.26722405254840853\n"
          ],
          "name": "stdout"
        },
        {
          "output_type": "stream",
          "text": [
            "\r 47%|████▋     | 71/150 [13:25<14:56, 11.34s/it]"
          ],
          "name": "stderr"
        },
        {
          "output_type": "stream",
          "text": [
            "Epoch: 70\n",
            "Training loss, 0.08416382411494851\n",
            "Validation loss, 0.13735525473952293\n"
          ],
          "name": "stdout"
        },
        {
          "output_type": "stream",
          "text": [
            "\r 48%|████▊     | 72/150 [13:36<14:44, 11.34s/it]"
          ],
          "name": "stderr"
        },
        {
          "output_type": "stream",
          "text": [
            "Epoch: 71\n",
            "Training loss, 0.08560585644096136\n",
            "Validation loss, 0.3831792101264\n"
          ],
          "name": "stdout"
        },
        {
          "output_type": "stream",
          "text": [
            "\r 49%|████▊     | 73/150 [13:47<14:33, 11.35s/it]"
          ],
          "name": "stderr"
        },
        {
          "output_type": "stream",
          "text": [
            "Epoch: 72\n",
            "Training loss, 0.08296424236148596\n",
            "Validation loss, 0.32283912003040316\n"
          ],
          "name": "stdout"
        },
        {
          "output_type": "stream",
          "text": [
            "\r 49%|████▉     | 74/150 [13:59<14:22, 11.35s/it]"
          ],
          "name": "stderr"
        },
        {
          "output_type": "stream",
          "text": [
            "Epoch: 73\n",
            "Training loss, 0.0822350406832993\n",
            "Validation loss, 0.3523524820804596\n"
          ],
          "name": "stdout"
        },
        {
          "output_type": "stream",
          "text": [
            "\r 50%|█████     | 75/150 [14:10<14:10, 11.35s/it]"
          ],
          "name": "stderr"
        },
        {
          "output_type": "stream",
          "text": [
            "Epoch: 74\n",
            "Training loss, 0.08619645794853568\n",
            "Validation loss, 0.09491091340780258\n"
          ],
          "name": "stdout"
        },
        {
          "output_type": "stream",
          "text": [
            "\r 51%|█████     | 76/150 [14:21<14:00, 11.36s/it]"
          ],
          "name": "stderr"
        },
        {
          "output_type": "stream",
          "text": [
            "Epoch: 75\n",
            "Training loss, 0.08222046531736851\n",
            "Validation loss, 0.23487202242016791\n"
          ],
          "name": "stdout"
        },
        {
          "output_type": "stream",
          "text": [
            "\r 51%|█████▏    | 77/150 [14:33<13:48, 11.35s/it]"
          ],
          "name": "stderr"
        },
        {
          "output_type": "stream",
          "text": [
            "Epoch: 76\n",
            "Training loss, 0.08070945408195257\n",
            "Validation loss, 0.32484251976013184\n"
          ],
          "name": "stdout"
        },
        {
          "output_type": "stream",
          "text": [
            "\r 52%|█████▏    | 78/150 [14:44<13:37, 11.35s/it]"
          ],
          "name": "stderr"
        },
        {
          "output_type": "stream",
          "text": [
            "Epoch: 77\n",
            "Training loss, 0.07938267882913351\n",
            "Validation loss, 0.20298053011298178\n"
          ],
          "name": "stdout"
        },
        {
          "output_type": "stream",
          "text": [
            "\r 53%|█████▎    | 79/150 [14:55<13:26, 11.36s/it]"
          ],
          "name": "stderr"
        },
        {
          "output_type": "stream",
          "text": [
            "Epoch: 78\n",
            "Training loss, 0.07851991899311543\n",
            "Validation loss, 0.1451731479167938\n"
          ],
          "name": "stdout"
        },
        {
          "output_type": "stream",
          "text": [
            "\r 53%|█████▎    | 80/150 [15:07<13:13, 11.34s/it]"
          ],
          "name": "stderr"
        },
        {
          "output_type": "stream",
          "text": [
            "Epoch: 79\n",
            "Training loss, 0.07835303777828813\n",
            "Validation loss, 0.1932734267413616\n"
          ],
          "name": "stdout"
        },
        {
          "output_type": "stream",
          "text": [
            "\r 54%|█████▍    | 81/150 [15:18<13:02, 11.34s/it]"
          ],
          "name": "stderr"
        },
        {
          "output_type": "stream",
          "text": [
            "Epoch: 80\n",
            "Training loss, 0.07674001982435584\n",
            "Validation loss, 0.16450966961681843\n"
          ],
          "name": "stdout"
        },
        {
          "output_type": "stream",
          "text": [
            "\r 55%|█████▍    | 82/150 [15:29<12:50, 11.34s/it]"
          ],
          "name": "stderr"
        },
        {
          "output_type": "stream",
          "text": [
            "Epoch: 81\n",
            "Training loss, 0.07689482564106584\n",
            "Validation loss, 0.07344715893268586\n"
          ],
          "name": "stdout"
        },
        {
          "output_type": "stream",
          "text": [
            "\r 55%|█████▌    | 83/150 [15:41<12:39, 11.34s/it]"
          ],
          "name": "stderr"
        },
        {
          "output_type": "stream",
          "text": [
            "Epoch: 82\n",
            "Training loss, 0.0778552078269422\n",
            "Validation loss, 0.09945506945252419\n"
          ],
          "name": "stdout"
        },
        {
          "output_type": "stream",
          "text": [
            "\r 56%|█████▌    | 84/150 [15:52<12:28, 11.34s/it]"
          ],
          "name": "stderr"
        },
        {
          "output_type": "stream",
          "text": [
            "Epoch: 83\n",
            "Training loss, 0.07652694886550307\n",
            "Validation loss, 0.07404501289129257\n"
          ],
          "name": "stdout"
        },
        {
          "output_type": "stream",
          "text": [
            "\r 57%|█████▋    | 85/150 [16:03<12:17, 11.34s/it]"
          ],
          "name": "stderr"
        },
        {
          "output_type": "stream",
          "text": [
            "Epoch: 84\n",
            "Training loss, 0.07512252654880286\n",
            "Validation loss, 0.07295766204595566\n"
          ],
          "name": "stdout"
        },
        {
          "output_type": "stream",
          "text": [
            "\r 57%|█████▋    | 86/150 [16:15<12:05, 11.33s/it]"
          ],
          "name": "stderr"
        },
        {
          "output_type": "stream",
          "text": [
            "Epoch: 85\n",
            "Training loss, 0.07440238317474723\n",
            "Validation loss, 0.22218749597668647\n"
          ],
          "name": "stdout"
        },
        {
          "output_type": "stream",
          "text": [
            "\r 58%|█████▊    | 87/150 [16:26<11:54, 11.34s/it]"
          ],
          "name": "stderr"
        },
        {
          "output_type": "stream",
          "text": [
            "Epoch: 86\n",
            "Training loss, 0.07379027171060443\n",
            "Validation loss, 0.06310457311570644\n"
          ],
          "name": "stdout"
        },
        {
          "output_type": "stream",
          "text": [
            "\r 59%|█████▊    | 88/150 [16:37<11:43, 11.35s/it]"
          ],
          "name": "stderr"
        },
        {
          "output_type": "stream",
          "text": [
            "Epoch: 87\n",
            "Training loss, 0.07441542662680149\n",
            "Validation loss, 0.06638470061123371\n"
          ],
          "name": "stdout"
        },
        {
          "output_type": "stream",
          "text": [
            "\r 59%|█████▉    | 89/150 [16:49<11:32, 11.35s/it]"
          ],
          "name": "stderr"
        },
        {
          "output_type": "stream",
          "text": [
            "Epoch: 88\n",
            "Training loss, 0.07236318645998835\n",
            "Validation loss, 0.1146187300235033\n"
          ],
          "name": "stdout"
        },
        {
          "output_type": "stream",
          "text": [
            "\r 60%|██████    | 90/150 [17:00<11:21, 11.36s/it]"
          ],
          "name": "stderr"
        },
        {
          "output_type": "stream",
          "text": [
            "Epoch: 89\n",
            "Training loss, 0.07228114522993564\n",
            "Validation loss, 0.06932458035647869\n"
          ],
          "name": "stdout"
        },
        {
          "output_type": "stream",
          "text": [
            "\r 61%|██████    | 91/150 [17:12<11:10, 11.36s/it]"
          ],
          "name": "stderr"
        },
        {
          "output_type": "stream",
          "text": [
            "Epoch: 90\n",
            "Training loss, 0.07189477562904358\n",
            "Validation loss, 0.09469202905893326\n"
          ],
          "name": "stdout"
        },
        {
          "output_type": "stream",
          "text": [
            "\r 61%|██████▏   | 92/150 [17:23<10:58, 11.36s/it]"
          ],
          "name": "stderr"
        },
        {
          "output_type": "stream",
          "text": [
            "Epoch: 91\n",
            "Training loss, 0.07145550860092044\n",
            "Validation loss, 0.06309767246246338\n"
          ],
          "name": "stdout"
        },
        {
          "output_type": "stream",
          "text": [
            "\r 62%|██████▏   | 93/150 [17:34<10:47, 11.35s/it]"
          ],
          "name": "stderr"
        },
        {
          "output_type": "stream",
          "text": [
            "Epoch: 92\n",
            "Training loss, 0.07138349166139961\n",
            "Validation loss, 0.05555653102695942\n"
          ],
          "name": "stdout"
        },
        {
          "output_type": "stream",
          "text": [
            "\r 63%|██████▎   | 94/150 [17:46<10:35, 11.35s/it]"
          ],
          "name": "stderr"
        },
        {
          "output_type": "stream",
          "text": [
            "Epoch: 93\n",
            "Training loss, 0.0706116085126996\n",
            "Validation loss, 0.056381623968482016\n"
          ],
          "name": "stdout"
        },
        {
          "output_type": "stream",
          "text": [
            "\r 63%|██████▎   | 95/150 [17:57<10:24, 11.36s/it]"
          ],
          "name": "stderr"
        },
        {
          "output_type": "stream",
          "text": [
            "Epoch: 94\n",
            "Training loss, 0.07043285116553306\n",
            "Validation loss, 0.12520845256745816\n"
          ],
          "name": "stdout"
        },
        {
          "output_type": "stream",
          "text": [
            "\r 64%|██████▍   | 96/150 [18:08<10:13, 11.35s/it]"
          ],
          "name": "stderr"
        },
        {
          "output_type": "stream",
          "text": [
            "Epoch: 95\n",
            "Training loss, 0.0691698824800551\n",
            "Validation loss, 0.22805997624993324\n"
          ],
          "name": "stdout"
        },
        {
          "output_type": "stream",
          "text": [
            "\r 65%|██████▍   | 97/150 [18:20<10:02, 11.37s/it]"
          ],
          "name": "stderr"
        },
        {
          "output_type": "stream",
          "text": [
            "Epoch: 96\n",
            "Training loss, 0.0731745314784348\n",
            "Validation loss, 0.07532454401254654\n"
          ],
          "name": "stdout"
        },
        {
          "output_type": "stream",
          "text": [
            "\r 65%|██████▌   | 98/150 [18:31<09:51, 11.37s/it]"
          ],
          "name": "stderr"
        },
        {
          "output_type": "stream",
          "text": [
            "Epoch: 97\n",
            "Training loss, 0.06876809775829315\n",
            "Validation loss, 0.05484153285622597\n"
          ],
          "name": "stdout"
        },
        {
          "output_type": "stream",
          "text": [
            "\r 66%|██████▌   | 99/150 [18:42<09:40, 11.37s/it]"
          ],
          "name": "stderr"
        },
        {
          "output_type": "stream",
          "text": [
            "Epoch: 98\n",
            "Training loss, 0.06802202839404345\n",
            "Validation loss, 0.12621587075293064\n"
          ],
          "name": "stdout"
        },
        {
          "output_type": "stream",
          "text": [
            "\r 67%|██████▋   | 100/150 [18:54<09:28, 11.38s/it]"
          ],
          "name": "stderr"
        },
        {
          "output_type": "stream",
          "text": [
            "Epoch: 99\n",
            "Training loss, 0.0681607399135828\n",
            "Validation loss, 0.08462868303060532\n"
          ],
          "name": "stdout"
        },
        {
          "output_type": "stream",
          "text": [
            "\r 67%|██████▋   | 101/150 [19:05<09:17, 11.37s/it]"
          ],
          "name": "stderr"
        },
        {
          "output_type": "stream",
          "text": [
            "Epoch: 100\n",
            "Training loss, 0.06829754162579775\n",
            "Validation loss, 0.08035249412059783\n"
          ],
          "name": "stdout"
        },
        {
          "output_type": "stream",
          "text": [
            "\r 68%|██████▊   | 102/150 [19:17<09:06, 11.38s/it]"
          ],
          "name": "stderr"
        },
        {
          "output_type": "stream",
          "text": [
            "Epoch: 101\n",
            "Training loss, 0.06672243310138583\n",
            "Validation loss, 0.05317630685865879\n"
          ],
          "name": "stdout"
        },
        {
          "output_type": "stream",
          "text": [
            "\r 69%|██████▊   | 103/150 [19:28<08:54, 11.37s/it]"
          ],
          "name": "stderr"
        },
        {
          "output_type": "stream",
          "text": [
            "Epoch: 102\n",
            "Training loss, 0.06568180227652193\n",
            "Validation loss, 0.09501970782876015\n"
          ],
          "name": "stdout"
        },
        {
          "output_type": "stream",
          "text": [
            "\r 69%|██████▉   | 104/150 [19:39<08:43, 11.37s/it]"
          ],
          "name": "stderr"
        },
        {
          "output_type": "stream",
          "text": [
            "Epoch: 103\n",
            "Training loss, 0.06524396803230047\n",
            "Validation loss, 0.05443228669464588\n"
          ],
          "name": "stdout"
        },
        {
          "output_type": "stream",
          "text": [
            "\r 70%|███████   | 105/150 [19:51<08:31, 11.37s/it]"
          ],
          "name": "stderr"
        },
        {
          "output_type": "stream",
          "text": [
            "Epoch: 104\n",
            "Training loss, 0.06763669997453689\n",
            "Validation loss, 0.051003421172499654\n"
          ],
          "name": "stdout"
        },
        {
          "output_type": "stream",
          "text": [
            "\r 71%|███████   | 106/150 [20:02<08:19, 11.36s/it]"
          ],
          "name": "stderr"
        },
        {
          "output_type": "stream",
          "text": [
            "Epoch: 105\n",
            "Training loss, 0.06471566813066602\n",
            "Validation loss, 0.05234471559524536\n"
          ],
          "name": "stdout"
        },
        {
          "output_type": "stream",
          "text": [
            "\r 71%|███████▏  | 107/150 [20:13<08:08, 11.35s/it]"
          ],
          "name": "stderr"
        },
        {
          "output_type": "stream",
          "text": [
            "Epoch: 106\n",
            "Training loss, 0.06397866349667311\n",
            "Validation loss, 0.12624283283948898\n"
          ],
          "name": "stdout"
        },
        {
          "output_type": "stream",
          "text": [
            "\r 72%|███████▏  | 108/150 [20:25<07:56, 11.36s/it]"
          ],
          "name": "stderr"
        },
        {
          "output_type": "stream",
          "text": [
            "Epoch: 107\n",
            "Training loss, 0.06479578271508217\n",
            "Validation loss, 0.05495322935283184\n"
          ],
          "name": "stdout"
        },
        {
          "output_type": "stream",
          "text": [
            "\r 73%|███████▎  | 109/150 [20:36<07:44, 11.34s/it]"
          ],
          "name": "stderr"
        },
        {
          "output_type": "stream",
          "text": [
            "Epoch: 108\n",
            "Training loss, 0.06361218409612775\n",
            "Validation loss, 0.49661666095256807\n"
          ],
          "name": "stdout"
        },
        {
          "output_type": "stream",
          "text": [
            "\r 73%|███████▎  | 110/150 [20:47<07:33, 11.34s/it]"
          ],
          "name": "stderr"
        },
        {
          "output_type": "stream",
          "text": [
            "Epoch: 109\n",
            "Training loss, 0.06466711865738034\n",
            "Validation loss, 0.050568527802824975\n"
          ],
          "name": "stdout"
        },
        {
          "output_type": "stream",
          "text": [
            "\r 74%|███████▍  | 111/150 [20:59<07:23, 11.36s/it]"
          ],
          "name": "stderr"
        },
        {
          "output_type": "stream",
          "text": [
            "Epoch: 110\n",
            "Training loss, 0.06181957401335239\n",
            "Validation loss, 0.08180714882910252\n"
          ],
          "name": "stdout"
        },
        {
          "output_type": "stream",
          "text": [
            "\r 75%|███████▍  | 112/150 [21:10<07:11, 11.34s/it]"
          ],
          "name": "stderr"
        },
        {
          "output_type": "stream",
          "text": [
            "Epoch: 111\n",
            "Training loss, 0.0637993016652763\n",
            "Validation loss, 0.05584128029644489\n"
          ],
          "name": "stdout"
        },
        {
          "output_type": "stream",
          "text": [
            "\r 75%|███████▌  | 113/150 [21:21<06:59, 11.35s/it]"
          ],
          "name": "stderr"
        },
        {
          "output_type": "stream",
          "text": [
            "Epoch: 112\n",
            "Training loss, 0.06280148170888424\n",
            "Validation loss, 0.05921998843550682\n"
          ],
          "name": "stdout"
        },
        {
          "output_type": "stream",
          "text": [
            "\r 76%|███████▌  | 114/150 [21:33<06:48, 11.36s/it]"
          ],
          "name": "stderr"
        },
        {
          "output_type": "stream",
          "text": [
            "Epoch: 113\n",
            "Training loss, 0.06222220672294498\n",
            "Validation loss, 0.0551489919424057\n"
          ],
          "name": "stdout"
        },
        {
          "output_type": "stream",
          "text": [
            "\r 77%|███████▋  | 115/150 [21:44<06:37, 11.36s/it]"
          ],
          "name": "stderr"
        },
        {
          "output_type": "stream",
          "text": [
            "Epoch: 114\n",
            "Training loss, 0.06453230788931251\n",
            "Validation loss, 0.054313661083579066\n"
          ],
          "name": "stdout"
        },
        {
          "output_type": "stream",
          "text": [
            "\r 77%|███████▋  | 116/150 [21:56<06:26, 11.37s/it]"
          ],
          "name": "stderr"
        },
        {
          "output_type": "stream",
          "text": [
            "Epoch: 115\n",
            "Training loss, 0.06098562551662326\n",
            "Validation loss, 0.049748929738998415\n"
          ],
          "name": "stdout"
        },
        {
          "output_type": "stream",
          "text": [
            "\r 78%|███████▊  | 117/150 [22:07<06:14, 11.36s/it]"
          ],
          "name": "stderr"
        },
        {
          "output_type": "stream",
          "text": [
            "Epoch: 116\n",
            "Training loss, 0.06098995015025139\n",
            "Validation loss, 0.04842790879309177\n"
          ],
          "name": "stdout"
        },
        {
          "output_type": "stream",
          "text": [
            "\r 79%|███████▊  | 118/150 [22:18<06:03, 11.35s/it]"
          ],
          "name": "stderr"
        },
        {
          "output_type": "stream",
          "text": [
            "Epoch: 117\n",
            "Training loss, 0.06123925132676959\n",
            "Validation loss, 0.04993030235171318\n"
          ],
          "name": "stdout"
        },
        {
          "output_type": "stream",
          "text": [
            "\r 79%|███████▉  | 119/150 [22:30<05:51, 11.35s/it]"
          ],
          "name": "stderr"
        },
        {
          "output_type": "stream",
          "text": [
            "Epoch: 118\n",
            "Training loss, 0.06055690515786409\n",
            "Validation loss, 0.13511172942817212\n"
          ],
          "name": "stdout"
        },
        {
          "output_type": "stream",
          "text": [
            "\r 80%|████████  | 120/150 [22:41<05:40, 11.36s/it]"
          ],
          "name": "stderr"
        },
        {
          "output_type": "stream",
          "text": [
            "Epoch: 119\n",
            "Training loss, 0.06039187867194414\n",
            "Validation loss, 0.0469106226041913\n"
          ],
          "name": "stdout"
        },
        {
          "output_type": "stream",
          "text": [
            "\r 81%|████████  | 121/150 [22:52<05:29, 11.35s/it]"
          ],
          "name": "stderr"
        },
        {
          "output_type": "stream",
          "text": [
            "Epoch: 120\n",
            "Training loss, 0.05948964063078165\n",
            "Validation loss, 0.04605876129120588\n"
          ],
          "name": "stdout"
        },
        {
          "output_type": "stream",
          "text": [
            "\r 81%|████████▏ | 122/150 [23:04<05:17, 11.35s/it]"
          ],
          "name": "stderr"
        },
        {
          "output_type": "stream",
          "text": [
            "Epoch: 121\n",
            "Training loss, 0.059122873786836866\n",
            "Validation loss, 0.045784261524677274\n"
          ],
          "name": "stdout"
        },
        {
          "output_type": "stream",
          "text": [
            "\r 82%|████████▏ | 123/150 [23:15<05:06, 11.35s/it]"
          ],
          "name": "stderr"
        },
        {
          "output_type": "stream",
          "text": [
            "Epoch: 122\n",
            "Training loss, 0.05848377410322428\n",
            "Validation loss, 0.04709886342287064\n"
          ],
          "name": "stdout"
        },
        {
          "output_type": "stream",
          "text": [
            "\r 83%|████████▎ | 124/150 [23:26<04:55, 11.36s/it]"
          ],
          "name": "stderr"
        },
        {
          "output_type": "stream",
          "text": [
            "Epoch: 123\n",
            "Training loss, 0.058538321536034346\n",
            "Validation loss, 0.050086887329816816\n"
          ],
          "name": "stdout"
        },
        {
          "output_type": "stream",
          "text": [
            "\r 83%|████████▎ | 125/150 [23:38<04:43, 11.36s/it]"
          ],
          "name": "stderr"
        },
        {
          "output_type": "stream",
          "text": [
            "Epoch: 124\n",
            "Training loss, 0.05895138550549746\n",
            "Validation loss, 0.053172873109579084\n"
          ],
          "name": "stdout"
        },
        {
          "output_type": "stream",
          "text": [
            "\r 84%|████████▍ | 126/150 [23:49<04:32, 11.36s/it]"
          ],
          "name": "stderr"
        },
        {
          "output_type": "stream",
          "text": [
            "Epoch: 125\n",
            "Training loss, 0.057791437953710556\n",
            "Validation loss, 0.04708258431404829\n"
          ],
          "name": "stdout"
        },
        {
          "output_type": "stream",
          "text": [
            "\r 85%|████████▍ | 127/150 [24:00<04:21, 11.36s/it]"
          ],
          "name": "stderr"
        },
        {
          "output_type": "stream",
          "text": [
            "Epoch: 126\n",
            "Training loss, 0.05801528548821807\n",
            "Validation loss, 0.04641793455928564\n"
          ],
          "name": "stdout"
        },
        {
          "output_type": "stream",
          "text": [
            "\r 85%|████████▌ | 128/150 [24:12<04:09, 11.35s/it]"
          ],
          "name": "stderr"
        },
        {
          "output_type": "stream",
          "text": [
            "Epoch: 127\n",
            "Training loss, 0.05711307656019926\n",
            "Validation loss, 0.04328261397778988\n"
          ],
          "name": "stdout"
        },
        {
          "output_type": "stream",
          "text": [
            "\r 86%|████████▌ | 129/150 [24:23<03:58, 11.35s/it]"
          ],
          "name": "stderr"
        },
        {
          "output_type": "stream",
          "text": [
            "Epoch: 128\n",
            "Training loss, 0.056956233838573095\n",
            "Validation loss, 0.044037286564707755\n"
          ],
          "name": "stdout"
        },
        {
          "output_type": "stream",
          "text": [
            "\r 87%|████████▋ | 130/150 [24:34<03:46, 11.34s/it]"
          ],
          "name": "stderr"
        },
        {
          "output_type": "stream",
          "text": [
            "Epoch: 129\n",
            "Training loss, 0.05698996092192829\n",
            "Validation loss, 0.04442518875002861\n"
          ],
          "name": "stdout"
        },
        {
          "output_type": "stream",
          "text": [
            "\r 87%|████████▋ | 131/150 [24:46<03:35, 11.34s/it]"
          ],
          "name": "stderr"
        },
        {
          "output_type": "stream",
          "text": [
            "Epoch: 130\n",
            "Training loss, 0.05623810459859669\n",
            "Validation loss, 0.045383288003504274\n"
          ],
          "name": "stdout"
        },
        {
          "output_type": "stream",
          "text": [
            "\r 88%|████████▊ | 132/150 [24:57<03:24, 11.34s/it]"
          ],
          "name": "stderr"
        },
        {
          "output_type": "stream",
          "text": [
            "Epoch: 131\n",
            "Training loss, 0.05652427246794105\n",
            "Validation loss, 0.046691971085965636\n"
          ],
          "name": "stdout"
        },
        {
          "output_type": "stream",
          "text": [
            "\r 89%|████████▊ | 133/150 [25:08<03:12, 11.34s/it]"
          ],
          "name": "stderr"
        },
        {
          "output_type": "stream",
          "text": [
            "Epoch: 132\n",
            "Training loss, 0.055136840939521786\n",
            "Validation loss, 0.04173632811754942\n"
          ],
          "name": "stdout"
        },
        {
          "output_type": "stream",
          "text": [
            "\r 89%|████████▉ | 134/150 [25:20<03:01, 11.35s/it]"
          ],
          "name": "stderr"
        },
        {
          "output_type": "stream",
          "text": [
            "Epoch: 133\n",
            "Training loss, 0.05532099184580147\n",
            "Validation loss, 0.04660945121198892\n"
          ],
          "name": "stdout"
        },
        {
          "output_type": "stream",
          "text": [
            "\r 90%|█████████ | 135/150 [25:31<02:50, 11.34s/it]"
          ],
          "name": "stderr"
        },
        {
          "output_type": "stream",
          "text": [
            "Epoch: 134\n",
            "Training loss, 0.055089186411350965\n",
            "Validation loss, 0.04234079550951719\n"
          ],
          "name": "stdout"
        },
        {
          "output_type": "stream",
          "text": [
            "\r 91%|█████████ | 136/150 [25:43<02:38, 11.34s/it]"
          ],
          "name": "stderr"
        },
        {
          "output_type": "stream",
          "text": [
            "Epoch: 135\n",
            "Training loss, 0.054906663605943325\n",
            "Validation loss, 0.045842806436121465\n"
          ],
          "name": "stdout"
        },
        {
          "output_type": "stream",
          "text": [
            "\r 91%|█████████▏| 137/150 [25:54<02:27, 11.36s/it]"
          ],
          "name": "stderr"
        },
        {
          "output_type": "stream",
          "text": [
            "Epoch: 136\n",
            "Training loss, 0.05345655592158437\n",
            "Validation loss, 0.041770857498049735\n"
          ],
          "name": "stdout"
        },
        {
          "output_type": "stream",
          "text": [
            "\r 92%|█████████▏| 138/150 [26:05<02:16, 11.35s/it]"
          ],
          "name": "stderr"
        },
        {
          "output_type": "stream",
          "text": [
            "Epoch: 137\n",
            "Training loss, 0.05429274122230709\n",
            "Validation loss, 0.04699760261923075\n"
          ],
          "name": "stdout"
        },
        {
          "output_type": "stream",
          "text": [
            "\r 93%|█████████▎| 139/150 [26:17<02:04, 11.36s/it]"
          ],
          "name": "stderr"
        },
        {
          "output_type": "stream",
          "text": [
            "Epoch: 138\n",
            "Training loss, 0.05368214379996061\n",
            "Validation loss, 0.04172215256839991\n"
          ],
          "name": "stdout"
        },
        {
          "output_type": "stream",
          "text": [
            "\r 93%|█████████▎| 140/150 [26:28<01:53, 11.38s/it]"
          ],
          "name": "stderr"
        },
        {
          "output_type": "stream",
          "text": [
            "Epoch: 139\n",
            "Training loss, 0.05366371039301157\n",
            "Validation loss, 0.041228034310042856\n"
          ],
          "name": "stdout"
        },
        {
          "output_type": "stream",
          "text": [
            "\r 94%|█████████▍| 141/150 [26:39<01:42, 11.37s/it]"
          ],
          "name": "stderr"
        },
        {
          "output_type": "stream",
          "text": [
            "Epoch: 140\n",
            "Training loss, 0.05525237025693059\n",
            "Validation loss, 0.0439442815631628\n"
          ],
          "name": "stdout"
        },
        {
          "output_type": "stream",
          "text": [
            "\r 95%|█████████▍| 142/150 [26:51<01:30, 11.36s/it]"
          ],
          "name": "stderr"
        },
        {
          "output_type": "stream",
          "text": [
            "Epoch: 141\n",
            "Training loss, 0.05305318790487945\n",
            "Validation loss, 0.04518606349825859\n"
          ],
          "name": "stdout"
        },
        {
          "output_type": "stream",
          "text": [
            "\r 95%|█████████▌| 143/150 [27:02<01:19, 11.36s/it]"
          ],
          "name": "stderr"
        },
        {
          "output_type": "stream",
          "text": [
            "Epoch: 142\n",
            "Training loss, 0.05352581184357405\n",
            "Validation loss, 0.04098883938044309\n"
          ],
          "name": "stdout"
        },
        {
          "output_type": "stream",
          "text": [
            "\r 96%|█████████▌| 144/150 [27:13<01:08, 11.35s/it]"
          ],
          "name": "stderr"
        },
        {
          "output_type": "stream",
          "text": [
            "Epoch: 143\n",
            "Training loss, 0.05382865238934755\n",
            "Validation loss, 0.03939202334731817\n"
          ],
          "name": "stdout"
        },
        {
          "output_type": "stream",
          "text": [
            "\r 97%|█████████▋| 145/150 [27:25<00:56, 11.35s/it]"
          ],
          "name": "stderr"
        },
        {
          "output_type": "stream",
          "text": [
            "Epoch: 144\n",
            "Training loss, 0.052342361537739635\n",
            "Validation loss, 0.05065231472253799\n"
          ],
          "name": "stdout"
        },
        {
          "output_type": "stream",
          "text": [
            "\r 97%|█████████▋| 146/150 [27:36<00:45, 11.34s/it]"
          ],
          "name": "stderr"
        },
        {
          "output_type": "stream",
          "text": [
            "Epoch: 145\n",
            "Training loss, 0.052378475349396464\n",
            "Validation loss, 0.043743545040488246\n"
          ],
          "name": "stdout"
        },
        {
          "output_type": "stream",
          "text": [
            "\r 98%|█████████▊| 147/150 [27:47<00:34, 11.35s/it]"
          ],
          "name": "stderr"
        },
        {
          "output_type": "stream",
          "text": [
            "Epoch: 146\n",
            "Training loss, 0.05413270055316389\n",
            "Validation loss, 0.04570782866328955\n"
          ],
          "name": "stdout"
        },
        {
          "output_type": "stream",
          "text": [
            "\r 99%|█████████▊| 148/150 [27:59<00:22, 11.35s/it]"
          ],
          "name": "stderr"
        },
        {
          "output_type": "stream",
          "text": [
            "Epoch: 147\n",
            "Training loss, 0.05764994266442955\n",
            "Validation loss, 0.03897725909948349\n"
          ],
          "name": "stdout"
        },
        {
          "output_type": "stream",
          "text": [
            "\r 99%|█████████▉| 149/150 [28:10<00:11, 11.35s/it]"
          ],
          "name": "stderr"
        },
        {
          "output_type": "stream",
          "text": [
            "Epoch: 148\n",
            "Training loss, 0.05183361416682601\n",
            "Validation loss, 0.03875571314245462\n"
          ],
          "name": "stdout"
        },
        {
          "output_type": "stream",
          "text": [
            "100%|██████████| 150/150 [28:22<00:00, 11.35s/it]"
          ],
          "name": "stderr"
        },
        {
          "output_type": "stream",
          "text": [
            "Epoch: 149\n",
            "Training loss, 0.050515194246545436\n",
            "Validation loss, 0.03781149663031101\n"
          ],
          "name": "stdout"
        },
        {
          "output_type": "stream",
          "text": [
            "\n"
          ],
          "name": "stderr"
        },
        {
          "output_type": "display_data",
          "data": {
            "image/png": "[encoded data removed]",
            "text/plain": [
              "<Figure size 432x288 with 1 Axes>"
            ]
          },
          "metadata": {
            "tags": [],
            "needs_background": "light"
          }
        }
      ]
    },
    {
      "cell_type": "code",
      "metadata": {
        "pycharm": {
          "name": "#%%\n"
        },
        "id": "u6ge_zTSHViq",
        "colab": {
          "base_uri": "https://localhost:8080/"
        },
        "outputId": "27bf4b58-8b04-4b35-a37e-6ac698f81fae"
      },
      "source": [
        "def predict(test_dataloader, model, device):\n",
        "    model.eval()\n",
        "    outputs = []\n",
        "    for batch in tqdm(test_dataloader):\n",
        "        x, y = batch\n",
        "        input, target = x.to(device=device, dtype=torch.float), y.to(device=device)  # send to device (GPU or CPU)\n",
        "        with torch.no_grad():\n",
        "            output = model(input)   # one forward pass\n",
        "            outputs.append(torch.argmax(output, dim=1).cpu().detach().numpy())\n",
        "    return np.vstack(outputs)\n",
        "\n",
        "test_pred = predict(test_dataloader, model, device)"
      ],
      "execution_count": 16,
      "outputs": [
        {
          "output_type": "stream",
          "text": [
            "100%|██████████| 63/63 [00:01<00:00, 45.98it/s]\n"
          ],
          "name": "stderr"
        }
      ]
    },
    {
      "cell_type": "code",
      "metadata": {
        "pycharm": {
          "name": "#%%\n"
        },
        "id": "URH3IB7AHViq",
        "colab": {
          "base_uri": "https://localhost:8080/"
        },
        "outputId": "6705e3a9-015e-4a9a-b8e8-3c101902404c"
      },
      "source": [
        "acc = np.sum(test_pred == test_y) / (test_y.shape[0] * test_y.shape[1])\n",
        "print(acc)"
      ],
      "execution_count": 17,
      "outputs": [
        {
          "output_type": "stream",
          "text": [
            "0.988977\n"
          ],
          "name": "stdout"
        }
      ]
    },
    {
      "cell_type": "code",
      "metadata": {
        "colab": {
          "base_uri": "https://localhost:8080/"
        },
        "id": "hawy9RLyk5l-",
        "outputId": "5637ddc4-8064-4a69-a949-e60a75b362af"
      },
      "source": [
        "# get multiclassification statistics    \n",
        "    \n",
        "from sklearn.metrics import precision_recall_fscore_support as score\n",
        "\n",
        "y_test_array = test_y.reshape(-1)\n",
        "predicted_array = test_pred.reshape(-1)\n",
        "\n",
        "precision, recall, fscore, support = score(y_test_array, predicted_array)\n",
        "\n",
        "print('precision: {}'.format(precision))\n",
        "print('recall: {}'.format(recall))\n",
        "print('fscore: {}'.format(fscore))\n",
        "print('support: {}'.format(support))"
      ],
      "execution_count": 20,
      "outputs": [
        {
          "output_type": "stream",
          "text": [
            "precision: [0.97773348 0.98402466 0.97219372 0.9959041  0.99401524 0.99898654]\n",
            "recall: [0.97406808 0.98279014 0.98422773 0.9936761  0.99057554 0.99966029]\n",
            "fscore: [0.97589734 0.98340701 0.97817371 0.99478885 0.99229241 0.9993233 ]\n",
            "support: [264346 259851 269587 407660 398219 400337]\n"
          ],
          "name": "stdout"
        }
      ]
    }
  ]
}