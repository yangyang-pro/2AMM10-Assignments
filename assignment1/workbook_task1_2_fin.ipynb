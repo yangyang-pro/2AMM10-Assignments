{
  "nbformat": 4,
  "nbformat_minor": 0,
  "metadata": {
    "kernelspec": {
      "display_name": "Python 3",
      "language": "python",
      "name": "python3"
    },
    "language_info": {
      "codemirror_mode": {
        "name": "ipython",
        "version": 3
      },
      "file_extension": ".py",
      "mimetype": "text/x-python",
      "name": "python",
      "nbconvert_exporter": "python",
      "pygments_lexer": "ipython3",
      "version": "3.8.5"
    },
    "colab": {
      "name": "workbook-task1.2_fin.ipynb",
      "provenance": [],
      "collapsed_sections": [],
      "machine_shape": "hm"
    },
    "accelerator": "GPU"
  },
  "cells": [
    {
      "cell_type": "markdown",
      "metadata": {
        "id": "z-CT20VbHVih"
      },
      "source": [
        "<a href=\"https://colab.research.google.com/github/vlamen/tue-deeplearning/blob/main/assignments/assignment1/workbook-task1.2.ipynb\" target=\"_parent\"><img src=\"https://colab.research.google.com/assets/colab-badge.svg\" alt=\"Open In Colab\"/></a>"
      ]
    },
    {
      "cell_type": "markdown",
      "metadata": {
        "id": "0DuLfzplHVij"
      },
      "source": [
        "TODO: Modify this cell to add your group name, group number and your names and student IDs\n",
        "\n",
        "Group: 99\n",
        "\n",
        "Authors:"
      ]
    },
    {
      "cell_type": "code",
      "metadata": {
        "colab": {
          "base_uri": "https://localhost:8080/"
        },
        "id": "iJKoLVH-HVik",
        "outputId": "4483dff4-f865-4b29-d205-88efa126a6bb"
      },
      "source": [
        "import requests\n",
        "import io\n",
        "import pandas as pd\n",
        "import xarray as xa\n",
        "\n",
        "%pylab inline"
      ],
      "execution_count": 1,
      "outputs": [
        {
          "output_type": "stream",
          "text": [
            "Populating the interactive namespace from numpy and matplotlib\n"
          ],
          "name": "stdout"
        }
      ]
    },
    {
      "cell_type": "markdown",
      "metadata": {
        "id": "eM7S4Zs4HVil"
      },
      "source": [
        "### Load training/testing dataset"
      ]
    },
    {
      "cell_type": "code",
      "metadata": {
        "colab": {
          "base_uri": "https://localhost:8080/"
        },
        "id": "5UD-2MybHVil",
        "outputId": "52dd3e4c-abd9-4d94-c309-be7906becd62"
      },
      "source": [
        "def load_dataset_from_url(url):\n",
        "    \"\"\"\n",
        "    Loads a dataset from surfdrive. \n",
        "    \n",
        "    Input:\n",
        "    url: Download link of dataset \n",
        "    \n",
        "    Outputs:\n",
        "    x: Input features in numpy array format\n",
        "    y: Targets/labels in numpy array format\n",
        "    \"\"\"\n",
        "    \n",
        "    response = requests.get(url)\n",
        "    response.raise_for_status()\n",
        "    \n",
        "    dataset = np.load(io.BytesIO(response.content)) \n",
        "    \n",
        "    x, y = np.split(dataset, [9], axis=2)\n",
        "    \n",
        "    return x, y\n",
        "    \n",
        "    \n",
        "# Downloading may take a while..\n",
        "train_x, train_y = load_dataset_from_url('https://surfdrive.surf.nl/files/index.php/s/gVrTFgSJ1rWl1IN/download')\n",
        "test_x, test_y = load_dataset_from_url('https://surfdrive.surf.nl/files/index.php/s/JR0WXbrzzTAmwEB/download')\n",
        "\n",
        "print(f\"train_x shape: {train_x.shape}\")\n",
        "print(f\"train_y shape: {train_y.shape}\\n\")\n",
        "\n",
        "print(f\"test_x shape: {test_x.shape}\")\n",
        "print(f\"test_y shape: {test_y.shape}\")"
      ],
      "execution_count": 2,
      "outputs": [
        {
          "output_type": "stream",
          "text": [
            "train_x shape: (10000, 1000, 9)\n",
            "train_y shape: (10000, 1000, 1)\n",
            "\n",
            "test_x shape: (2000, 1000, 9)\n",
            "test_y shape: (2000, 1000, 1)\n"
          ],
          "name": "stdout"
        }
      ]
    },
    {
      "cell_type": "markdown",
      "metadata": {
        "id": "24ahHTsdHVim"
      },
      "source": [
        "### Visualize some of the training samples"
      ]
    },
    {
      "cell_type": "code",
      "metadata": {
        "id": "oBSxUFpvHVin"
      },
      "source": [
        "#TODO Implement the solution to task 2 of assignment 1\n",
        "\n",
        "train_y, test_y = train_y.squeeze(-1), test_y.squeeze(-1)"
      ],
      "execution_count": 3,
      "outputs": []
    },
    {
      "cell_type": "code",
      "metadata": {
        "pycharm": {
          "name": "#%%\n"
        },
        "id": "GxxkCeW8HVin"
      },
      "source": [
        "import torch\n",
        "from sklearn.model_selection import train_test_split\n",
        "from torch.utils.data import TensorDataset\n",
        "from torch.utils.data import DataLoader\n",
        "from torch import nn\n",
        "import numpy as np"
      ],
      "execution_count": 4,
      "outputs": []
    },
    {
      "cell_type": "code",
      "metadata": {
        "pycharm": {
          "name": "#%%\n"
        },
        "id": "CkE6yrB3HVin"
      },
      "source": [
        "class RNNClassifier(nn.Module):\n",
        "    def __init__(self, input_size, hidden_size, num_classes, num_layers):\n",
        "        super().__init__()\n",
        "        self.conv = nn.Sequential(\n",
        "            nn.Conv1d(in_channels=input_size, out_channels=64, kernel_size=3, padding=1),\n",
        "            nn.ReLU(inplace=True),\n",
        "            nn.Conv1d(in_channels=64, out_channels=64, kernel_size=3, padding=1),\n",
        "            nn.ReLU(inplace=True),\n",
        "            nn.Dropout(0.5)\n",
        "        )\n",
        "        self.rnn = nn.LSTM(input_size=64, hidden_size=hidden_size, num_layers=num_layers, batch_first=True)\n",
        "        self.fc = nn.Linear(in_features=hidden_size, out_features=num_classes)\n",
        "\n",
        "    def forward(self, x):\n",
        "        x = x.permute(0, 2, 1)\n",
        "        x = self.conv(x).permute(0, 2, 1)\n",
        "        x, (_, _) = self.rnn(x)\n",
        "        x = self.fc(x)\n",
        "        return x.permute(0, 2, 1)"
      ],
      "execution_count": 5,
      "outputs": []
    },
    {
      "cell_type": "code",
      "metadata": {
        "pycharm": {
          "name": "#%%\n"
        },
        "id": "6Xng21KoHVio"
      },
      "source": [
        "from tqdm import tqdm\n",
        "import matplotlib.pyplot as plt\n",
        "\n",
        "class Trainer():\n",
        "    def __init__(self,\n",
        "                 model: torch.nn.Module,\n",
        "                 device: torch.device,\n",
        "                 criterion: torch.nn.Module,\n",
        "                 optimizer: torch.optim.Optimizer,\n",
        "                 training_dataLoader: torch.utils.data.Dataset,\n",
        "                 validation_dataLoader: torch.utils.data.Dataset ,\n",
        "                 epochs: int\n",
        "                 ):\n",
        "        self.model = model\n",
        "        self.criterion = criterion\n",
        "        self.optimizer = optimizer\n",
        "        self.training_dataLoader = training_dataLoader\n",
        "        self.validation_dataLoader = validation_dataLoader\n",
        "        self.device = device\n",
        "        self.epochs = epochs\n",
        "\n",
        "    def run_trainer(self):\n",
        "        train_losses_total = []\n",
        "        val_losses_total = []\n",
        "        for epoch in tqdm(range(self.epochs)):\n",
        "            self.model.train()  # train mode\n",
        "            train_losses=[]\n",
        "            for batch in self.training_dataLoader:\n",
        "                x, y = batch\n",
        "                input, target = x.to(device=self.device, dtype=torch.float), y.to(self.device) # send to device (GPU or CPU)\n",
        "                self.optimizer.zero_grad()  # zerograd the parameters\n",
        "                out = self.model(input)  # one forward pass\n",
        "                loss = self.criterion(out, target)  # calculate training loss\n",
        "\n",
        "                loss_value = loss.item()\n",
        "                train_losses.append(loss_value)\n",
        "\n",
        "                loss.backward()  # one backward pass\n",
        "                self.optimizer.step()  # update the parameters\n",
        "\n",
        "            self.model.eval()  # evaluation mode\n",
        "            val_losses = []  # accumulate the losses here\n",
        "\n",
        "            for batch in self.validation_dataLoader:\n",
        "                x, y = batch\n",
        "                input, target = x.to(device=self.device, dtype=torch.float), y.to(device=self.device)  # send to device (GPU or CPU)\n",
        "                with torch.no_grad():\n",
        "                    out = self.model(input)   # one forward pass\n",
        "                    loss = self.criterion(out, target) # calculate validation loss\n",
        "                  \n",
        "                    loss_value = loss.item()\n",
        "                    val_losses.append(loss_value)\n",
        "                    \n",
        "            print('Epoch:', epoch)\n",
        "            print('Training loss,', np.mean(train_losses))\n",
        "            print('Validation loss,', np.mean(val_losses))\n",
        "\n",
        "            train_losses_total.append(np.mean(train_losses))\n",
        "            val_losses_total.append(np.mean(val_losses))\n",
        "          \n",
        "\n",
        "        plt.plot(range(1, self.epochs + 1), train_losses_total, 'g', label='Training loss')\n",
        "        plt.plot(range(1, self.epochs + 1), val_losses_total, 'b', label='Validation loss')\n",
        "\n",
        "        plt.title('Training and Validation loss')\n",
        "        plt.xlabel('Epochs')\n",
        "        plt.ylabel('Loss')\n",
        "        plt.legend()\n",
        "        plt.savefig('loss.png')\n",
        "        plt.show()"
      ],
      "execution_count": 6,
      "outputs": []
    },
    {
      "cell_type": "code",
      "metadata": {
        "pycharm": {
          "name": "#%%\n"
        },
        "id": "mcuYHNzeHVip"
      },
      "source": [
        "device = torch.device('cuda' if torch.cuda.is_available() else 'cpu')\n",
        "#device = xm.xla_device() if os.environ['COLAB_TPU_ADDR'] else torch.device('cpu')\n",
        "BATCH_SIZE = 32\n",
        "NUM_CLASSES = 6\n",
        "NUM_FEATURES = 9\n",
        "HIDDEN_SIZE = 128\n",
        "NUM_RNN_LAYERS = 1\n",
        "NUM_EPOCH = 150"
      ],
      "execution_count": 7,
      "outputs": []
    },
    {
      "cell_type": "code",
      "metadata": {
        "pycharm": {
          "name": "#%%\n"
        },
        "id": "vcQ5cWG6HVip"
      },
      "source": [
        "train_x, val_x, train_y, val_y = train_test_split(train_x, train_y, test_size=0.2)\n",
        "train_data = TensorDataset(torch.tensor(train_x), torch.tensor(train_y, dtype=torch.long))\n",
        "val_data = TensorDataset(torch.tensor(val_x), torch.tensor(val_y, dtype=torch.long))\n",
        "test_data = TensorDataset(torch.tensor(test_x), torch.tensor(test_y, dtype=torch.long))\n",
        "\n",
        "train_dataloader = DataLoader(train_data, batch_size=BATCH_SIZE)\n",
        "val_dataloader = DataLoader(val_data, batch_size=BATCH_SIZE)\n",
        "test_dataloader = DataLoader(test_data, batch_size=BATCH_SIZE)\n",
        "\n",
        "model = RNNClassifier(input_size=NUM_FEATURES, hidden_size=HIDDEN_SIZE, num_classes=NUM_CLASSES, num_layers=NUM_RNN_LAYERS).to(device)\n",
        "\n",
        "criterion = nn.CrossEntropyLoss()\n",
        "optimizer = torch.optim.SGD(model.parameters(), lr=0.001, momentum=0.9)\n",
        "\n",
        "trainer = Trainer(model=model, device=device, criterion=criterion, optimizer=optimizer, training_dataLoader=train_dataloader, validation_dataLoader=val_dataloader, epochs=NUM_EPOCH)"
      ],
      "execution_count": 8,
      "outputs": []
    },
    {
      "cell_type": "code",
      "metadata": {
        "pycharm": {
          "name": "#%%\n",
          "is_executing": true
        },
        "colab": {
          "base_uri": "https://localhost:8080/",
          "height": 1000
        },
        "id": "heMukpA5HVip",
        "outputId": "e7ec2798-6360-41cc-a28f-aa63a62e7f19"
      },
      "source": [
        "trainer.run_trainer()"
      ],
      "execution_count": 9,
      "outputs": [
        {
          "output_type": "stream",
          "text": [
            "  1%|          | 1/150 [00:12<30:35, 12.32s/it]"
          ],
          "name": "stderr"
        },
        {
          "output_type": "stream",
          "text": [
            "Epoch: 0\n",
            "Training loss, 1.7813359208106994\n",
            "Validation loss, 1.7761573375217499\n"
          ],
          "name": "stdout"
        },
        {
          "output_type": "stream",
          "text": [
            "\r  1%|▏         | 2/150 [00:24<30:16, 12.27s/it]"
          ],
          "name": "stderr"
        },
        {
          "output_type": "stream",
          "text": [
            "Epoch: 1\n",
            "Training loss, 1.7716278805732728\n",
            "Validation loss, 1.7711497053267464\n"
          ],
          "name": "stdout"
        },
        {
          "output_type": "stream",
          "text": [
            "\r  2%|▏         | 3/150 [00:36<30:00, 12.25s/it]"
          ],
          "name": "stderr"
        },
        {
          "output_type": "stream",
          "text": [
            "Epoch: 2\n",
            "Training loss, 1.7678604683876038\n",
            "Validation loss, 1.7683957455650208\n"
          ],
          "name": "stdout"
        },
        {
          "output_type": "stream",
          "text": [
            "\r  3%|▎         | 4/150 [00:48<29:46, 12.24s/it]"
          ],
          "name": "stderr"
        },
        {
          "output_type": "stream",
          "text": [
            "Epoch: 3\n",
            "Training loss, 1.7649985241889954\n",
            "Validation loss, 1.7653538140039595\n"
          ],
          "name": "stdout"
        },
        {
          "output_type": "stream",
          "text": [
            "\r  3%|▎         | 5/150 [01:01<29:32, 12.22s/it]"
          ],
          "name": "stderr"
        },
        {
          "output_type": "stream",
          "text": [
            "Epoch: 4\n",
            "Training loss, 1.7612072730064392\n",
            "Validation loss, 1.7604972067333402\n"
          ],
          "name": "stdout"
        },
        {
          "output_type": "stream",
          "text": [
            "\r  4%|▍         | 6/150 [01:13<29:19, 12.22s/it]"
          ],
          "name": "stderr"
        },
        {
          "output_type": "stream",
          "text": [
            "Epoch: 5\n",
            "Training loss, 1.7546934638023377\n",
            "Validation loss, 1.751395619104779\n"
          ],
          "name": "stdout"
        },
        {
          "output_type": "stream",
          "text": [
            "\r  5%|▍         | 7/150 [01:25<29:07, 12.22s/it]"
          ],
          "name": "stderr"
        },
        {
          "output_type": "stream",
          "text": [
            "Epoch: 6\n",
            "Training loss, 1.7413120279312133\n",
            "Validation loss, 1.7308734182327512\n"
          ],
          "name": "stdout"
        },
        {
          "output_type": "stream",
          "text": [
            "\r  5%|▌         | 8/150 [01:37<28:54, 12.21s/it]"
          ],
          "name": "stderr"
        },
        {
          "output_type": "stream",
          "text": [
            "Epoch: 7\n",
            "Training loss, 1.7062977032661437\n",
            "Validation loss, 1.6700429992070274\n"
          ],
          "name": "stdout"
        },
        {
          "output_type": "stream",
          "text": [
            "\r  6%|▌         | 9/150 [01:49<28:43, 12.22s/it]"
          ],
          "name": "stderr"
        },
        {
          "output_type": "stream",
          "text": [
            "Epoch: 8\n",
            "Training loss, 1.5901189451217652\n",
            "Validation loss, 1.4715946307258\n"
          ],
          "name": "stdout"
        },
        {
          "output_type": "stream",
          "text": [
            "\r  7%|▋         | 10/150 [02:02<28:33, 12.24s/it]"
          ],
          "name": "stderr"
        },
        {
          "output_type": "stream",
          "text": [
            "Epoch: 9\n",
            "Training loss, 1.3891576800346375\n",
            "Validation loss, 1.3212831550174289\n"
          ],
          "name": "stdout"
        },
        {
          "output_type": "stream",
          "text": [
            "\r  7%|▋         | 11/150 [02:14<28:23, 12.25s/it]"
          ],
          "name": "stderr"
        },
        {
          "output_type": "stream",
          "text": [
            "Epoch: 10\n",
            "Training loss, 1.30777543592453\n",
            "Validation loss, 1.2791104619465177\n"
          ],
          "name": "stdout"
        },
        {
          "output_type": "stream",
          "text": [
            "\r  8%|▊         | 12/150 [02:26<28:15, 12.29s/it]"
          ],
          "name": "stderr"
        },
        {
          "output_type": "stream",
          "text": [
            "Epoch: 11\n",
            "Training loss, 1.2710904211997986\n",
            "Validation loss, 1.2411900493833754\n"
          ],
          "name": "stdout"
        },
        {
          "output_type": "stream",
          "text": [
            "\r  9%|▊         | 13/150 [02:39<28:05, 12.30s/it]"
          ],
          "name": "stderr"
        },
        {
          "output_type": "stream",
          "text": [
            "Epoch: 12\n",
            "Training loss, 1.2270458817481995\n",
            "Validation loss, 1.1746741873877389\n"
          ],
          "name": "stdout"
        },
        {
          "output_type": "stream",
          "text": [
            "\r  9%|▉         | 14/150 [02:51<27:54, 12.32s/it]"
          ],
          "name": "stderr"
        },
        {
          "output_type": "stream",
          "text": [
            "Epoch: 13\n",
            "Training loss, 1.1537436270713806\n",
            "Validation loss, 1.0904559862046015\n"
          ],
          "name": "stdout"
        },
        {
          "output_type": "stream",
          "text": [
            "\r 10%|█         | 15/150 [03:03<27:46, 12.34s/it]"
          ],
          "name": "stderr"
        },
        {
          "output_type": "stream",
          "text": [
            "Epoch: 14\n",
            "Training loss, 1.0784749960899354\n",
            "Validation loss, 1.0310970611042447\n"
          ],
          "name": "stdout"
        },
        {
          "output_type": "stream",
          "text": [
            "\r 11%|█         | 16/150 [03:16<27:35, 12.36s/it]"
          ],
          "name": "stderr"
        },
        {
          "output_type": "stream",
          "text": [
            "Epoch: 15\n",
            "Training loss, 1.0375851039886475\n",
            "Validation loss, 0.9955720333825975\n"
          ],
          "name": "stdout"
        },
        {
          "output_type": "stream",
          "text": [
            "\r 11%|█▏        | 17/150 [03:28<27:24, 12.36s/it]"
          ],
          "name": "stderr"
        },
        {
          "output_type": "stream",
          "text": [
            "Epoch: 16\n",
            "Training loss, 1.0155962505340577\n",
            "Validation loss, 0.9795976205477639\n"
          ],
          "name": "stdout"
        },
        {
          "output_type": "stream",
          "text": [
            "\r 12%|█▏        | 18/150 [03:41<27:11, 12.36s/it]"
          ],
          "name": "stderr"
        },
        {
          "output_type": "stream",
          "text": [
            "Epoch: 17\n",
            "Training loss, 0.9972927579879761\n",
            "Validation loss, 0.9618785948980422\n"
          ],
          "name": "stdout"
        },
        {
          "output_type": "stream",
          "text": [
            "\r 13%|█▎        | 19/150 [03:53<27:00, 12.37s/it]"
          ],
          "name": "stderr"
        },
        {
          "output_type": "stream",
          "text": [
            "Epoch: 18\n",
            "Training loss, 0.9837203583717347\n",
            "Validation loss, 0.9472400517690749\n"
          ],
          "name": "stdout"
        },
        {
          "output_type": "stream",
          "text": [
            "\r 13%|█▎        | 20/150 [04:05<26:48, 12.37s/it]"
          ],
          "name": "stderr"
        },
        {
          "output_type": "stream",
          "text": [
            "Epoch: 19\n",
            "Training loss, 0.9703829996585845\n",
            "Validation loss, 0.9291172103276328\n"
          ],
          "name": "stdout"
        },
        {
          "output_type": "stream",
          "text": [
            "\r 14%|█▍        | 21/150 [04:18<26:35, 12.37s/it]"
          ],
          "name": "stderr"
        },
        {
          "output_type": "stream",
          "text": [
            "Epoch: 20\n",
            "Training loss, 0.9597966289520263\n",
            "Validation loss, 0.9158892007101149\n"
          ],
          "name": "stdout"
        },
        {
          "output_type": "stream",
          "text": [
            "\r 15%|█▍        | 22/150 [04:30<26:22, 12.36s/it]"
          ],
          "name": "stderr"
        },
        {
          "output_type": "stream",
          "text": [
            "Epoch: 21\n",
            "Training loss, 0.948568567276001\n",
            "Validation loss, 0.9025340742535062\n"
          ],
          "name": "stdout"
        },
        {
          "output_type": "stream",
          "text": [
            "\r 15%|█▌        | 23/150 [04:42<26:10, 12.37s/it]"
          ],
          "name": "stderr"
        },
        {
          "output_type": "stream",
          "text": [
            "Epoch: 22\n",
            "Training loss, 0.9386785635948182\n",
            "Validation loss, 0.8919828988256908\n"
          ],
          "name": "stdout"
        },
        {
          "output_type": "stream",
          "text": [
            "\r 16%|█▌        | 24/150 [04:55<25:58, 12.37s/it]"
          ],
          "name": "stderr"
        },
        {
          "output_type": "stream",
          "text": [
            "Epoch: 23\n",
            "Training loss, 0.929900028705597\n",
            "Validation loss, 0.884141414884537\n"
          ],
          "name": "stdout"
        },
        {
          "output_type": "stream",
          "text": [
            "\r 17%|█▋        | 25/150 [05:07<25:45, 12.36s/it]"
          ],
          "name": "stderr"
        },
        {
          "output_type": "stream",
          "text": [
            "Epoch: 24\n",
            "Training loss, 0.9213615739345551\n",
            "Validation loss, 0.8812778620492845\n"
          ],
          "name": "stdout"
        },
        {
          "output_type": "stream",
          "text": [
            "\r 17%|█▋        | 26/150 [05:20<25:33, 12.37s/it]"
          ],
          "name": "stderr"
        },
        {
          "output_type": "stream",
          "text": [
            "Epoch: 25\n",
            "Training loss, 0.9118349423408508\n",
            "Validation loss, 0.8764277639843169\n"
          ],
          "name": "stdout"
        },
        {
          "output_type": "stream",
          "text": [
            "\r 18%|█▊        | 27/150 [05:32<25:21, 12.37s/it]"
          ],
          "name": "stderr"
        },
        {
          "output_type": "stream",
          "text": [
            "Epoch: 26\n",
            "Training loss, 0.904509523153305\n",
            "Validation loss, 0.8728064468928746\n"
          ],
          "name": "stdout"
        },
        {
          "output_type": "stream",
          "text": [
            "\r 19%|█▊        | 28/150 [05:44<25:09, 12.38s/it]"
          ],
          "name": "stderr"
        },
        {
          "output_type": "stream",
          "text": [
            "Epoch: 27\n",
            "Training loss, 0.8976281638145447\n",
            "Validation loss, 0.8662725213974242\n"
          ],
          "name": "stdout"
        },
        {
          "output_type": "stream",
          "text": [
            "\r 19%|█▉        | 29/150 [05:57<24:57, 12.38s/it]"
          ],
          "name": "stderr"
        },
        {
          "output_type": "stream",
          "text": [
            "Epoch: 28\n",
            "Training loss, 0.890356968164444\n",
            "Validation loss, 0.85390257456946\n"
          ],
          "name": "stdout"
        },
        {
          "output_type": "stream",
          "text": [
            "\r 20%|██        | 30/150 [06:09<24:45, 12.38s/it]"
          ],
          "name": "stderr"
        },
        {
          "output_type": "stream",
          "text": [
            "Epoch: 29\n",
            "Training loss, 0.8848293595314026\n",
            "Validation loss, 0.853035344963982\n"
          ],
          "name": "stdout"
        },
        {
          "output_type": "stream",
          "text": [
            "\r 21%|██        | 31/150 [06:21<24:32, 12.38s/it]"
          ],
          "name": "stderr"
        },
        {
          "output_type": "stream",
          "text": [
            "Epoch: 30\n",
            "Training loss, 0.8770312612056732\n",
            "Validation loss, 0.8381052509186759\n"
          ],
          "name": "stdout"
        },
        {
          "output_type": "stream",
          "text": [
            "\r 21%|██▏       | 32/150 [06:34<24:20, 12.38s/it]"
          ],
          "name": "stderr"
        },
        {
          "output_type": "stream",
          "text": [
            "Epoch: 31\n",
            "Training loss, 0.8663847668170929\n",
            "Validation loss, 0.8288935053916204\n"
          ],
          "name": "stdout"
        },
        {
          "output_type": "stream",
          "text": [
            "\r 22%|██▏       | 33/150 [06:46<24:07, 12.37s/it]"
          ],
          "name": "stderr"
        },
        {
          "output_type": "stream",
          "text": [
            "Epoch: 32\n",
            "Training loss, 0.8582474303245544\n",
            "Validation loss, 0.8222400981282431\n"
          ],
          "name": "stdout"
        },
        {
          "output_type": "stream",
          "text": [
            "\r 23%|██▎       | 34/150 [06:59<23:54, 12.37s/it]"
          ],
          "name": "stderr"
        },
        {
          "output_type": "stream",
          "text": [
            "Epoch: 33\n",
            "Training loss, 0.8477877066135406\n",
            "Validation loss, 0.8061645636482845\n"
          ],
          "name": "stdout"
        },
        {
          "output_type": "stream",
          "text": [
            "\r 23%|██▎       | 35/150 [07:11<23:42, 12.37s/it]"
          ],
          "name": "stderr"
        },
        {
          "output_type": "stream",
          "text": [
            "Epoch: 34\n",
            "Training loss, 0.8330297346115112\n",
            "Validation loss, 0.7944851016241407\n"
          ],
          "name": "stdout"
        },
        {
          "output_type": "stream",
          "text": [
            "\r 24%|██▍       | 36/150 [07:23<23:30, 12.37s/it]"
          ],
          "name": "stderr"
        },
        {
          "output_type": "stream",
          "text": [
            "Epoch: 35\n",
            "Training loss, 0.8126003322601318\n",
            "Validation loss, 0.7783705270479596\n"
          ],
          "name": "stdout"
        },
        {
          "output_type": "stream",
          "text": [
            "\r 25%|██▍       | 37/150 [07:36<23:17, 12.37s/it]"
          ],
          "name": "stderr"
        },
        {
          "output_type": "stream",
          "text": [
            "Epoch: 36\n",
            "Training loss, 0.7841058666706086\n",
            "Validation loss, 0.7471952466737657\n"
          ],
          "name": "stdout"
        },
        {
          "output_type": "stream",
          "text": [
            "\r 25%|██▌       | 38/150 [07:48<23:04, 12.37s/it]"
          ],
          "name": "stderr"
        },
        {
          "output_type": "stream",
          "text": [
            "Epoch: 37\n",
            "Training loss, 0.7492916209697723\n",
            "Validation loss, 0.6778387720622714\n"
          ],
          "name": "stdout"
        },
        {
          "output_type": "stream",
          "text": [
            "\r 26%|██▌       | 39/150 [08:00<22:52, 12.36s/it]"
          ],
          "name": "stderr"
        },
        {
          "output_type": "stream",
          "text": [
            "Epoch: 38\n",
            "Training loss, 0.6917899270057678\n",
            "Validation loss, 0.7203385640704443\n"
          ],
          "name": "stdout"
        },
        {
          "output_type": "stream",
          "text": [
            "\r 27%|██▋       | 40/150 [08:13<22:40, 12.37s/it]"
          ],
          "name": "stderr"
        },
        {
          "output_type": "stream",
          "text": [
            "Epoch: 39\n",
            "Training loss, 0.6184348119497299\n",
            "Validation loss, 0.5582241240947966\n"
          ],
          "name": "stdout"
        },
        {
          "output_type": "stream",
          "text": [
            "\r 27%|██▋       | 41/150 [08:25<22:29, 12.38s/it]"
          ],
          "name": "stderr"
        },
        {
          "output_type": "stream",
          "text": [
            "Epoch: 40\n",
            "Training loss, 0.5821313494443894\n",
            "Validation loss, 0.5341539387665097\n"
          ],
          "name": "stdout"
        },
        {
          "output_type": "stream",
          "text": [
            "\r 28%|██▊       | 42/150 [08:38<22:16, 12.38s/it]"
          ],
          "name": "stderr"
        },
        {
          "output_type": "stream",
          "text": [
            "Epoch: 41\n",
            "Training loss, 0.5645143504142761\n",
            "Validation loss, 0.509146839853317\n"
          ],
          "name": "stdout"
        },
        {
          "output_type": "stream",
          "text": [
            "\r 29%|██▊       | 43/150 [08:50<22:04, 12.38s/it]"
          ],
          "name": "stderr"
        },
        {
          "output_type": "stream",
          "text": [
            "Epoch: 42\n",
            "Training loss, 0.5253191251754761\n",
            "Validation loss, 0.4898224766292269\n"
          ],
          "name": "stdout"
        },
        {
          "output_type": "stream",
          "text": [
            "\r 29%|██▉       | 44/150 [09:02<21:52, 12.38s/it]"
          ],
          "name": "stderr"
        },
        {
          "output_type": "stream",
          "text": [
            "Epoch: 43\n",
            "Training loss, 0.5008390908241271\n",
            "Validation loss, 0.46477307402898393\n"
          ],
          "name": "stdout"
        },
        {
          "output_type": "stream",
          "text": [
            "\r 30%|███       | 45/150 [09:15<21:39, 12.38s/it]"
          ],
          "name": "stderr"
        },
        {
          "output_type": "stream",
          "text": [
            "Epoch: 44\n",
            "Training loss, 0.4758034915924072\n",
            "Validation loss, 0.4202502407724895\n"
          ],
          "name": "stdout"
        },
        {
          "output_type": "stream",
          "text": [
            "\r 31%|███       | 46/150 [09:27<21:27, 12.38s/it]"
          ],
          "name": "stderr"
        },
        {
          "output_type": "stream",
          "text": [
            "Epoch: 45\n",
            "Training loss, 0.4582455185651779\n",
            "Validation loss, 0.4163645094349271\n"
          ],
          "name": "stdout"
        },
        {
          "output_type": "stream",
          "text": [
            "\r 31%|███▏      | 47/150 [09:39<21:15, 12.38s/it]"
          ],
          "name": "stderr"
        },
        {
          "output_type": "stream",
          "text": [
            "Epoch: 46\n",
            "Training loss, 0.44318280363082885\n",
            "Validation loss, 0.3837534487247467\n"
          ],
          "name": "stdout"
        },
        {
          "output_type": "stream",
          "text": [
            "\r 32%|███▏      | 48/150 [09:52<21:03, 12.38s/it]"
          ],
          "name": "stderr"
        },
        {
          "output_type": "stream",
          "text": [
            "Epoch: 47\n",
            "Training loss, 0.4274888939857483\n",
            "Validation loss, 0.3928436627463689\n"
          ],
          "name": "stdout"
        },
        {
          "output_type": "stream",
          "text": [
            "\r 33%|███▎      | 49/150 [10:04<20:50, 12.38s/it]"
          ],
          "name": "stderr"
        },
        {
          "output_type": "stream",
          "text": [
            "Epoch: 48\n",
            "Training loss, 0.4310880180597305\n",
            "Validation loss, 0.3830754567706396\n"
          ],
          "name": "stdout"
        },
        {
          "output_type": "stream",
          "text": [
            "\r 33%|███▎      | 50/150 [10:17<20:38, 12.38s/it]"
          ],
          "name": "stderr"
        },
        {
          "output_type": "stream",
          "text": [
            "Epoch: 49\n",
            "Training loss, 0.4075497781038284\n",
            "Validation loss, 0.38582414152130245\n"
          ],
          "name": "stdout"
        },
        {
          "output_type": "stream",
          "text": [
            "\r 34%|███▍      | 51/150 [10:29<20:25, 12.38s/it]"
          ],
          "name": "stderr"
        },
        {
          "output_type": "stream",
          "text": [
            "Epoch: 50\n",
            "Training loss, 0.4254132262468338\n",
            "Validation loss, 0.3802431433919876\n"
          ],
          "name": "stdout"
        },
        {
          "output_type": "stream",
          "text": [
            "\r 35%|███▍      | 52/150 [10:41<20:12, 12.38s/it]"
          ],
          "name": "stderr"
        },
        {
          "output_type": "stream",
          "text": [
            "Epoch: 51\n",
            "Training loss, 0.38156066787242887\n",
            "Validation loss, 0.33211755468731835\n"
          ],
          "name": "stdout"
        },
        {
          "output_type": "stream",
          "text": [
            "\r 35%|███▌      | 53/150 [10:54<20:00, 12.38s/it]"
          ],
          "name": "stderr"
        },
        {
          "output_type": "stream",
          "text": [
            "Epoch: 52\n",
            "Training loss, 0.4574715759754181\n",
            "Validation loss, 0.7555607396458822\n"
          ],
          "name": "stdout"
        },
        {
          "output_type": "stream",
          "text": [
            "\r 36%|███▌      | 54/150 [11:06<19:48, 12.38s/it]"
          ],
          "name": "stderr"
        },
        {
          "output_type": "stream",
          "text": [
            "Epoch: 53\n",
            "Training loss, 0.501445194363594\n",
            "Validation loss, 0.43002411013557795\n"
          ],
          "name": "stdout"
        },
        {
          "output_type": "stream",
          "text": [
            "\r 37%|███▋      | 55/150 [11:18<19:36, 12.38s/it]"
          ],
          "name": "stderr"
        },
        {
          "output_type": "stream",
          "text": [
            "Epoch: 54\n",
            "Training loss, 0.4348404095172882\n",
            "Validation loss, 0.3779075959372142\n"
          ],
          "name": "stdout"
        },
        {
          "output_type": "stream",
          "text": [
            "\r 37%|███▋      | 56/150 [11:31<19:23, 12.38s/it]"
          ],
          "name": "stderr"
        },
        {
          "output_type": "stream",
          "text": [
            "Epoch: 55\n",
            "Training loss, 0.39398918652534487\n",
            "Validation loss, 0.35511403329788693\n"
          ],
          "name": "stdout"
        },
        {
          "output_type": "stream",
          "text": [
            "\r 38%|███▊      | 57/150 [11:43<19:12, 12.39s/it]"
          ],
          "name": "stderr"
        },
        {
          "output_type": "stream",
          "text": [
            "Epoch: 56\n",
            "Training loss, 0.38098176193237304\n",
            "Validation loss, 0.369285557951246\n"
          ],
          "name": "stdout"
        },
        {
          "output_type": "stream",
          "text": [
            "\r 39%|███▊      | 58/150 [11:56<18:58, 12.38s/it]"
          ],
          "name": "stderr"
        },
        {
          "output_type": "stream",
          "text": [
            "Epoch: 57\n",
            "Training loss, 0.3669715076684952\n",
            "Validation loss, 0.33908658959562815\n"
          ],
          "name": "stdout"
        },
        {
          "output_type": "stream",
          "text": [
            "\r 39%|███▉      | 59/150 [12:08<18:46, 12.38s/it]"
          ],
          "name": "stderr"
        },
        {
          "output_type": "stream",
          "text": [
            "Epoch: 58\n",
            "Training loss, 0.35328268724679945\n",
            "Validation loss, 0.31198199140647104\n"
          ],
          "name": "stdout"
        },
        {
          "output_type": "stream",
          "text": [
            "\r 40%|████      | 60/150 [12:20<18:34, 12.39s/it]"
          ],
          "name": "stderr"
        },
        {
          "output_type": "stream",
          "text": [
            "Epoch: 59\n",
            "Training loss, 0.3475845130085945\n",
            "Validation loss, 0.32036435083737447\n"
          ],
          "name": "stdout"
        },
        {
          "output_type": "stream",
          "text": [
            "\r 41%|████      | 61/150 [12:33<18:22, 12.39s/it]"
          ],
          "name": "stderr"
        },
        {
          "output_type": "stream",
          "text": [
            "Epoch: 60\n",
            "Training loss, 0.33909649860858915\n",
            "Validation loss, 0.30436576453466263\n"
          ],
          "name": "stdout"
        },
        {
          "output_type": "stream",
          "text": [
            "\r 41%|████▏     | 62/150 [12:45<18:10, 12.39s/it]"
          ],
          "name": "stderr"
        },
        {
          "output_type": "stream",
          "text": [
            "Epoch: 61\n",
            "Training loss, 0.3294838417172432\n",
            "Validation loss, 0.3018002961836164\n"
          ],
          "name": "stdout"
        },
        {
          "output_type": "stream",
          "text": [
            "\r 42%|████▏     | 63/150 [12:58<17:57, 12.39s/it]"
          ],
          "name": "stderr"
        },
        {
          "output_type": "stream",
          "text": [
            "Epoch: 62\n",
            "Training loss, 0.3194410104751587\n",
            "Validation loss, 0.27933093976406825\n"
          ],
          "name": "stdout"
        },
        {
          "output_type": "stream",
          "text": [
            "\r 43%|████▎     | 64/150 [13:10<17:45, 12.39s/it]"
          ],
          "name": "stderr"
        },
        {
          "output_type": "stream",
          "text": [
            "Epoch: 63\n",
            "Training loss, 0.31798261642456055\n",
            "Validation loss, 0.30519838678458383\n"
          ],
          "name": "stdout"
        },
        {
          "output_type": "stream",
          "text": [
            "\r 43%|████▎     | 65/150 [13:22<17:34, 12.40s/it]"
          ],
          "name": "stderr"
        },
        {
          "output_type": "stream",
          "text": [
            "Epoch: 64\n",
            "Training loss, 0.3005536285638809\n",
            "Validation loss, 0.26940526139168514\n"
          ],
          "name": "stdout"
        },
        {
          "output_type": "stream",
          "text": [
            "\r 44%|████▍     | 66/150 [13:35<17:21, 12.40s/it]"
          ],
          "name": "stderr"
        },
        {
          "output_type": "stream",
          "text": [
            "Epoch: 65\n",
            "Training loss, 0.299678974032402\n",
            "Validation loss, 0.2626612058707646\n"
          ],
          "name": "stdout"
        },
        {
          "output_type": "stream",
          "text": [
            "\r 45%|████▍     | 67/150 [13:47<17:10, 12.41s/it]"
          ],
          "name": "stderr"
        },
        {
          "output_type": "stream",
          "text": [
            "Epoch: 66\n",
            "Training loss, 0.2950944364070892\n",
            "Validation loss, 0.27267959382798934\n"
          ],
          "name": "stdout"
        },
        {
          "output_type": "stream",
          "text": [
            "\r 45%|████▌     | 68/150 [14:00<16:57, 12.41s/it]"
          ],
          "name": "stderr"
        },
        {
          "output_type": "stream",
          "text": [
            "Epoch: 67\n",
            "Training loss, 0.2872236694097519\n",
            "Validation loss, 0.2522473559966163\n"
          ],
          "name": "stdout"
        },
        {
          "output_type": "stream",
          "text": [
            "\r 46%|████▌     | 69/150 [14:12<16:46, 12.42s/it]"
          ],
          "name": "stderr"
        },
        {
          "output_type": "stream",
          "text": [
            "Epoch: 68\n",
            "Training loss, 0.28102120506763456\n",
            "Validation loss, 0.3356657120443526\n"
          ],
          "name": "stdout"
        },
        {
          "output_type": "stream",
          "text": [
            "\r 47%|████▋     | 70/150 [14:25<16:34, 12.43s/it]"
          ],
          "name": "stderr"
        },
        {
          "output_type": "stream",
          "text": [
            "Epoch: 69\n",
            "Training loss, 0.28564746063947677\n",
            "Validation loss, 0.24958521884585183\n"
          ],
          "name": "stdout"
        },
        {
          "output_type": "stream",
          "text": [
            "\r 47%|████▋     | 71/150 [14:37<16:22, 12.44s/it]"
          ],
          "name": "stderr"
        },
        {
          "output_type": "stream",
          "text": [
            "Epoch: 70\n",
            "Training loss, 0.2705713451504707\n",
            "Validation loss, 0.2672825824646723\n"
          ],
          "name": "stdout"
        },
        {
          "output_type": "stream",
          "text": [
            "\r 48%|████▊     | 72/150 [14:49<16:10, 12.44s/it]"
          ],
          "name": "stderr"
        },
        {
          "output_type": "stream",
          "text": [
            "Epoch: 71\n",
            "Training loss, 0.263462547659874\n",
            "Validation loss, 0.24451840396911378\n"
          ],
          "name": "stdout"
        },
        {
          "output_type": "stream",
          "text": [
            "\r 49%|████▊     | 73/150 [15:02<15:57, 12.43s/it]"
          ],
          "name": "stderr"
        },
        {
          "output_type": "stream",
          "text": [
            "Epoch: 72\n",
            "Training loss, 0.25985458636283876\n",
            "Validation loss, 0.2500675408140061\n"
          ],
          "name": "stdout"
        },
        {
          "output_type": "stream",
          "text": [
            "\r 49%|████▉     | 74/150 [15:14<15:43, 12.42s/it]"
          ],
          "name": "stderr"
        },
        {
          "output_type": "stream",
          "text": [
            "Epoch: 73\n",
            "Training loss, 0.25417076218128204\n",
            "Validation loss, 0.22852722827404265\n"
          ],
          "name": "stdout"
        },
        {
          "output_type": "stream",
          "text": [
            "\r 50%|█████     | 75/150 [15:27<15:31, 12.42s/it]"
          ],
          "name": "stderr"
        },
        {
          "output_type": "stream",
          "text": [
            "Epoch: 74\n",
            "Training loss, 0.24879063045978547\n",
            "Validation loss, 0.22917643780746158\n"
          ],
          "name": "stdout"
        },
        {
          "output_type": "stream",
          "text": [
            "\r 51%|█████     | 76/150 [15:39<15:18, 12.42s/it]"
          ],
          "name": "stderr"
        },
        {
          "output_type": "stream",
          "text": [
            "Epoch: 75\n",
            "Training loss, 0.24561513537168503\n",
            "Validation loss, 0.21558152754155416\n"
          ],
          "name": "stdout"
        },
        {
          "output_type": "stream",
          "text": [
            "\r 51%|█████▏    | 77/150 [15:51<15:06, 12.42s/it]"
          ],
          "name": "stderr"
        },
        {
          "output_type": "stream",
          "text": [
            "Epoch: 76\n",
            "Training loss, 0.24230784875154496\n",
            "Validation loss, 0.21922182019740816\n"
          ],
          "name": "stdout"
        },
        {
          "output_type": "stream",
          "text": [
            "\r 52%|█████▏    | 78/150 [16:04<14:54, 12.42s/it]"
          ],
          "name": "stderr"
        },
        {
          "output_type": "stream",
          "text": [
            "Epoch: 77\n",
            "Training loss, 0.23782745963335036\n",
            "Validation loss, 0.25634107395770056\n"
          ],
          "name": "stdout"
        },
        {
          "output_type": "stream",
          "text": [
            "\r 53%|█████▎    | 79/150 [16:16<14:41, 12.42s/it]"
          ],
          "name": "stderr"
        },
        {
          "output_type": "stream",
          "text": [
            "Epoch: 78\n",
            "Training loss, 0.24173385965824126\n",
            "Validation loss, 0.2241341048289859\n"
          ],
          "name": "stdout"
        },
        {
          "output_type": "stream",
          "text": [
            "\r 53%|█████▎    | 80/150 [16:29<14:29, 12.43s/it]"
          ],
          "name": "stderr"
        },
        {
          "output_type": "stream",
          "text": [
            "Epoch: 79\n",
            "Training loss, 0.2317063655257225\n",
            "Validation loss, 0.20417234183303892\n"
          ],
          "name": "stdout"
        },
        {
          "output_type": "stream",
          "text": [
            "\r 54%|█████▍    | 81/150 [16:41<14:17, 12.43s/it]"
          ],
          "name": "stderr"
        },
        {
          "output_type": "stream",
          "text": [
            "Epoch: 80\n",
            "Training loss, 0.23023138344287872\n",
            "Validation loss, 0.20792861188214923\n"
          ],
          "name": "stdout"
        },
        {
          "output_type": "stream",
          "text": [
            "\r 55%|█████▍    | 82/150 [16:54<14:05, 12.43s/it]"
          ],
          "name": "stderr"
        },
        {
          "output_type": "stream",
          "text": [
            "Epoch: 81\n",
            "Training loss, 0.22955518162250518\n",
            "Validation loss, 0.2095947577839806\n"
          ],
          "name": "stdout"
        },
        {
          "output_type": "stream",
          "text": [
            "\r 55%|█████▌    | 83/150 [17:06<13:52, 12.42s/it]"
          ],
          "name": "stderr"
        },
        {
          "output_type": "stream",
          "text": [
            "Epoch: 82\n",
            "Training loss, 0.23019089770317078\n",
            "Validation loss, 0.20984264380402035\n"
          ],
          "name": "stdout"
        },
        {
          "output_type": "stream",
          "text": [
            "\r 56%|█████▌    | 84/150 [17:18<13:40, 12.42s/it]"
          ],
          "name": "stderr"
        },
        {
          "output_type": "stream",
          "text": [
            "Epoch: 83\n",
            "Training loss, 0.22610214203596116\n",
            "Validation loss, 0.20163351699473367\n"
          ],
          "name": "stdout"
        },
        {
          "output_type": "stream",
          "text": [
            "\r 57%|█████▋    | 85/150 [17:31<13:28, 12.44s/it]"
          ],
          "name": "stderr"
        },
        {
          "output_type": "stream",
          "text": [
            "Epoch: 84\n",
            "Training loss, 0.22268600553274154\n",
            "Validation loss, 0.21227360079212795\n"
          ],
          "name": "stdout"
        },
        {
          "output_type": "stream",
          "text": [
            "\r 57%|█████▋    | 86/150 [17:43<13:15, 12.44s/it]"
          ],
          "name": "stderr"
        },
        {
          "output_type": "stream",
          "text": [
            "Epoch: 85\n",
            "Training loss, 0.21810925936698913\n",
            "Validation loss, 0.22575940428272126\n"
          ],
          "name": "stdout"
        },
        {
          "output_type": "stream",
          "text": [
            "\r 58%|█████▊    | 87/150 [17:56<13:03, 12.43s/it]"
          ],
          "name": "stderr"
        },
        {
          "output_type": "stream",
          "text": [
            "Epoch: 86\n",
            "Training loss, 0.22204037433862686\n",
            "Validation loss, 0.2033320667724761\n"
          ],
          "name": "stdout"
        },
        {
          "output_type": "stream",
          "text": [
            "\r 59%|█████▊    | 88/150 [18:08<12:50, 12.43s/it]"
          ],
          "name": "stderr"
        },
        {
          "output_type": "stream",
          "text": [
            "Epoch: 87\n",
            "Training loss, 0.21486572140455246\n",
            "Validation loss, 0.191281834055507\n"
          ],
          "name": "stdout"
        },
        {
          "output_type": "stream",
          "text": [
            "\r 59%|█████▉    | 89/150 [18:21<12:38, 12.43s/it]"
          ],
          "name": "stderr"
        },
        {
          "output_type": "stream",
          "text": [
            "Epoch: 88\n",
            "Training loss, 0.21346999722719193\n",
            "Validation loss, 0.23161990916918193\n"
          ],
          "name": "stdout"
        },
        {
          "output_type": "stream",
          "text": [
            "\r 60%|██████    | 90/150 [18:33<12:25, 12.43s/it]"
          ],
          "name": "stderr"
        },
        {
          "output_type": "stream",
          "text": [
            "Epoch: 89\n",
            "Training loss, 0.2093021577000618\n",
            "Validation loss, 0.19503446632907503\n"
          ],
          "name": "stdout"
        },
        {
          "output_type": "stream",
          "text": [
            "\r 61%|██████    | 91/150 [18:46<12:13, 12.44s/it]"
          ],
          "name": "stderr"
        },
        {
          "output_type": "stream",
          "text": [
            "Epoch: 90\n",
            "Training loss, 0.20657838612794877\n",
            "Validation loss, 0.2108064497274066\n"
          ],
          "name": "stdout"
        },
        {
          "output_type": "stream",
          "text": [
            "\r 61%|██████▏   | 92/150 [18:58<12:01, 12.44s/it]"
          ],
          "name": "stderr"
        },
        {
          "output_type": "stream",
          "text": [
            "Epoch: 91\n",
            "Training loss, 0.20794779893755913\n",
            "Validation loss, 0.19201923954108405\n"
          ],
          "name": "stdout"
        },
        {
          "output_type": "stream",
          "text": [
            "\r 62%|██████▏   | 93/150 [19:10<11:48, 12.43s/it]"
          ],
          "name": "stderr"
        },
        {
          "output_type": "stream",
          "text": [
            "Epoch: 92\n",
            "Training loss, 0.20289780312776565\n",
            "Validation loss, 0.19269979307575832\n"
          ],
          "name": "stdout"
        },
        {
          "output_type": "stream",
          "text": [
            "\r 63%|██████▎   | 94/150 [19:23<11:35, 12.42s/it]"
          ],
          "name": "stderr"
        },
        {
          "output_type": "stream",
          "text": [
            "Epoch: 93\n",
            "Training loss, 0.20539242821931838\n",
            "Validation loss, 0.1942480890050767\n"
          ],
          "name": "stdout"
        },
        {
          "output_type": "stream",
          "text": [
            "\r 63%|██████▎   | 95/150 [19:35<11:22, 12.42s/it]"
          ],
          "name": "stderr"
        },
        {
          "output_type": "stream",
          "text": [
            "Epoch: 94\n",
            "Training loss, 0.2072645012140274\n",
            "Validation loss, 0.19677502437243385\n"
          ],
          "name": "stdout"
        },
        {
          "output_type": "stream",
          "text": [
            "\r 64%|██████▍   | 96/150 [19:48<11:11, 12.43s/it]"
          ],
          "name": "stderr"
        },
        {
          "output_type": "stream",
          "text": [
            "Epoch: 95\n",
            "Training loss, 0.1976040688455105\n",
            "Validation loss, 0.18025543611674083\n"
          ],
          "name": "stdout"
        },
        {
          "output_type": "stream",
          "text": [
            "\r 65%|██████▍   | 97/150 [20:00<10:58, 12.43s/it]"
          ],
          "name": "stderr"
        },
        {
          "output_type": "stream",
          "text": [
            "Epoch: 96\n",
            "Training loss, 0.2027337477207184\n",
            "Validation loss, 0.19005915463443787\n"
          ],
          "name": "stdout"
        },
        {
          "output_type": "stream",
          "text": [
            "\r 65%|██████▌   | 98/150 [20:13<10:46, 12.42s/it]"
          ],
          "name": "stderr"
        },
        {
          "output_type": "stream",
          "text": [
            "Epoch: 97\n",
            "Training loss, 0.212983510106802\n",
            "Validation loss, 0.1981375924651585\n"
          ],
          "name": "stdout"
        },
        {
          "output_type": "stream",
          "text": [
            "\r 66%|██████▌   | 99/150 [20:25<10:33, 12.43s/it]"
          ],
          "name": "stderr"
        },
        {
          "output_type": "stream",
          "text": [
            "Epoch: 98\n",
            "Training loss, 0.19540711107850076\n",
            "Validation loss, 0.1793066934933738\n"
          ],
          "name": "stdout"
        },
        {
          "output_type": "stream",
          "text": [
            "\r 67%|██████▋   | 100/150 [20:37<10:21, 12.43s/it]"
          ],
          "name": "stderr"
        },
        {
          "output_type": "stream",
          "text": [
            "Epoch: 99\n",
            "Training loss, 0.1933040618598461\n",
            "Validation loss, 0.17955363340794095\n"
          ],
          "name": "stdout"
        },
        {
          "output_type": "stream",
          "text": [
            "\r 67%|██████▋   | 101/150 [20:50<10:08, 12.42s/it]"
          ],
          "name": "stderr"
        },
        {
          "output_type": "stream",
          "text": [
            "Epoch: 100\n",
            "Training loss, 0.18891533663868904\n",
            "Validation loss, 0.17371371293824817\n"
          ],
          "name": "stdout"
        },
        {
          "output_type": "stream",
          "text": [
            "\r 68%|██████▊   | 102/150 [21:02<09:56, 12.42s/it]"
          ],
          "name": "stderr"
        },
        {
          "output_type": "stream",
          "text": [
            "Epoch: 101\n",
            "Training loss, 0.19037517270445822\n",
            "Validation loss, 0.17340264694085197\n"
          ],
          "name": "stdout"
        },
        {
          "output_type": "stream",
          "text": [
            "\r 69%|██████▊   | 103/150 [21:15<09:44, 12.43s/it]"
          ],
          "name": "stderr"
        },
        {
          "output_type": "stream",
          "text": [
            "Epoch: 102\n",
            "Training loss, 0.3059817996621132\n",
            "Validation loss, 0.20124868480932145\n"
          ],
          "name": "stdout"
        },
        {
          "output_type": "stream",
          "text": [
            "\r 69%|██████▉   | 104/150 [21:27<09:31, 12.43s/it]"
          ],
          "name": "stderr"
        },
        {
          "output_type": "stream",
          "text": [
            "Epoch: 103\n",
            "Training loss, 0.21068199497461318\n",
            "Validation loss, 0.18151551106619457\n"
          ],
          "name": "stdout"
        },
        {
          "output_type": "stream",
          "text": [
            "\r 70%|███████   | 105/150 [21:39<09:18, 12.41s/it]"
          ],
          "name": "stderr"
        },
        {
          "output_type": "stream",
          "text": [
            "Epoch: 104\n",
            "Training loss, 0.1979028314948082\n",
            "Validation loss, 0.1818968935145272\n"
          ],
          "name": "stdout"
        },
        {
          "output_type": "stream",
          "text": [
            "\r 71%|███████   | 106/150 [21:52<09:06, 12.42s/it]"
          ],
          "name": "stderr"
        },
        {
          "output_type": "stream",
          "text": [
            "Epoch: 105\n",
            "Training loss, 0.1880801208615303\n",
            "Validation loss, 0.19207734508173807\n"
          ],
          "name": "stdout"
        },
        {
          "output_type": "stream",
          "text": [
            "\r 71%|███████▏  | 107/150 [22:04<08:54, 12.42s/it]"
          ],
          "name": "stderr"
        },
        {
          "output_type": "stream",
          "text": [
            "Epoch: 106\n",
            "Training loss, 0.19083338952064513\n",
            "Validation loss, 0.1832569812734922\n"
          ],
          "name": "stdout"
        },
        {
          "output_type": "stream",
          "text": [
            "\r 72%|███████▏  | 108/150 [22:17<08:42, 12.43s/it]"
          ],
          "name": "stderr"
        },
        {
          "output_type": "stream",
          "text": [
            "Epoch: 107\n",
            "Training loss, 0.19163110533356667\n",
            "Validation loss, 0.17852153534454013\n"
          ],
          "name": "stdout"
        },
        {
          "output_type": "stream",
          "text": [
            "\r 73%|███████▎  | 109/150 [22:29<08:30, 12.44s/it]"
          ],
          "name": "stderr"
        },
        {
          "output_type": "stream",
          "text": [
            "Epoch: 108\n",
            "Training loss, 0.1843435565829277\n",
            "Validation loss, 0.17413379594920173\n"
          ],
          "name": "stdout"
        },
        {
          "output_type": "stream",
          "text": [
            "\r 73%|███████▎  | 110/150 [22:42<08:17, 12.44s/it]"
          ],
          "name": "stderr"
        },
        {
          "output_type": "stream",
          "text": [
            "Epoch: 109\n",
            "Training loss, 0.18725980308651924\n",
            "Validation loss, 0.1795650739518423\n"
          ],
          "name": "stdout"
        },
        {
          "output_type": "stream",
          "text": [
            "\r 74%|███████▍  | 111/150 [22:54<08:04, 12.43s/it]"
          ],
          "name": "stderr"
        },
        {
          "output_type": "stream",
          "text": [
            "Epoch: 110\n",
            "Training loss, 0.18253764748573303\n",
            "Validation loss, 0.16494024899743853\n"
          ],
          "name": "stdout"
        },
        {
          "output_type": "stream",
          "text": [
            "\r 75%|███████▍  | 112/150 [23:06<07:52, 12.42s/it]"
          ],
          "name": "stderr"
        },
        {
          "output_type": "stream",
          "text": [
            "Epoch: 111\n",
            "Training loss, 0.1780661535859108\n",
            "Validation loss, 0.15677307877275679\n"
          ],
          "name": "stdout"
        },
        {
          "output_type": "stream",
          "text": [
            "\r 75%|███████▌  | 113/150 [23:19<07:39, 12.42s/it]"
          ],
          "name": "stderr"
        },
        {
          "output_type": "stream",
          "text": [
            "Epoch: 112\n",
            "Training loss, 0.18045428597927093\n",
            "Validation loss, 0.17865680536580464\n"
          ],
          "name": "stdout"
        },
        {
          "output_type": "stream",
          "text": [
            "\r 76%|███████▌  | 114/150 [23:31<07:27, 12.42s/it]"
          ],
          "name": "stderr"
        },
        {
          "output_type": "stream",
          "text": [
            "Epoch: 113\n",
            "Training loss, 0.17769771134853363\n",
            "Validation loss, 0.17534596177320633\n"
          ],
          "name": "stdout"
        },
        {
          "output_type": "stream",
          "text": [
            "\r 77%|███████▋  | 115/150 [23:44<07:15, 12.43s/it]"
          ],
          "name": "stderr"
        },
        {
          "output_type": "stream",
          "text": [
            "Epoch: 114\n",
            "Training loss, 0.17413782858848573\n",
            "Validation loss, 0.14907426883776984\n"
          ],
          "name": "stdout"
        },
        {
          "output_type": "stream",
          "text": [
            "\r 77%|███████▋  | 116/150 [23:56<07:02, 12.43s/it]"
          ],
          "name": "stderr"
        },
        {
          "output_type": "stream",
          "text": [
            "Epoch: 115\n",
            "Training loss, 0.17708423560857772\n",
            "Validation loss, 0.16448578983545303\n"
          ],
          "name": "stdout"
        },
        {
          "output_type": "stream",
          "text": [
            "\r 78%|███████▊  | 117/150 [24:09<06:50, 12.43s/it]"
          ],
          "name": "stderr"
        },
        {
          "output_type": "stream",
          "text": [
            "Epoch: 116\n",
            "Training loss, 0.17077396723628044\n",
            "Validation loss, 0.16307356338652354\n"
          ],
          "name": "stdout"
        },
        {
          "output_type": "stream",
          "text": [
            "\r 79%|███████▊  | 118/150 [24:21<06:37, 12.43s/it]"
          ],
          "name": "stderr"
        },
        {
          "output_type": "stream",
          "text": [
            "Epoch: 117\n",
            "Training loss, 0.30905267915129664\n",
            "Validation loss, 0.2079237973879254\n"
          ],
          "name": "stdout"
        },
        {
          "output_type": "stream",
          "text": [
            "\r 79%|███████▉  | 119/150 [24:33<06:25, 12.43s/it]"
          ],
          "name": "stderr"
        },
        {
          "output_type": "stream",
          "text": [
            "Epoch: 118\n",
            "Training loss, 0.207038001537323\n",
            "Validation loss, 0.17038900700826493\n"
          ],
          "name": "stdout"
        },
        {
          "output_type": "stream",
          "text": [
            "\r 80%|████████  | 120/150 [24:46<06:12, 12.43s/it]"
          ],
          "name": "stderr"
        },
        {
          "output_type": "stream",
          "text": [
            "Epoch: 119\n",
            "Training loss, 0.19183375063538552\n",
            "Validation loss, 0.17585677606245828\n"
          ],
          "name": "stdout"
        },
        {
          "output_type": "stream",
          "text": [
            "\r 81%|████████  | 121/150 [24:58<06:00, 12.43s/it]"
          ],
          "name": "stderr"
        },
        {
          "output_type": "stream",
          "text": [
            "Epoch: 120\n",
            "Training loss, 0.1903691564500332\n",
            "Validation loss, 0.17419576183671043\n"
          ],
          "name": "stdout"
        },
        {
          "output_type": "stream",
          "text": [
            "\r 81%|████████▏ | 122/150 [25:11<05:48, 12.43s/it]"
          ],
          "name": "stderr"
        },
        {
          "output_type": "stream",
          "text": [
            "Epoch: 121\n",
            "Training loss, 0.1845524413883686\n",
            "Validation loss, 0.16363710235981715\n"
          ],
          "name": "stdout"
        },
        {
          "output_type": "stream",
          "text": [
            "\r 82%|████████▏ | 123/150 [25:23<05:35, 12.43s/it]"
          ],
          "name": "stderr"
        },
        {
          "output_type": "stream",
          "text": [
            "Epoch: 122\n",
            "Training loss, 0.1815223946273327\n",
            "Validation loss, 0.16457332457814897\n"
          ],
          "name": "stdout"
        },
        {
          "output_type": "stream",
          "text": [
            "\r 83%|████████▎ | 124/150 [25:36<05:23, 12.43s/it]"
          ],
          "name": "stderr"
        },
        {
          "output_type": "stream",
          "text": [
            "Epoch: 123\n",
            "Training loss, 0.17952843111753464\n",
            "Validation loss, 0.18193306123453473\n"
          ],
          "name": "stdout"
        },
        {
          "output_type": "stream",
          "text": [
            "\r 83%|████████▎ | 125/150 [25:48<05:10, 12.43s/it]"
          ],
          "name": "stderr"
        },
        {
          "output_type": "stream",
          "text": [
            "Epoch: 124\n",
            "Training loss, 0.17478085967898369\n",
            "Validation loss, 0.1678234538625157\n"
          ],
          "name": "stdout"
        },
        {
          "output_type": "stream",
          "text": [
            "\r 84%|████████▍ | 126/150 [26:01<04:58, 12.44s/it]"
          ],
          "name": "stderr"
        },
        {
          "output_type": "stream",
          "text": [
            "Epoch: 125\n",
            "Training loss, 0.17600849625468254\n",
            "Validation loss, 0.16628720871512853\n"
          ],
          "name": "stdout"
        },
        {
          "output_type": "stream",
          "text": [
            "\r 85%|████████▍ | 127/150 [26:13<04:46, 12.44s/it]"
          ],
          "name": "stderr"
        },
        {
          "output_type": "stream",
          "text": [
            "Epoch: 126\n",
            "Training loss, 0.17070406970381738\n",
            "Validation loss, 0.15628417971588315\n"
          ],
          "name": "stdout"
        },
        {
          "output_type": "stream",
          "text": [
            "\r 85%|████████▌ | 128/150 [26:25<04:33, 12.44s/it]"
          ],
          "name": "stderr"
        },
        {
          "output_type": "stream",
          "text": [
            "Epoch: 127\n",
            "Training loss, 0.17290770763158797\n",
            "Validation loss, 0.15445496425742195\n"
          ],
          "name": "stdout"
        },
        {
          "output_type": "stream",
          "text": [
            "\r 86%|████████▌ | 129/150 [26:38<04:21, 12.43s/it]"
          ],
          "name": "stderr"
        },
        {
          "output_type": "stream",
          "text": [
            "Epoch: 128\n",
            "Training loss, 0.17066314575076102\n",
            "Validation loss, 0.19817776717836894\n"
          ],
          "name": "stdout"
        },
        {
          "output_type": "stream",
          "text": [
            "\r 87%|████████▋ | 130/150 [26:50<04:08, 12.43s/it]"
          ],
          "name": "stderr"
        },
        {
          "output_type": "stream",
          "text": [
            "Epoch: 129\n",
            "Training loss, 0.1698202486038208\n",
            "Validation loss, 0.16139058603180778\n"
          ],
          "name": "stdout"
        },
        {
          "output_type": "stream",
          "text": [
            "\r 87%|████████▋ | 131/150 [27:03<03:56, 12.43s/it]"
          ],
          "name": "stderr"
        },
        {
          "output_type": "stream",
          "text": [
            "Epoch: 130\n",
            "Training loss, 0.16659512120485306\n",
            "Validation loss, 0.1500092623016191\n"
          ],
          "name": "stdout"
        },
        {
          "output_type": "stream",
          "text": [
            "\r 88%|████████▊ | 132/150 [27:15<03:43, 12.43s/it]"
          ],
          "name": "stderr"
        },
        {
          "output_type": "stream",
          "text": [
            "Epoch: 131\n",
            "Training loss, 0.16825796535611154\n",
            "Validation loss, 0.14387331441754386\n"
          ],
          "name": "stdout"
        },
        {
          "output_type": "stream",
          "text": [
            "\r 89%|████████▊ | 133/150 [27:28<03:31, 12.43s/it]"
          ],
          "name": "stderr"
        },
        {
          "output_type": "stream",
          "text": [
            "Epoch: 132\n",
            "Training loss, 0.16799839562177657\n",
            "Validation loss, 0.1443834990736038\n"
          ],
          "name": "stdout"
        },
        {
          "output_type": "stream",
          "text": [
            "\r 89%|████████▉ | 134/150 [27:40<03:18, 12.42s/it]"
          ],
          "name": "stderr"
        },
        {
          "output_type": "stream",
          "text": [
            "Epoch: 133\n",
            "Training loss, 0.16322172111272812\n",
            "Validation loss, 0.13696224620890995\n"
          ],
          "name": "stdout"
        },
        {
          "output_type": "stream",
          "text": [
            "\r 90%|█████████ | 135/150 [27:52<03:06, 12.43s/it]"
          ],
          "name": "stderr"
        },
        {
          "output_type": "stream",
          "text": [
            "Epoch: 134\n",
            "Training loss, 0.16276497954130173\n",
            "Validation loss, 0.1448013096574753\n"
          ],
          "name": "stdout"
        },
        {
          "output_type": "stream",
          "text": [
            "\r 91%|█████████ | 136/150 [28:05<02:54, 12.43s/it]"
          ],
          "name": "stderr"
        },
        {
          "output_type": "stream",
          "text": [
            "Epoch: 135\n",
            "Training loss, 0.16961317414045335\n",
            "Validation loss, 0.16695167289839852\n"
          ],
          "name": "stdout"
        },
        {
          "output_type": "stream",
          "text": [
            "\r 91%|█████████▏| 137/150 [28:17<02:41, 12.43s/it]"
          ],
          "name": "stderr"
        },
        {
          "output_type": "stream",
          "text": [
            "Epoch: 136\n",
            "Training loss, 0.156878391623497\n",
            "Validation loss, 0.13666608030833896\n"
          ],
          "name": "stdout"
        },
        {
          "output_type": "stream",
          "text": [
            "\r 92%|█████████▏| 138/150 [28:30<02:29, 12.44s/it]"
          ],
          "name": "stderr"
        },
        {
          "output_type": "stream",
          "text": [
            "Epoch: 137\n",
            "Training loss, 0.15594314488768576\n",
            "Validation loss, 0.13903218436808812\n"
          ],
          "name": "stdout"
        },
        {
          "output_type": "stream",
          "text": [
            "\r 93%|█████████▎| 139/150 [28:42<02:16, 12.44s/it]"
          ],
          "name": "stderr"
        },
        {
          "output_type": "stream",
          "text": [
            "Epoch: 138\n",
            "Training loss, 0.16283816513419153\n",
            "Validation loss, 0.20730695790714687\n"
          ],
          "name": "stdout"
        },
        {
          "output_type": "stream",
          "text": [
            "\r 93%|█████████▎| 140/150 [28:55<02:04, 12.44s/it]"
          ],
          "name": "stderr"
        },
        {
          "output_type": "stream",
          "text": [
            "Epoch: 139\n",
            "Training loss, 0.15377434274554252\n",
            "Validation loss, 0.1475357978589951\n"
          ],
          "name": "stdout"
        },
        {
          "output_type": "stream",
          "text": [
            "\r 94%|█████████▍| 141/150 [29:07<01:51, 12.44s/it]"
          ],
          "name": "stderr"
        },
        {
          "output_type": "stream",
          "text": [
            "Epoch: 140\n",
            "Training loss, 0.1499905870258808\n",
            "Validation loss, 0.14608514214318896\n"
          ],
          "name": "stdout"
        },
        {
          "output_type": "stream",
          "text": [
            "\r 95%|█████████▍| 142/150 [29:19<01:39, 12.43s/it]"
          ],
          "name": "stderr"
        },
        {
          "output_type": "stream",
          "text": [
            "Epoch: 141\n",
            "Training loss, 0.16211581313610077\n",
            "Validation loss, 0.14032955562311505\n"
          ],
          "name": "stdout"
        },
        {
          "output_type": "stream",
          "text": [
            "\r 95%|█████████▌| 143/150 [29:32<01:27, 12.43s/it]"
          ],
          "name": "stderr"
        },
        {
          "output_type": "stream",
          "text": [
            "Epoch: 142\n",
            "Training loss, 0.15324641191959382\n",
            "Validation loss, 0.1363810073761713\n"
          ],
          "name": "stdout"
        },
        {
          "output_type": "stream",
          "text": [
            "\r 96%|█████████▌| 144/150 [29:44<01:14, 12.43s/it]"
          ],
          "name": "stderr"
        },
        {
          "output_type": "stream",
          "text": [
            "Epoch: 143\n",
            "Training loss, 0.14885854789614678\n",
            "Validation loss, 0.1385947126481268\n"
          ],
          "name": "stdout"
        },
        {
          "output_type": "stream",
          "text": [
            "\r 97%|█████████▋| 145/150 [29:57<01:02, 12.42s/it]"
          ],
          "name": "stderr"
        },
        {
          "output_type": "stream",
          "text": [
            "Epoch: 144\n",
            "Training loss, 0.15328689989447594\n",
            "Validation loss, 0.13141155585883155\n"
          ],
          "name": "stdout"
        },
        {
          "output_type": "stream",
          "text": [
            "\r 97%|█████████▋| 146/150 [30:09<00:49, 12.42s/it]"
          ],
          "name": "stderr"
        },
        {
          "output_type": "stream",
          "text": [
            "Epoch: 145\n",
            "Training loss, 0.14814390510320663\n",
            "Validation loss, 0.14063535181302872\n"
          ],
          "name": "stdout"
        },
        {
          "output_type": "stream",
          "text": [
            "\r 98%|█████████▊| 147/150 [30:22<00:37, 12.43s/it]"
          ],
          "name": "stderr"
        },
        {
          "output_type": "stream",
          "text": [
            "Epoch: 146\n",
            "Training loss, 0.1541564780175686\n",
            "Validation loss, 0.16110637961398988\n"
          ],
          "name": "stdout"
        },
        {
          "output_type": "stream",
          "text": [
            "\r 99%|█████████▊| 148/150 [30:34<00:24, 12.43s/it]"
          ],
          "name": "stderr"
        },
        {
          "output_type": "stream",
          "text": [
            "Epoch: 147\n",
            "Training loss, 0.1711102640926838\n",
            "Validation loss, 0.1374213352562889\n"
          ],
          "name": "stdout"
        },
        {
          "output_type": "stream",
          "text": [
            "\r 99%|█████████▉| 149/150 [30:46<00:12, 12.43s/it]"
          ],
          "name": "stderr"
        },
        {
          "output_type": "stream",
          "text": [
            "Epoch: 148\n",
            "Training loss, 0.14883857637643813\n",
            "Validation loss, 0.14122190101752205\n"
          ],
          "name": "stdout"
        },
        {
          "output_type": "stream",
          "text": [
            "100%|██████████| 150/150 [30:59<00:00, 12.40s/it]"
          ],
          "name": "stderr"
        },
        {
          "output_type": "stream",
          "text": [
            "Epoch: 149\n",
            "Training loss, 0.15038082000613212\n",
            "Validation loss, 0.13322283765153278\n"
          ],
          "name": "stdout"
        },
        {
          "output_type": "stream",
          "text": [
            "\n"
          ],
          "name": "stderr"
        },
        {
          "output_type": "display_data",
          "data": {
            "image/png": "[encoded data removed]",
            "text/plain": [
              "<Figure size 432x288 with 1 Axes>"
            ]
          },
          "metadata": {
            "tags": [],
            "needs_background": "light"
          }
        }
      ]
    },
    {
      "cell_type": "code",
      "metadata": {
        "pycharm": {
          "name": "#%%\n"
        },
        "id": "u6ge_zTSHViq",
        "colab": {
          "base_uri": "https://localhost:8080/"
        },
        "outputId": "06756cfc-b4f4-4d4a-8fef-8081284886c1"
      },
      "source": [
        "def predict(test_dataloader, model, device):\n",
        "    model.eval()\n",
        "    outputs = []\n",
        "    for batch in tqdm(test_dataloader):\n",
        "        x, y = batch\n",
        "        input, target = x.to(device=device, dtype=torch.float), y.to(device=device)  # send to device (GPU or CPU)\n",
        "        with torch.no_grad():\n",
        "            output = model(input)   # one forward pass\n",
        "            outputs.append(torch.argmax(output, dim=1).cpu().detach().numpy())\n",
        "    return np.vstack(outputs)\n",
        "\n",
        "test_pred = predict(test_dataloader, model, device)"
      ],
      "execution_count": 10,
      "outputs": [
        {
          "output_type": "stream",
          "text": [
            "100%|██████████| 63/63 [00:01<00:00, 59.29it/s]\n"
          ],
          "name": "stderr"
        }
      ]
    },
    {
      "cell_type": "code",
      "metadata": {
        "pycharm": {
          "name": "#%%\n"
        },
        "id": "URH3IB7AHViq",
        "colab": {
          "base_uri": "https://localhost:8080/"
        },
        "outputId": "26ef9292-ceac-479d-dfa8-a2bb6aa57529"
      },
      "source": [
        "acc = np.sum(test_pred == test_y) / (test_y.shape[0] * test_y.shape[1])\n",
        "print(acc)"
      ],
      "execution_count": 11,
      "outputs": [
        {
          "output_type": "stream",
          "text": [
            "0.955118\n"
          ],
          "name": "stdout"
        }
      ]
    }
  ]
}