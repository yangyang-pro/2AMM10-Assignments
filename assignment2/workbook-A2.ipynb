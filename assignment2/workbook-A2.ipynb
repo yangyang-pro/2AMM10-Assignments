{
 "cells": [
  {
   "cell_type": "markdown",
   "metadata": {},
   "source": [
    "<a href=\"https://colab.research.google.com/github/vlamen/tue-deeplearning/blob/main/assignments/assignment2/workbook-A2.ipynb\" target=\"_parent\"><img src=\"https://colab.research.google.com/assets/colab-badge.svg\" alt=\"Open In Colab\"/></a>"
   ]
  },
  {
   "cell_type": "markdown",
   "metadata": {
    "id": "b7-y662f1PHV"
   },
   "source": [
    "# Preparation"
   ]
  },
  {
   "cell_type": "code",
   "execution_count": null,
   "metadata": {
    "id": "UfUkWhex5pLP"
   },
   "outputs": [],
   "source": [
    "# Install PyTorch Geometric\n",
    "# !pip install -q torch-scatter -f https://pytorch-geometric.com/whl/torch-1.8.0+cu101.html\n",
    "# !pip install -q to·rch-sparse -f https://pytorch-geometric.com/whl/torch-1.8.0+cu101.html\n",
    "# !pip install -q torch-geometric"
   ]
  },
  {
   "cell_type": "code",
   "execution_count": 2,
   "metadata": {
    "id": "-3iwORqz9BQJ"
   },
   "outputs": [],
   "source": [
    "import torch\n",
    "import requests\n",
    "import io\n",
    "import pickle\n",
    "import json\n",
    "\n",
    "def download(url, filetype='tensor'):\n",
    "    if filetype not in ['tensor', 'pickle', 'json']:\n",
    "        raise ValueError('Incorrect filetype')\n",
    "    response = requests.get(url)\n",
    "    response.raise_for_status()\n",
    "    if filetype == 'tensor':\n",
    "        return torch.load(io.BytesIO(response.content))\n",
    "    elif filetype == 'pickle':\n",
    "        return pickle.load(io.BytesIO(response.content))\n",
    "    elif filetype == 'json':\n",
    "        return json.load(io.BytesIO(response.content))"
   ]
  },
  {
   "cell_type": "markdown",
   "metadata": {
    "id": "jtLMtRZa1Vjy"
   },
   "source": [
    "# Task 1"
   ]
  },
  {
   "cell_type": "code",
   "execution_count": 3,
   "metadata": {
    "id": "3h2zBMkm1XpD"
   },
   "outputs": [],
   "source": [
    "## Download the dataset for image retrieval ##\n",
    "data_1 = download('https://surfdrive.surf.nl/files/index.php/s/EH2tN7JiZnwdIXg/download', filetype='tensor')\n",
    "data_metadata = download('https://github.com/pmernyei/wiki-cs-dataset/raw/master/dataset/metadata.json', filetype='json')"
   ]
  },
  {
   "cell_type": "code",
   "execution_count": 4,
   "metadata": {
    "colab": {
     "base_uri": "https://localhost:8080/"
    },
    "executionInfo": {
     "elapsed": 17,
     "status": "ok",
     "timestamp": 1621940467107,
     "user": {
      "displayName": "Yoeri Poels",
      "photoUrl": "",
      "userId": "12918185417432069249"
     },
     "user_tz": -120
    },
    "id": "rwHKWhIF90JE",
    "outputId": "031a7857-60ba-4acc-9803-e0f98558cf33"
   },
   "outputs": [
    {
     "name": "stdout",
     "output_type": "stream",
     "text": [
      "Num nodes: 10701\n",
      "Num edges: 251927\n",
      "\n",
      "Num node features: 300\n",
      "Num classes: 10\n",
      "\n",
      "Num training labels: 522\n"
     ]
    }
   ],
   "source": [
    "num_node = data_1.x.shape[0]\n",
    "num_edge = data_1.edge_index.shape[1]\n",
    "num_node_feature = data_1.x.shape[1]\n",
    "num_class = int(max(data_1.y)+1)\n",
    "num_label = sum(data_1.train_mask)\n",
    "\n",
    "print(f'Num nodes: {num_node}')\n",
    "print(f'Num edges: {num_edge}')\n",
    "print()\n",
    "print(f'Num node features: {num_node_feature}')\n",
    "print(f'Num classes: {num_class}')\n",
    "print()\n",
    "print(f'Num training labels: {num_label}')"
   ]
  },
  {
   "cell_type": "code",
   "execution_count": 5,
   "metadata": {
    "colab": {
     "base_uri": "https://localhost:8080/"
    },
    "executionInfo": {
     "elapsed": 9,
     "status": "ok",
     "timestamp": 1621940467107,
     "user": {
      "displayName": "Yoeri Poels",
      "photoUrl": "",
      "userId": "12918185417432069249"
     },
     "user_tz": -120
    },
    "id": "ZkCGKmY0CPh2",
    "outputId": "49bf2307-7898-42c2-a95f-97a42a7772fa"
   },
   "outputs": [
    {
     "name": "stdout",
     "output_type": "stream",
     "text": [
      "0: Computational linguistics\n",
      "1: Databases\n",
      "2: Operating systems\n",
      "3: Computer architecture\n",
      "4: Computer security\n",
      "5: Internet protocols\n",
      "6: Computer file systems\n",
      "7: Distributed computing architecture\n",
      "8: Web technology\n",
      "9: Programming language topics\n"
     ]
    }
   ],
   "source": [
    "for i in range(num_class):\n",
    "    print('{}: {}'.format(i, data_metadata['labels'][str(i)]))"
   ]
  },
  {
   "cell_type": "code",
   "execution_count": 6,
   "metadata": {
    "id": "7pDn_vdhCNPw"
   },
   "outputs": [],
   "source": [
    "def print_node(idx, url=True, label=True):\n",
    "    node_info = data_metadata['nodes'][idx]\n",
    "    print(f'--Node {idx}--')\n",
    "    if url:\n",
    "        title = node_info['title']\n",
    "        wiki_url = 'https://en.wikipedia.org/wiki/' + title\n",
    "        print(wiki_url)\n",
    "    if label:\n",
    "        print('Label:', node_info['label'])\n",
    "    print()"
   ]
  },
  {
   "cell_type": "code",
   "execution_count": 7,
   "metadata": {
    "colab": {
     "base_uri": "https://localhost:8080/"
    },
    "executionInfo": {
     "elapsed": 8,
     "status": "ok",
     "timestamp": 1621940467108,
     "user": {
      "displayName": "Yoeri Poels",
      "photoUrl": "",
      "userId": "12918185417432069249"
     },
     "user_tz": -120
    },
    "id": "hvCmB6tFCr4R",
    "outputId": "d692d542-54ad-4706-945c-80a30ca78643"
   },
   "outputs": [
    {
     "name": "stdout",
     "output_type": "stream",
     "text": [
      "--Node 0--\n",
      "https://en.wikipedia.org/wiki/Twilio\n",
      "Label: Distributed computing architecture\n",
      "\n",
      "--Node 1--\n",
      "https://en.wikipedia.org/wiki/Program_compatibility_date_range\n",
      "Label: Operating systems\n",
      "\n",
      "--Node 2--\n",
      "https://en.wikipedia.org/wiki/SYSTAT_(DEC)\n",
      "Label: Operating systems\n",
      "\n",
      "--Node 3--\n",
      "https://en.wikipedia.org/wiki/List_of_column-oriented_DBMSes\n",
      "Label: Databases\n",
      "\n",
      "--Node 4--\n",
      "https://en.wikipedia.org/wiki/Stealth_wallpaper\n",
      "Label: Computer security\n",
      "\n",
      "--Node 5--\n",
      "https://en.wikipedia.org/wiki/Scalable_TCP\n",
      "Label: Internet protocols\n",
      "\n",
      "--Node 6--\n",
      "https://en.wikipedia.org/wiki/Carrier_IQ\n",
      "Label: Computer security\n",
      "\n",
      "--Node 7--\n",
      "https://en.wikipedia.org/wiki/ACF2\n",
      "Label: Operating systems\n",
      "\n",
      "--Node 8--\n",
      "https://en.wikipedia.org/wiki/Dorkbot_(malware)\n",
      "Label: Computer security\n",
      "\n",
      "--Node 9--\n",
      "https://en.wikipedia.org/wiki/Lout_(software)\n",
      "Label: Programming language topics\n",
      "\n"
     ]
    }
   ],
   "source": [
    "for i in range(10):\n",
    "    print_node(i)"
   ]
  },
  {
   "cell_type": "code",
   "execution_count": 12,
   "metadata": {
    "id": "IiWSjUmW1ZQ2"
   },
   "outputs": [],
   "source": [
    "## Build the article retrieval system ##\n",
    "import torch\n",
    "import torch.nn.functional as F\n",
    "from torch_geometric.nn import SAGEConv\n",
    "from tqdm import tqdm\n",
    "import matplotlib.pyplot as plt"
   ]
  },
  {
   "cell_type": "code",
   "execution_count": 95,
   "outputs": [],
   "source": [
    "class GraphSAGE(torch.nn.Module):\n",
    "    def __init__(self, hidden_channels, num_features, num_classes):\n",
    "        super(GraphSAGE, self).__init__()\n",
    "        self.conv1 = SAGEConv(num_features, hidden_channels)  # the node's word vector (with size num_features) is\n",
    "                                                              # transformed to a vector of size hidden_channels\n",
    "        self.conv2 = SAGEConv(hidden_channels, hidden_channels)\n",
    "\n",
    "        self.conv3 = SAGEConv(hidden_channels, num_classes)  # we convert our nodes from hidden_channels to num_classes, the\n",
    "                                                             # last update step turns a node's state into a node-class prediction\n",
    "\n",
    "    def forward(self, x, edge_index):\n",
    "        # x = (1), all nodes contain information about itself (x_size, num_features)\n",
    "        x = self.conv1(x, edge_index) # x = (2), update all nodes for the first time, returning (x_size, hidden_channels)\n",
    "        x = x.relu()  # activation function\n",
    "        x = self.conv2(x, edge_index)\n",
    "        x = x.relu()\n",
    "        x = self.conv2(x, edge_index)\n",
    "        x = x.relu()\n",
    "        x = F.dropout(x, p=0.5)  # attempt to combat overfitting, as we only have few labels\n",
    "        x = self.conv3(x, edge_index)  # x = (3), update all nodes again, returning (x_size, num_classes)\n",
    "                                       # this final update transforms each node embedding to a class prediction\n",
    "                                       # we do not apply an activation, as the PyTorch CCE calculation\n",
    "                                       # takes care of treating this output as 'softmax'.\n",
    "        return x"
   ],
   "metadata": {
    "collapsed": false,
    "pycharm": {
     "name": "#%%\n"
    }
   }
  },
  {
   "cell_type": "code",
   "execution_count": 92,
   "outputs": [],
   "source": [
    "class GNNTrainer():\n",
    "    def __init__(self,\n",
    "                 model: torch.nn.Module,\n",
    "                 device: torch.device,\n",
    "                 criterion: torch.nn.Module,\n",
    "                 optimizer: torch.optim.Optimizer,\n",
    "                 epochs: int,\n",
    "                 data\n",
    "                 ):\n",
    "        self.model = model\n",
    "        self.criterion = criterion\n",
    "        self.optimizer = optimizer\n",
    "        self.device = device\n",
    "        self.epochs = epochs\n",
    "        self.data = data\n",
    "\n",
    "    def run_trainer(self):\n",
    "        losses = []\n",
    "        train_accs = []\n",
    "        val_accs = []\n",
    "        x = self.data.x.to(self.device)\n",
    "        edge_index = self.data.edge_index.to(self.device)\n",
    "        y = self.data.y.to(self.device)\n",
    "        for epoch in tqdm(range(self.epochs)):\n",
    "            self.model.train()  # train mode\n",
    "            self.optimizer.zero_grad()\n",
    "            out = self.model(x, edge_index)\n",
    "            loss = self.criterion(out[self.data.train_mask], y[self.data.train_mask])\n",
    "            loss.backward()\n",
    "            self.optimizer.step()\n",
    "\n",
    "            self.model.eval()\n",
    "            pred = out.argmax(dim=1)\n",
    "            train_correct = pred[self.data.train_mask] == y[self.data.train_mask]\n",
    "            train_acc = int(train_correct.sum()) / int(self.data.train_mask.sum())\n",
    "            val_correct = pred[self.data.test_mask] == y[self.data.test_mask]\n",
    "            val_acc = int(val_correct.sum()) / int(self.data.test_mask.sum())\n",
    "            losses.append(loss)\n",
    "            train_accs.append(train_acc)\n",
    "            val_accs.append(val_acc)\n",
    "            if epoch % 20 == 0:\n",
    "                print('Epoch: {}, Loss: {}, ACC_train: {}, ACC_val: {}'.format(epoch, loss, train_acc, val_acc))\n",
    "        fig, axs = plt.subplots(2, 1, figsize=(8, 10))\n",
    "        t = range(1, self.epochs + 1)\n",
    "        axs[0].plot(t, losses, label = 'Training Loss')\n",
    "        axs[0].set_xlabel('epoch')\n",
    "        axs[0].set_ylabel('loss')\n",
    "        axs[0].grid(True)\n",
    "        axs[0].legend()\n",
    "\n",
    "        axs[1].plot(t, train_accs, label = 'Training Accuracy')\n",
    "        axs[1].plot(t, val_accs, label = 'Validation Accuracy')\n",
    "        axs[1].set_xlabel('epoch')\n",
    "        axs[1].set_ylabel('accuracy')\n",
    "        axs[1].grid(True)\n",
    "        axs[1].legend()\n",
    "\n",
    "        plt.show()"
   ],
   "metadata": {
    "collapsed": false,
    "pycharm": {
     "name": "#%%\n"
    }
   }
  },
  {
   "cell_type": "code",
   "execution_count": 96,
   "outputs": [],
   "source": [
    "device = torch.device('cuda' if torch.cuda.is_available() else 'cpu')\n",
    "model = GraphSAGE(hidden_channels=32, num_features=num_node_feature, num_classes=num_class).to(device=device)\n",
    "loss_func = torch.nn.CrossEntropyLoss()\n",
    "optimizer = torch.optim.Adam(model.parameters(), lr=0.01, weight_decay=5e-4)\n",
    "trainer = GNNTrainer(model=model,\n",
    "                     device=device,\n",
    "                     criterion=loss_func,\n",
    "                     optimizer=optimizer,\n",
    "                     epochs=200,\n",
    "                     data=data_1)"
   ],
   "metadata": {
    "collapsed": false,
    "pycharm": {
     "name": "#%%\n"
    }
   }
  },
  {
   "cell_type": "code",
   "execution_count": 97,
   "outputs": [
    {
     "name": "stderr",
     "output_type": "stream",
     "text": [
      "  6%|▌         | 12/200 [00:00<00:03, 59.29it/s]"
     ]
    },
    {
     "name": "stdout",
     "output_type": "stream",
     "text": [
      "Epoch: 0, Loss: 2.3434641361236572, ACC_train: 0.1053639846743295, ACC_val: 0.08358264771877337\n"
     ]
    },
    {
     "name": "stderr",
     "output_type": "stream",
     "text": [
      " 18%|█▊        | 35/200 [00:00<00:02, 70.02it/s]"
     ]
    },
    {
     "name": "stdout",
     "output_type": "stream",
     "text": [
      "Epoch: 20, Loss: 1.1472718715667725, ACC_train: 0.6149425287356322, ACC_val: 0.6035901271503366\n"
     ]
    },
    {
     "name": "stderr",
     "output_type": "stream",
     "text": [
      " 26%|██▌       | 51/200 [00:00<00:02, 72.73it/s]"
     ]
    },
    {
     "name": "stdout",
     "output_type": "stream",
     "text": [
      "Epoch: 40, Loss: 0.6898232102394104, ACC_train: 0.7701149425287356, ACC_val: 0.6697830964846672\n"
     ]
    },
    {
     "name": "stderr",
     "output_type": "stream",
     "text": [
      " 38%|███▊      | 75/200 [00:01<00:01, 75.42it/s]"
     ]
    },
    {
     "name": "stdout",
     "output_type": "stream",
     "text": [
      "Epoch: 60, Loss: 0.4130113124847412, ACC_train: 0.8601532567049809, ACC_val: 0.6985789080029918\n"
     ]
    },
    {
     "name": "stderr",
     "output_type": "stream",
     "text": [
      " 46%|████▌     | 91/200 [00:01<00:01, 74.92it/s]"
     ]
    },
    {
     "name": "stdout",
     "output_type": "stream",
     "text": [
      "Epoch: 80, Loss: 0.23578552901744843, ACC_train: 0.9157088122605364, ACC_val: 0.7094240837696335\n"
     ]
    },
    {
     "name": "stderr",
     "output_type": "stream",
     "text": [
      " 54%|█████▎    | 107/200 [00:01<00:01, 74.77it/s]"
     ]
    },
    {
     "name": "stdout",
     "output_type": "stream",
     "text": [
      "Epoch: 100, Loss: 0.19677188992500305, ACC_train: 0.9252873563218391, ACC_val: 0.7170905011219147\n"
     ]
    },
    {
     "name": "stderr",
     "output_type": "stream",
     "text": [
      " 66%|██████▌   | 131/200 [00:01<00:00, 74.61it/s]"
     ]
    },
    {
     "name": "stdout",
     "output_type": "stream",
     "text": [
      "Epoch: 120, Loss: 0.12364403158426285, ACC_train: 0.9578544061302682, ACC_val: 0.7144727000747944\n"
     ]
    },
    {
     "name": "stderr",
     "output_type": "stream",
     "text": [
      " 78%|███████▊  | 155/200 [00:02<00:00, 74.75it/s]"
     ]
    },
    {
     "name": "stdout",
     "output_type": "stream",
     "text": [
      "Epoch: 140, Loss: 0.10069931298494339, ACC_train: 0.9693486590038314, ACC_val: 0.7204562453253552\n"
     ]
    },
    {
     "name": "stderr",
     "output_type": "stream",
     "text": [
      " 86%|████████▌ | 171/200 [00:02<00:00, 74.75it/s]"
     ]
    },
    {
     "name": "stdout",
     "output_type": "stream",
     "text": [
      "Epoch: 160, Loss: 0.06793355941772461, ACC_train: 0.9731800766283525, ACC_val: 0.7208302169035153\n"
     ]
    },
    {
     "name": "stderr",
     "output_type": "stream",
     "text": [
      " 98%|█████████▊| 195/200 [00:02<00:00, 74.71it/s]"
     ]
    },
    {
     "name": "stdout",
     "output_type": "stream",
     "text": [
      "Epoch: 180, Loss: 0.05536836013197899, ACC_train: 0.9789272030651341, ACC_val: 0.7208302169035153\n"
     ]
    },
    {
     "name": "stderr",
     "output_type": "stream",
     "text": [
      "100%|██████████| 200/200 [00:02<00:00, 73.38it/s]\n"
     ]
    },
    {
     "data": {
      "text/plain": "<Figure size 576x720 with 2 Axes>",
      "image/png": "[encoded data removed]"
     },
     "metadata": {
      "needs_background": "light"
     },
     "output_type": "display_data"
    }
   ],
   "source": [
    "trainer.run_trainer()"
   ],
   "metadata": {
    "collapsed": false,
    "pycharm": {
     "name": "#%%\n"
    }
   }
  },
  {
   "cell_type": "code",
   "execution_count": 8,
   "metadata": {
    "id": "nxwb70w6BLzc"
   },
   "outputs": [
    {
     "data": {
      "text/plain": "Data(edge_index=[2, 251927], test_mask=[10701], train_mask=[10701], x=[10701, 300], y=[10701])"
     },
     "execution_count": 8,
     "metadata": {},
     "output_type": "execute_result"
    }
   ],
   "source": [
    "## Evaluate the article retrieval system ##\n"
   ]
  },
  {
   "cell_type": "markdown",
   "metadata": {
    "id": "n-VtEksc1fCt"
   },
   "source": [
    "# Task 2"
   ]
  },
  {
   "cell_type": "code",
   "execution_count": 9,
   "metadata": {
    "id": "_-TRngWF1ggw"
   },
   "outputs": [],
   "source": [
    "## Build the anomaly detection model ##"
   ]
  },
  {
   "cell_type": "code",
   "execution_count": 10,
   "metadata": {
    "id": "_ee8w-ZC1jJD"
   },
   "outputs": [],
   "source": [
    "## Download the anomaly evaluation data ##\n",
    "data_2 = download('https://surfdrive.surf.nl/files/index.php/s/EzMkh3SZbsbJb2i/download', filetype='tensor')\n",
    "is_anomaly = download('https://surfdrive.surf.nl/files/index.php/s/wrK5xipcIC9DHhu/download', filetype='pickle')"
   ]
  },
  {
   "cell_type": "code",
   "execution_count": 11,
   "metadata": {
    "colab": {
     "base_uri": "https://localhost:8080/"
    },
    "executionInfo": {
     "elapsed": 6,
     "status": "ok",
     "timestamp": 1621940470580,
     "user": {
      "displayName": "Yoeri Poels",
      "photoUrl": "",
      "userId": "12918185417432069249"
     },
     "user_tz": -120
    },
    "id": "IXVaLNjF-mFi",
    "outputId": "0bdf7c85-58f3-4936-ec67-688a160b698a"
   },
   "outputs": [
    {
     "name": "stdout",
     "output_type": "stream",
     "text": [
      "Num new nodes: 2000\n",
      "Num new edges: 50176\n"
     ]
    }
   ],
   "source": [
    "total_node = data_2.x.shape[0]\n",
    "total_edge = data_2.edge_index.shape[1]\n",
    "new_node = total_node - num_node\n",
    "new_edge = total_edge - num_edge\n",
    "print(f'Num new nodes: {new_node}')\n",
    "print(f'Num new edges: {new_edge}')"
   ]
  },
  {
   "cell_type": "code",
   "execution_count": 12,
   "metadata": {
    "colab": {
     "base_uri": "https://localhost:8080/"
    },
    "executionInfo": {
     "elapsed": 5,
     "status": "ok",
     "timestamp": 1621940470581,
     "user": {
      "displayName": "Yoeri Poels",
      "photoUrl": "",
      "userId": "12918185417432069249"
     },
     "user_tz": -120
    },
    "id": "8mVXRMxPA_oQ",
    "outputId": "ba3fabfb-e0fb-4351-d6fd-8c26b8e477af"
   },
   "outputs": [
    {
     "name": "stdout",
     "output_type": "stream",
     "text": [
      "Indices of new nodes are 10701...12700\n",
      "The first 1000 are real articles, the last 1000 are anomaly articles\n",
      "You can use the map \"is_anomaly\" to identify whether a node is an anomaly or not\n",
      "E.g., is_anomaly[11201] = 0 and is_anomaly[12201] = 1\n"
     ]
    }
   ],
   "source": [
    "print(f'Indices of new nodes are {num_node}...{total_node-1}')\n",
    "print('The first 1000 are real articles, the last 1000 are anomaly articles')\n",
    "print('You can use the map \"is_anomaly\" to identify whether a node is an anomaly or not')\n",
    "e_real = num_node+500\n",
    "e_anomaly = num_node+1500\n",
    "print(f'E.g., is_anomaly[{e_real}] = {is_anomaly[e_real]} and is_anomaly[{e_anomaly}] = {is_anomaly[e_anomaly]}')"
   ]
  },
  {
   "cell_type": "code",
   "execution_count": null,
   "metadata": {
    "id": "wzWb42RX1myv"
   },
   "outputs": [],
   "source": [
    "## Evaluate the anomaly detection model ##"
   ]
  }
 ],
 "metadata": {
  "colab": {
   "authorship_tag": "ABX9TyMtIUUNA5rp626+rMGY54T9",
   "collapsed_sections": [],
   "name": "A2_Skeleton.ipynb",
   "provenance": []
  },
  "kernelspec": {
   "name": "python3",
   "language": "python",
   "display_name": "Python 3"
  },
  "language_info": {
   "codemirror_mode": {
    "name": "ipython",
    "version": 3
   },
   "file_extension": ".py",
   "mimetype": "text/x-python",
   "name": "python",
   "nbconvert_exporter": "python",
   "pygments_lexer": "ipython3",
   "version": "3.7.9"
  }
 },
 "nbformat": 4,
 "nbformat_minor": 1
}