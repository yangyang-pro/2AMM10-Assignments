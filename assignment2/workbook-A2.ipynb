{
  "nbformat": 4,
  "nbformat_minor": 0,
  "metadata": {
    "colab": {
      "name": "workbook-A2-new.ipynb",
      "provenance": [],
      "collapsed_sections": []
    },
    "kernelspec": {
      "name": "python3",
      "language": "python",
      "display_name": "Python 3"
    },
    "language_info": {
      "codemirror_mode": {
        "name": "ipython",
        "version": 3
      },
      "file_extension": ".py",
      "mimetype": "text/x-python",
      "name": "python",
      "nbconvert_exporter": "python",
      "pygments_lexer": "ipython3",
      "version": "3.7.9"
    },
    "accelerator": "GPU"
  },
  "cells": [
    {
      "cell_type": "markdown",
      "metadata": {
        "id": "b7Oavabv-10p"
      },
      "source": [
        "<a href=\"https://colab.research.google.com/github/vlamen/tue-deeplearning/blob/main/assignments/assignment2/workbook-A2.ipynb\" target=\"_parent\"><img src=\"https://colab.research.google.com/assets/colab-badge.svg\" alt=\"Open In Colab\"/></a>"
      ]
    },
    {
      "cell_type": "markdown",
      "metadata": {
        "id": "b7-y662f1PHV"
      },
      "source": [
        "# Preparation"
      ]
    },
    {
      "cell_type": "code",
      "metadata": {
        "id": "UfUkWhex5pLP"
      },
      "source": [
        " #Install PyTorch Geometric\n",
        " !pip install -q torch-scatter -f https://pytorch-geometric.com/whl/torch-1.8.0+cu101.html\n",
        " !pip install -q torch-sparse -f https://pytorch-geometric.com/whl/torch-1.8.0+cu101.html\n",
        " !pip install -q torch-geometric"
      ],
      "execution_count": 1,
      "outputs": []
    },
    {
      "cell_type": "code",
      "metadata": {
        "colab": {
          "base_uri": "https://localhost:8080/"
        },
        "id": "ozgHGJDKMmQ4",
        "outputId": "68972aed-b1fb-4efe-842f-07543d2d7f2d"
      },
      "source": [
        "from google.colab import drive\n",
        "drive.mount('/content/drive')"
      ],
      "execution_count": 2,
      "outputs": [
        {
          "output_type": "stream",
          "text": [
            "Mounted at /content/drive\n"
          ],
          "name": "stdout"
        }
      ]
    },
    {
      "cell_type": "code",
      "metadata": {
        "id": "-3iwORqz9BQJ"
      },
      "source": [
        "import torch\n",
        "import requests\n",
        "import io\n",
        "import pickle\n",
        "import json\n",
        "\n",
        "def download(url, filetype='tensor'):\n",
        "    if filetype not in ['tensor', 'pickle', 'json']:\n",
        "        raise ValueError('Incorrect filetype')\n",
        "    response = requests.get(url)\n",
        "    response.raise_for_status()\n",
        "    if filetype == 'tensor':\n",
        "        return torch.load(io.BytesIO(response.content))\n",
        "    elif filetype == 'pickle':\n",
        "        return pickle.load(io.BytesIO(response.content))\n",
        "    elif filetype == 'json':\n",
        "        return json.load(io.BytesIO(response.content))"
      ],
      "execution_count": 2,
      "outputs": []
    },
    {
      "cell_type": "markdown",
      "metadata": {
        "id": "jtLMtRZa1Vjy"
      },
      "source": [
        "# Task 1"
      ]
    },
    {
      "cell_type": "code",
      "metadata": {
        "id": "3h2zBMkm1XpD"
      },
      "source": [
        "## Download the dataset for image retrieval ##\n",
        "data_1 = download('https://surfdrive.surf.nl/files/index.php/s/EH2tN7JiZnwdIXg/download', filetype='tensor')\n",
        "data_metadata = download('https://github.com/pmernyei/wiki-cs-dataset/raw/master/dataset/metadata.json', filetype='json')"
      ],
      "execution_count": 3,
      "outputs": []
    },
    {
      "cell_type": "code",
      "metadata": {
        "colab": {
          "base_uri": "https://localhost:8080/"
        },
        "id": "rwHKWhIF90JE",
        "outputId": "baaffebf-1792-4749-bf6a-4a497f97f325"
      },
      "source": [
        "num_node = data_1.x.shape[0]\n",
        "num_edge = data_1.edge_index.shape[1]\n",
        "num_node_feature = data_1.x.shape[1]\n",
        "num_class = int(max(data_1.y)+1)\n",
        "num_label = sum(data_1.train_mask)\n",
        "\n",
        "print(f'Num nodes: {num_node}')\n",
        "print(f'Num edges: {num_edge}')\n",
        "print()\n",
        "print(f'Num node features: {num_node_feature}')\n",
        "print(f'Num classes: {num_class}')\n",
        "print()\n",
        "print(f'Num training labels: {num_label}')"
      ],
      "execution_count": 4,
      "outputs": [
        {
          "output_type": "stream",
          "text": [
            "Num nodes: 10701\n",
            "Num edges: 251927\n",
            "\n",
            "Num node features: 300\n",
            "Num classes: 10\n",
            "\n",
            "Num training labels: 522\n"
          ],
          "name": "stdout"
        }
      ]
    },
    {
      "cell_type": "code",
      "metadata": {
        "colab": {
          "base_uri": "https://localhost:8080/"
        },
        "id": "ZkCGKmY0CPh2",
        "outputId": "a2e3684f-2c86-4c31-e3de-927c93506b52"
      },
      "source": [
        "for i in range(num_class):\n",
        "    print('{}: {}'.format(i, data_metadata['labels'][str(i)]))"
      ],
      "execution_count": 5,
      "outputs": [
        {
          "output_type": "stream",
          "text": [
            "0: Computational linguistics\n",
            "1: Databases\n",
            "2: Operating systems\n",
            "3: Computer architecture\n",
            "4: Computer security\n",
            "5: Internet protocols\n",
            "6: Computer file systems\n",
            "7: Distributed computing architecture\n",
            "8: Web technology\n",
            "9: Programming language topics\n"
          ],
          "name": "stdout"
        }
      ]
    },
    {
      "cell_type": "code",
      "metadata": {
        "id": "7pDn_vdhCNPw"
      },
      "source": [
        "def print_node(idx, url=True, label=True):\n",
        "    node_info = data_metadata['nodes'][idx]\n",
        "    print(f'--Node {idx}--')\n",
        "    if url:\n",
        "        title = node_info['title']\n",
        "        wiki_url = 'https://en.wikipedia.org/wiki/' + title\n",
        "        print(wiki_url)\n",
        "    if label:\n",
        "        print('Label:', node_info['label'])\n",
        "    print()"
      ],
      "execution_count": 6,
      "outputs": []
    },
    {
      "cell_type": "code",
      "metadata": {
        "colab": {
          "base_uri": "https://localhost:8080/"
        },
        "id": "hvCmB6tFCr4R",
        "outputId": "7ba93e95-a740-4d78-959b-5239e1ef79ea"
      },
      "source": [
        "for i in range(10):\n",
        "    print_node(i)"
      ],
      "execution_count": 7,
      "outputs": [
        {
          "output_type": "stream",
          "text": [
            "--Node 0--\n",
            "https://en.wikipedia.org/wiki/Twilio\n",
            "Label: Distributed computing architecture\n",
            "\n",
            "--Node 1--\n",
            "https://en.wikipedia.org/wiki/Program_compatibility_date_range\n",
            "Label: Operating systems\n",
            "\n",
            "--Node 2--\n",
            "https://en.wikipedia.org/wiki/SYSTAT_(DEC)\n",
            "Label: Operating systems\n",
            "\n",
            "--Node 3--\n",
            "https://en.wikipedia.org/wiki/List_of_column-oriented_DBMSes\n",
            "Label: Databases\n",
            "\n",
            "--Node 4--\n",
            "https://en.wikipedia.org/wiki/Stealth_wallpaper\n",
            "Label: Computer security\n",
            "\n",
            "--Node 5--\n",
            "https://en.wikipedia.org/wiki/Scalable_TCP\n",
            "Label: Internet protocols\n",
            "\n",
            "--Node 6--\n",
            "https://en.wikipedia.org/wiki/Carrier_IQ\n",
            "Label: Computer security\n",
            "\n",
            "--Node 7--\n",
            "https://en.wikipedia.org/wiki/ACF2\n",
            "Label: Operating systems\n",
            "\n",
            "--Node 8--\n",
            "https://en.wikipedia.org/wiki/Dorkbot_(malware)\n",
            "Label: Computer security\n",
            "\n",
            "--Node 9--\n",
            "https://en.wikipedia.org/wiki/Lout_(software)\n",
            "Label: Programming language topics\n",
            "\n"
          ],
          "name": "stdout"
        }
      ]
    },
    {
      "cell_type": "code",
      "metadata": {
        "id": "IiWSjUmW1ZQ2"
      },
      "source": [
        "## Build the article retrieval system ##\n",
        "import torch\n",
        "import torch.nn.functional as F\n",
        "from torch_geometric.nn import SAGEConv\n",
        "from tqdm import tqdm\n",
        "import matplotlib.pyplot as plt"
      ],
      "execution_count": 8,
      "outputs": []
    },
    {
      "cell_type": "code",
      "metadata": {
        "pycharm": {
          "name": "#%%\n"
        },
        "id": "wDbh3Ovy-10u"
      },
      "source": [
        "class GraphSAGE(torch.nn.Module):\n",
        "    def __init__(self, hidden_channels, num_features, num_classes):\n",
        "        super(GraphSAGE, self).__init__()\n",
        "        self.conv1 = SAGEConv(num_features, hidden_channels)  # the node's word vector (with size num_features) is\n",
        "                                                              # transformed to a vector of size hidden_channels\n",
        "        self.conv2 = SAGEConv(hidden_channels, hidden_channels)\n",
        "\n",
        "        self.conv3 = SAGEConv(hidden_channels, num_classes)  # we convert our nodes from hidden_channels to num_classes, the\n",
        "                                                             # last update step turns a node's state into a node-class prediction\n",
        "\n",
        "    def forward(self, x, edge_index):\n",
        "        # x = (1), all nodes contain information about itself (x_size, num_features)\n",
        "        x = self.conv1(x, edge_index) # x = (2), update all nodes for the first time, returning (x_size, hidden_channels)\n",
        "        x = x.relu()  # activation function\n",
        "        x = self.conv2(x, edge_index)\n",
        "        x = x.relu()\n",
        "        x = self.conv2(x, edge_index)\n",
        "        x = x.relu()\n",
        "        x = F.dropout(x, p=0.5)  # attempt to combat overfitting, as we only have few labels\n",
        "        x = self.conv3(x, edge_index)  # x = (3), update all nodes again, returning (x_size, num_classes)\n",
        "                                       # this final update transforms each node embedding to a class prediction\n",
        "                                       # we do not apply an activation, as the PyTorch CCE calculation\n",
        "                                       # takes care of treating this output as 'softmax'.\n",
        "        return x"
      ],
      "execution_count": 9,
      "outputs": []
    },
    {
      "cell_type": "code",
      "metadata": {
        "pycharm": {
          "name": "#%%\n"
        },
        "id": "YgP8hGeY-10u"
      },
      "source": [
        "class GNNTrainer():\n",
        "    def __init__(self,\n",
        "                 model: torch.nn.Module,\n",
        "                 device: torch.device,\n",
        "                 criterion: torch.nn.Module,\n",
        "                 optimizer: torch.optim.Optimizer,\n",
        "                 epochs: int,\n",
        "                 data\n",
        "                 ):\n",
        "        self.model = model\n",
        "        self.criterion = criterion\n",
        "        self.optimizer = optimizer\n",
        "        self.device = device\n",
        "        self.epochs = epochs\n",
        "        self.data = data\n",
        "\n",
        "    def run_trainer(self):\n",
        "        losses = []\n",
        "        train_accs = []\n",
        "        val_accs = []\n",
        "        x = self.data.x.to(self.device)\n",
        "        edge_index = self.data.edge_index.to(self.device)\n",
        "        y = self.data.y.to(self.device)\n",
        "        for epoch in tqdm(range(self.epochs)):\n",
        "            self.model.train()  # train mode\n",
        "            self.optimizer.zero_grad()\n",
        "            out = self.model(x, edge_index)\n",
        "            loss = self.criterion(out[self.data.train_mask], y[self.data.train_mask])\n",
        "            loss.backward()\n",
        "            self.optimizer.step()\n",
        "\n",
        "            self.model.eval()\n",
        "            pred = out.argmax(dim=1)\n",
        "            train_correct = pred[self.data.train_mask] == y[self.data.train_mask]\n",
        "            train_acc = int(train_correct.sum()) / int(self.data.train_mask.sum())\n",
        "            val_correct = pred[self.data.test_mask] == y[self.data.test_mask]\n",
        "            val_acc = int(val_correct.sum()) / int(self.data.test_mask.sum())\n",
        "            losses.append(loss)\n",
        "            train_accs.append(train_acc)\n",
        "            val_accs.append(val_acc)\n",
        "            if epoch % 20 == 0:\n",
        "                print('Epoch: {}, Loss: {}, ACC_train: {}, ACC_val: {}'.format(epoch, loss, train_acc, val_acc))\n",
        "        fig, axs = plt.subplots(2, 1, figsize=(8, 10))\n",
        "        t = range(1, self.epochs + 1)\n",
        "        axs[0].plot(t, losses, label = 'Training Loss')\n",
        "        axs[0].set_xlabel('epoch')\n",
        "        axs[0].set_ylabel('loss')\n",
        "        axs[0].grid(True)\n",
        "        axs[0].legend()\n",
        "\n",
        "        axs[1].plot(t, train_accs, label = 'Training Accuracy')\n",
        "        axs[1].plot(t, val_accs, label = 'Validation Accuracy')\n",
        "        axs[1].set_xlabel('epoch')\n",
        "        axs[1].set_ylabel('accuracy')\n",
        "        axs[1].grid(True)\n",
        "        axs[1].legend()\n",
        "\n",
        "        plt.show()"
      ],
      "execution_count": 10,
      "outputs": []
    },
    {
      "cell_type": "code",
      "metadata": {
        "pycharm": {
          "name": "#%%\n"
        },
        "id": "87VLW8Aj-10v"
      },
      "source": [
        "device = torch.device('cuda' if torch.cuda.is_available() else 'cpu')\n",
        "model = GraphSAGE(hidden_channels=32, num_features=num_node_feature, num_classes=num_class).to(device=device)\n",
        "loss_func = torch.nn.CrossEntropyLoss()\n",
        "optimizer = torch.optim.Adam(model.parameters(), lr=0.01, weight_decay=5e-4)\n",
        "trainer = GNNTrainer(model=model,\n",
        "                     device=device,\n",
        "                     criterion=loss_func,\n",
        "                     optimizer=optimizer,\n",
        "                     epochs=300,\n",
        "                     data=data_1)"
      ],
      "execution_count": 11,
      "outputs": []
    },
    {
      "cell_type": "code",
      "metadata": {
        "pycharm": {
          "name": "#%%\n"
        },
        "colab": {
          "base_uri": "https://localhost:8080/",
          "height": 908
        },
        "id": "3Sa6V-IL-10w",
        "outputId": "72679c70-85a1-4145-a36e-cd25ecadeba3"
      },
      "source": [
        "trainer.run_trainer()"
      ],
      "execution_count": 12,
      "outputs": [
        {
          "output_type": "stream",
          "text": [
            "  4%|▍         | 13/300 [00:00<00:04, 59.96it/s]"
          ],
          "name": "stderr"
        },
        {
          "output_type": "stream",
          "text": [
            "Epoch: 0, Loss: 2.310333490371704, ACC_train: 0.08812260536398467, ACC_val: 0.09199700822737472\n"
          ],
          "name": "stdout"
        },
        {
          "output_type": "stream",
          "text": [
            " 13%|█▎        | 38/300 [00:00<00:03, 72.86it/s]"
          ],
          "name": "stderr"
        },
        {
          "output_type": "stream",
          "text": [
            "Epoch: 20, Loss: 1.1334686279296875, ACC_train: 0.6168582375478927, ACC_val: 0.5921839940164547\n"
          ],
          "name": "stdout"
        },
        {
          "output_type": "stream",
          "text": [
            " 19%|█▊        | 56/300 [00:00<00:03, 79.85it/s]"
          ],
          "name": "stderr"
        },
        {
          "output_type": "stream",
          "text": [
            "Epoch: 40, Loss: 0.7581508755683899, ACC_train: 0.7547892720306514, ACC_val: 0.6538893044128646\n"
          ],
          "name": "stdout"
        },
        {
          "output_type": "stream",
          "text": [
            " 25%|██▍       | 74/300 [00:00<00:02, 83.70it/s]"
          ],
          "name": "stderr"
        },
        {
          "output_type": "stream",
          "text": [
            "Epoch: 60, Loss: 0.5363776683807373, ACC_train: 0.8160919540229885, ACC_val: 0.6763275991024682\n"
          ],
          "name": "stdout"
        },
        {
          "output_type": "stream",
          "text": [
            " 31%|███       | 92/300 [00:01<00:02, 85.86it/s]"
          ],
          "name": "stderr"
        },
        {
          "output_type": "stream",
          "text": [
            "Epoch: 80, Loss: 0.3522892892360687, ACC_train: 0.8659003831417624, ACC_val: 0.6881077038145101\n"
          ],
          "name": "stdout"
        },
        {
          "output_type": "stream",
          "text": [
            " 37%|███▋      | 110/300 [00:01<00:02, 86.59it/s]"
          ],
          "name": "stderr"
        },
        {
          "output_type": "stream",
          "text": [
            "Epoch: 100, Loss: 0.3265279531478882, ACC_train: 0.9080459770114943, ACC_val: 0.6918474195961107\n"
          ],
          "name": "stdout"
        },
        {
          "output_type": "stream",
          "text": [
            " 46%|████▌     | 137/300 [00:01<00:01, 87.43it/s]"
          ],
          "name": "stderr"
        },
        {
          "output_type": "stream",
          "text": [
            "Epoch: 120, Loss: 0.167490616440773, ACC_train: 0.9521072796934866, ACC_val: 0.693904263275991\n"
          ],
          "name": "stdout"
        },
        {
          "output_type": "stream",
          "text": [
            " 52%|█████▏    | 155/300 [00:01<00:01, 87.28it/s]"
          ],
          "name": "stderr"
        },
        {
          "output_type": "stream",
          "text": [
            "Epoch: 140, Loss: 0.12797339260578156, ACC_train: 0.9521072796934866, ACC_val: 0.699513836948392\n"
          ],
          "name": "stdout"
        },
        {
          "output_type": "stream",
          "text": [
            " 58%|█████▊    | 173/300 [00:02<00:01, 88.17it/s]"
          ],
          "name": "stderr"
        },
        {
          "output_type": "stream",
          "text": [
            "Epoch: 160, Loss: 0.0788341611623764, ACC_train: 0.9731800766283525, ACC_val: 0.6993268511593119\n"
          ],
          "name": "stdout"
        },
        {
          "output_type": "stream",
          "text": [
            " 64%|██████▎   | 191/300 [00:02<00:01, 88.23it/s]"
          ],
          "name": "stderr"
        },
        {
          "output_type": "stream",
          "text": [
            "Epoch: 180, Loss: 0.061886660754680634, ACC_train: 0.9865900383141762, ACC_val: 0.6948391922213911\n"
          ],
          "name": "stdout"
        },
        {
          "output_type": "stream",
          "text": [
            " 73%|███████▎  | 218/300 [00:02<00:00, 86.99it/s]"
          ],
          "name": "stderr"
        },
        {
          "output_type": "stream",
          "text": [
            "Epoch: 200, Loss: 0.0640140026807785, ACC_train: 0.9789272030651341, ACC_val: 0.6974569932685116\n"
          ],
          "name": "stdout"
        },
        {
          "output_type": "stream",
          "text": [
            " 79%|███████▊  | 236/300 [00:02<00:00, 87.96it/s]"
          ],
          "name": "stderr"
        },
        {
          "output_type": "stream",
          "text": [
            "Epoch: 220, Loss: 0.06454449892044067, ACC_train: 0.9731800766283525, ACC_val: 0.6901645474943904\n"
          ],
          "name": "stdout"
        },
        {
          "output_type": "stream",
          "text": [
            " 85%|████████▍ | 254/300 [00:02<00:00, 88.32it/s]"
          ],
          "name": "stderr"
        },
        {
          "output_type": "stream",
          "text": [
            "Epoch: 240, Loss: 0.08515354990959167, ACC_train: 0.9674329501915708, ACC_val: 0.6860508601346298\n"
          ],
          "name": "stdout"
        },
        {
          "output_type": "stream",
          "text": [
            " 91%|█████████ | 272/300 [00:03<00:00, 87.90it/s]"
          ],
          "name": "stderr"
        },
        {
          "output_type": "stream",
          "text": [
            "Epoch: 260, Loss: 0.15762898325920105, ACC_train: 0.9501915708812261, ACC_val: 0.706058339566193\n"
          ],
          "name": "stdout"
        },
        {
          "output_type": "stream",
          "text": [
            " 97%|█████████▋| 290/300 [00:03<00:00, 88.09it/s]"
          ],
          "name": "stderr"
        },
        {
          "output_type": "stream",
          "text": [
            "Epoch: 280, Loss: 0.05737724527716637, ACC_train: 0.9846743295019157, ACC_val: 0.7167165295437546\n"
          ],
          "name": "stdout"
        },
        {
          "output_type": "stream",
          "text": [
            "100%|██████████| 300/300 [00:03<00:00, 85.63it/s]\n"
          ],
          "name": "stderr"
        },
        {
          "output_type": "display_data",
          "data": {
            "image/png": "[encoded data removed]",
            "text/plain": [
              "<Figure size 576x720 with 2 Axes>"
            ]
          },
          "metadata": {
            "tags": [],
            "needs_background": "light"
          }
        }
      ]
    },
    {
      "cell_type": "code",
      "metadata": {
        "id": "nxwb70w6BLzc"
      },
      "source": [
        "## Evaluate the article retrieval system ##\n",
        "PATH = 'GNN.model'\n",
        "torch.save(model, PATH)\n"
      ],
      "execution_count": 14,
      "outputs": []
    },
    {
      "cell_type": "markdown",
      "metadata": {
        "id": "n-VtEksc1fCt"
      },
      "source": [
        "# Task 2"
      ]
    },
    {
      "cell_type": "code",
      "metadata": {
        "id": "5FDvj8rpJjaI"
      },
      "source": [
        "import torch\n",
        "import torch.nn as nn\n",
        "from torch.optim import Adam\n",
        "from torchvision.datasets import FashionMNIST\n",
        "import torchvision.transforms as transforms\n",
        "from torch.utils.data import DataLoader, SubsetRandomSampler\n",
        "import numpy as np\n",
        "import matplotlib.pyplot as plt\n",
        "import seaborn as sns\n",
        "from tqdm import tqdm\n",
        "from sklearn.metrics import roc_curve, precision_recall_curve, auc"
      ],
      "execution_count": 15,
      "outputs": []
    },
    {
      "cell_type": "markdown",
      "metadata": {
        "id": "BN14j28bFiOe"
      },
      "source": [
        "## Data Process\n"
      ]
    },
    {
      "cell_type": "code",
      "metadata": {
        "id": "_-TRngWF1ggw"
      },
      "source": [
        "## Build the anomaly detection model ##"
      ],
      "execution_count": 16,
      "outputs": []
    },
    {
      "cell_type": "code",
      "metadata": {
        "colab": {
          "base_uri": "https://localhost:8080/"
        },
        "id": "ioG8yLkf_Qmv",
        "outputId": "22928d5b-3f6e-4284-a29f-e8a553c67708"
      },
      "source": [
        "GNNPATH = 'drive/MyDrive/GNN.model'\n",
        "GNN_model = torch.load(GNNPATH)\n",
        "GNN_model.eval()\n",
        "\n"
      ],
      "execution_count": 17,
      "outputs": [
        {
          "output_type": "execute_result",
          "data": {
            "text/plain": [
              "GraphSAGE(\n",
              "  (conv1): SAGEConv(300, 32)\n",
              "  (conv2): SAGEConv(32, 32)\n",
              "  (conv3): SAGEConv(32, 10)\n",
              ")"
            ]
          },
          "metadata": {
            "tags": []
          },
          "execution_count": 17
        }
      ]
    },
    {
      "cell_type": "code",
      "metadata": {
        "id": "_ee8w-ZC1jJD"
      },
      "source": [
        "## Download the anomaly evaluation data ##\n",
        "data_2 = download('https://surfdrive.surf.nl/files/index.php/s/EzMkh3SZbsbJb2i/download', filetype='tensor')\n",
        "is_anomaly = download('https://surfdrive.surf.nl/files/index.php/s/wrK5xipcIC9DHhu/download', filetype='pickle')"
      ],
      "execution_count": 18,
      "outputs": []
    },
    {
      "cell_type": "code",
      "metadata": {
        "colab": {
          "base_uri": "https://localhost:8080/"
        },
        "id": "IXVaLNjF-mFi",
        "outputId": "d4e01242-6ddc-487c-e1fa-ae829b404e7a"
      },
      "source": [
        "total_node = data_2.x.shape[0]\n",
        "total_edge = data_2.edge_index.shape[1]\n",
        "new_node = total_node - num_node\n",
        "new_edge = total_edge - num_edge\n",
        "print(f'Num new nodes: {new_node}')\n",
        "print(f'Num new edges: {new_edge}')"
      ],
      "execution_count": 19,
      "outputs": [
        {
          "output_type": "stream",
          "text": [
            "Num new nodes: 2000\n",
            "Num new edges: 50176\n"
          ],
          "name": "stdout"
        }
      ]
    },
    {
      "cell_type": "code",
      "metadata": {
        "colab": {
          "base_uri": "https://localhost:8080/"
        },
        "id": "8mVXRMxPA_oQ",
        "outputId": "6973a3f5-8e3c-43b0-e436-fbf74b9a5513"
      },
      "source": [
        "print(f'Indices of new nodes are {num_node}...{total_node-1}')\n",
        "print('The first 1000 are real articles, the last 1000 are anomaly articles')\n",
        "print('You can use the map \"is_anomaly\" to identify whether a node is an anomaly or not')\n",
        "e_real = num_node+500\n",
        "e_anomaly = num_node+1500\n",
        "print(f'E.g., is_anomaly[{e_real}] = {is_anomaly[e_real]} and is_anomaly[{e_anomaly}] = {is_anomaly[e_anomaly]}')"
      ],
      "execution_count": 20,
      "outputs": [
        {
          "output_type": "stream",
          "text": [
            "Indices of new nodes are 10701...12700\n",
            "The first 1000 are real articles, the last 1000 are anomaly articles\n",
            "You can use the map \"is_anomaly\" to identify whether a node is an anomaly or not\n",
            "E.g., is_anomaly[11201] = 0 and is_anomaly[12201] = 1\n"
          ],
          "name": "stdout"
        }
      ]
    },
    {
      "cell_type": "code",
      "metadata": {
        "colab": {
          "base_uri": "https://localhost:8080/"
        },
        "id": "ylse-QIqwBtE",
        "outputId": "97683930-824f-43d6-88ca-e2c02020526b"
      },
      "source": [
        "device = torch.device('cuda' if torch.cuda.is_available() else 'cpu')\n",
        "#print(data_1)\n",
        "#print(data_2)\n",
        "\n",
        "num_node_feature2 = data_1.x.shape[1]\n",
        "num_class2 = int(max(data_1.y)+1)\n",
        "num_label2 = sum(data_1.train_mask)\n",
        "\n",
        "\n",
        "print(f'Num node features: {num_node_feature2}')\n",
        "print(f'Num classes: {num_class2}')\n",
        "print()\n",
        "print(f'Num training labels: {num_label2}')\n",
        "\n",
        "\n",
        "activation = {}\n",
        "def get_activation(name):\n",
        "    def hook(model, input, output):\n",
        "        activation[name] = output.detach()\n",
        "    return hook\n",
        "\n",
        "GNN_model.conv2.register_forward_hook(get_activation('conv2'))\n",
        "#x = torch.randn(1, 25)\n",
        "outputs = GNN_model(data_2.x.to(device), data_2.edge_index.to(device)).tolist()"
      ],
      "execution_count": 36,
      "outputs": [
        {
          "output_type": "stream",
          "text": [
            "Num node features: 300\n",
            "Num classes: 10\n",
            "\n",
            "Num training labels: 522\n"
          ],
          "name": "stdout"
        }
      ]
    },
    {
      "cell_type": "code",
      "metadata": {
        "id": "CsRejF-UJqtr"
      },
      "source": [
        "#embeddings = activation['conv2'].cpu().tolist()\n",
        "#embeddings = data_2.x.to(device).tolist()\n",
        "embeddings = outputs\n",
        "#print(embeddings)\n"
      ],
      "execution_count": 53,
      "outputs": []
    },
    {
      "cell_type": "code",
      "metadata": {
        "id": "aXRupcdfyNYO"
      },
      "source": [
        "train_dataset = embeddings[:num_node]\n",
        "normal_test= embeddings[num_node : num_node + 1000]\n",
        "anomaly_test= embeddings[num_node + 1000 : ]\n",
        "#print(normal_test)"
      ],
      "execution_count": 54,
      "outputs": []
    },
    {
      "cell_type": "code",
      "metadata": {
        "id": "wIpSf4sMFnhV"
      },
      "source": [
        "batch_size = 100\n",
        "kwargs = {'num_workers': 1, 'pin_memory': True}\n",
        "\n",
        "train_dataset = torch.utils.data.TensorDataset(torch.tensor(train_dataset), torch.tensor(np.zeros((len(train_dataset)), dtype=int)))\n",
        "normal_test =  torch.utils.data.TensorDataset(torch.tensor(normal_test), torch.tensor(np.zeros((len(normal_test)), dtype=int)))\n",
        "anomaly_test = torch.utils.data.TensorDataset(torch.tensor(anomaly_test), torch.tensor(np.zeros((len(anomaly_test)), dtype=int)))\n",
        "\n",
        "# setup DataLoaders\n",
        "normal_loader_train = DataLoader(dataset=train_dataset, batch_size=batch_size, shuffle=True, **kwargs)\n",
        "normal_loader_test = DataLoader(dataset=normal_test, batch_size=batch_size, shuffle=True, **kwargs)\n",
        "anomaly_loader_test = DataLoader(dataset=anomaly_test, batch_size=batch_size, shuffle=True, **kwargs)\n"
      ],
      "execution_count": 55,
      "outputs": []
    },
    {
      "cell_type": "markdown",
      "metadata": {
        "id": "fZgkCD3nDGqg"
      },
      "source": [
        "## Model"
      ]
    },
    {
      "cell_type": "code",
      "metadata": {
        "id": "O18Djr8pBed0"
      },
      "source": [
        "# VAE model\n",
        "class Encoder(nn.Module):\n",
        "    def __init__(self, input_dim, hidden_dim, latent_dim):\n",
        "        super(Encoder, self).__init__()\n",
        "        self.fc_input = nn.Linear(input_dim, hidden_dim)\n",
        "        self.fc_hidden = nn.Linear(hidden_dim, hidden_dim)\n",
        "        self.fc_mu = nn.Linear(hidden_dim, latent_dim)\n",
        "        self.fc_sigma = nn.Linear (hidden_dim, latent_dim)\n",
        "        \n",
        "    def forward(self, x):\n",
        "        h = torch.relu(self.fc_input(x))\n",
        "        h = torch.relu(self.fc_hidden(h))\n",
        "        mu = self.fc_mu(h)\n",
        "        log_sigma = self.fc_sigma(h)\n",
        "        z = self.reparameterization(mu, log_sigma)\n",
        "\n",
        "        return z, mu, log_sigma\n",
        "    \n",
        "    def reparameterization(self, mu, log_sigma):\n",
        "        sigma = torch.exp(log_sigma)\n",
        "        epsilon = torch.rand_like(sigma).to(DEVICE)\n",
        "        z = mu + sigma * epsilon\n",
        "        \n",
        "        return z"
      ],
      "execution_count": 57,
      "outputs": []
    },
    {
      "cell_type": "code",
      "metadata": {
        "id": "5loNhL67By2X"
      },
      "source": [
        "class Decoder(nn.Module):\n",
        "    def __init__(self, latent_dim, hidden_dim, output_dim):\n",
        "        super(Decoder, self).__init__()\n",
        "        self.fc_hidden1 = nn.Linear(latent_dim, hidden_dim)\n",
        "        self.fc_hidden2 = nn.Linear(hidden_dim, hidden_dim)\n",
        "        self.fc_output = nn.Linear(hidden_dim, output_dim)\n",
        "        \n",
        "    def forward(self, x):\n",
        "        h = torch.relu(self.fc_hidden1(x))\n",
        "        h = torch.relu(self.fc_hidden2(h))\n",
        "        x_reconstr = torch.sigmoid(self.fc_output(h))\n",
        "        return x_reconstr"
      ],
      "execution_count": 58,
      "outputs": []
    },
    {
      "cell_type": "code",
      "metadata": {
        "id": "TxTIVvJHBy_q"
      },
      "source": [
        "class VAE(nn.Module):\n",
        "    def __init__(self, encoder, decoder):\n",
        "        super(VAE, self).__init__()\n",
        "        self.encoder = encoder\n",
        "        self.decoder = decoder\n",
        "                \n",
        "    def forward(self, x):\n",
        "        z, mu, log_sigma = self.encoder(x)\n",
        "        x_reconstr = self.decoder(z)\n",
        "        \n",
        "        return x_reconstr, mu, log_sigma"
      ],
      "execution_count": 59,
      "outputs": []
    },
    {
      "cell_type": "code",
      "metadata": {
        "id": "KJokHDmRBrta",
        "colab": {
          "base_uri": "https://localhost:8080/"
        },
        "outputId": "0b570f50-a060-40f9-d969-dfd27d399f06"
      },
      "source": [
        "x_dim  = len(train_dataset[0][0])\n",
        "hidden_dim = 500\n",
        "latent_dim = num_class\n",
        "print(x_dim, hidden_dim, latent_dim)\n",
        "\n",
        "cuda = True  # NOTE: if running in Google Colab, make sure to go to \"Edit > Notebook settings\" and set \"Hardware accelerator\" to \"GPU\"\n",
        "DEVICE = torch.device(\"cuda\" if cuda else \"cpu\")\n",
        "\n",
        "encoder = Encoder(input_dim=x_dim, hidden_dim=hidden_dim, latent_dim=latent_dim)\n",
        "decoder = Decoder(latent_dim=latent_dim, hidden_dim=hidden_dim, output_dim=x_dim)\n",
        "\n",
        "vae = VAE(encoder=encoder, decoder=decoder).to(DEVICE)"
      ],
      "execution_count": 60,
      "outputs": [
        {
          "output_type": "stream",
          "text": [
            "10 500 10\n"
          ],
          "name": "stdout"
        }
      ]
    },
    {
      "cell_type": "code",
      "metadata": {
        "colab": {
          "base_uri": "https://localhost:8080/"
        },
        "id": "4Sumk6jed3jp",
        "outputId": "fdc9b905-7e46-47d6-cb24-702fb4f6581f"
      },
      "source": [
        "vae.eval()"
      ],
      "execution_count": 61,
      "outputs": [
        {
          "output_type": "execute_result",
          "data": {
            "text/plain": [
              "VAE(\n",
              "  (encoder): Encoder(\n",
              "    (fc_input): Linear(in_features=10, out_features=500, bias=True)\n",
              "    (fc_hidden): Linear(in_features=500, out_features=500, bias=True)\n",
              "    (fc_mu): Linear(in_features=500, out_features=10, bias=True)\n",
              "    (fc_sigma): Linear(in_features=500, out_features=10, bias=True)\n",
              "  )\n",
              "  (decoder): Decoder(\n",
              "    (fc_hidden1): Linear(in_features=10, out_features=500, bias=True)\n",
              "    (fc_hidden2): Linear(in_features=500, out_features=500, bias=True)\n",
              "    (fc_output): Linear(in_features=500, out_features=10, bias=True)\n",
              "  )\n",
              ")"
            ]
          },
          "metadata": {
            "tags": []
          },
          "execution_count": 61
        }
      ]
    },
    {
      "cell_type": "code",
      "metadata": {
        "id": "MqfQywLgB86L"
      },
      "source": [
        "lr = 1e-3\n",
        "\n",
        "def loss_function(x, x_reconstr, mu, log_sigma):\n",
        "    reconstr_loss = nn.functional.mse_loss(x_reconstr, x, reduction='sum')\n",
        "    kl_loss = 0.5 * torch.sum(mu.pow(2) + (2*log_sigma).exp() - 2*log_sigma - 1)\n",
        "    total_loss = reconstr_loss + kl_loss\n",
        "    return total_loss, reconstr_loss, kl_loss\n",
        "\n",
        "optimizer = Adam(vae.parameters(), lr=lr)"
      ],
      "execution_count": 62,
      "outputs": []
    },
    {
      "cell_type": "markdown",
      "metadata": {
        "id": "_duI-zHqDOwo"
      },
      "source": [
        "## Training"
      ]
    },
    {
      "cell_type": "code",
      "metadata": {
        "id": "m6U8GbGrCkSf",
        "colab": {
          "base_uri": "https://localhost:8080/"
        },
        "outputId": "f8d1c9f3-831e-42cb-8404-a28cac7c02bc"
      },
      "source": [
        "#training \n",
        "epochs = 200\n",
        "\n",
        "print(\"Start training VAE...\")\n",
        "vae.train()\n",
        "\n",
        "for epoch in tqdm(range(epochs)):\n",
        "    overall_loss = 0\n",
        "    overall_reconstr_loss = 0\n",
        "    overall_kl_loss = 0\n",
        "    for batch_idx, (x, _) in enumerate(normal_loader_train):\n",
        "        #print(x.shape)\n",
        "        x = x.view(-1, x_dim)\n",
        "        x = x.to(DEVICE)\n",
        "\n",
        "        optimizer.zero_grad()\n",
        "\n",
        "        x_reconstr, mu, log_sigma = vae(x)\n",
        "        loss, reconstr_loss, kl_loss = loss_function(x, x_reconstr, mu, log_sigma)\n",
        "        \n",
        "        overall_loss += loss.item()\n",
        "        overall_reconstr_loss += reconstr_loss.item()\n",
        "        overall_kl_loss += kl_loss.item()\n",
        "        \n",
        "        loss.backward()\n",
        "        optimizer.step()\n",
        "        \n",
        "    n_datapoints = batch_idx * batch_size\n",
        "    if epoch % 20 == 0:\n",
        "      print('Epoch: {}, Avg_loss: {}, Reconstr_loss: {}, KL_loss: {}'.format(epoch, overall_loss/n_datapoints, overall_reconstr_loss/n_datapoints, overall_kl_loss/n_datapoints))\n",
        "   \n",
        "print()   \n",
        "print(\"Training complete!\")"
      ],
      "execution_count": 63,
      "outputs": [
        {
          "output_type": "stream",
          "text": [
            "\r  0%|          | 0/200 [00:00<?, ?it/s]"
          ],
          "name": "stderr"
        },
        {
          "output_type": "stream",
          "text": [
            "Start training VAE...\n"
          ],
          "name": "stdout"
        },
        {
          "output_type": "stream",
          "text": [
            "\r  0%|          | 1/200 [00:00<02:04,  1.59it/s]"
          ],
          "name": "stderr"
        },
        {
          "output_type": "stream",
          "text": [
            "Epoch: 0, Avg_loss: 1810.7519638831593, Reconstr_loss: 1797.1519972300307, KL_loss: 13.599965212935599\n"
          ],
          "name": "stdout"
        },
        {
          "output_type": "stream",
          "text": [
            " 10%|█         | 21/200 [00:12<01:49,  1.64it/s]"
          ],
          "name": "stderr"
        },
        {
          "output_type": "stream",
          "text": [
            "Epoch: 20, Avg_loss: 1789.80194566388, Reconstr_loss: 1788.494687477183, KL_loss: 1.3072578502369818\n"
          ],
          "name": "stdout"
        },
        {
          "output_type": "stream",
          "text": [
            " 20%|██        | 41/200 [00:24<01:34,  1.69it/s]"
          ],
          "name": "stderr"
        },
        {
          "output_type": "stream",
          "text": [
            "Epoch: 40, Avg_loss: 1789.0970909389603, Reconstr_loss: 1788.1351355664974, KL_loss: 0.9619606602971799\n"
          ],
          "name": "stdout"
        },
        {
          "output_type": "stream",
          "text": [
            " 30%|███       | 61/200 [00:35<01:19,  1.75it/s]"
          ],
          "name": "stderr"
        },
        {
          "output_type": "stream",
          "text": [
            "Epoch: 60, Avg_loss: 1789.1120214501498, Reconstr_loss: 1788.1011791878102, KL_loss: 1.0108413702750874\n"
          ],
          "name": "stdout"
        },
        {
          "output_type": "stream",
          "text": [
            " 40%|████      | 81/200 [00:47<01:10,  1.69it/s]"
          ],
          "name": "stderr"
        },
        {
          "output_type": "stream",
          "text": [
            "Epoch: 80, Avg_loss: 1788.9734457140771, Reconstr_loss: 1787.939166550681, KL_loss: 1.0342794908541386\n"
          ],
          "name": "stdout"
        },
        {
          "output_type": "stream",
          "text": [
            " 50%|█████     | 101/200 [00:59<00:57,  1.72it/s]"
          ],
          "name": "stderr"
        },
        {
          "output_type": "stream",
          "text": [
            "Epoch: 100, Avg_loss: 1788.6965665385878, Reconstr_loss: 1787.9036555637824, KL_loss: 0.7929082571513185\n"
          ],
          "name": "stdout"
        },
        {
          "output_type": "stream",
          "text": [
            " 60%|██████    | 121/200 [01:10<00:46,  1.71it/s]"
          ],
          "name": "stderr"
        },
        {
          "output_type": "stream",
          "text": [
            "Epoch: 120, Avg_loss: 1788.6755082007435, Reconstr_loss: 1787.8400346078606, KL_loss: 0.8354732299408066\n"
          ],
          "name": "stdout"
        },
        {
          "output_type": "stream",
          "text": [
            " 70%|███████   | 141/200 [01:22<00:34,  1.73it/s]"
          ],
          "name": "stderr"
        },
        {
          "output_type": "stream",
          "text": [
            "Epoch: 140, Avg_loss: 1788.8889517810858, Reconstr_loss: 1787.9057385367992, KL_loss: 0.983214120123988\n"
          ],
          "name": "stdout"
        },
        {
          "output_type": "stream",
          "text": [
            " 80%|████████  | 161/200 [01:34<00:22,  1.71it/s]"
          ],
          "name": "stderr"
        },
        {
          "output_type": "stream",
          "text": [
            "Epoch: 160, Avg_loss: 1788.7803961637978, Reconstr_loss: 1787.892629308968, KL_loss: 0.8877735568429822\n"
          ],
          "name": "stdout"
        },
        {
          "output_type": "stream",
          "text": [
            " 90%|█████████ | 181/200 [01:45<00:11,  1.71it/s]"
          ],
          "name": "stderr"
        },
        {
          "output_type": "stream",
          "text": [
            "Epoch: 180, Avg_loss: 1788.9152654744087, Reconstr_loss: 1787.9342647260148, KL_loss: 0.9810007400546118\n"
          ],
          "name": "stdout"
        },
        {
          "output_type": "stream",
          "text": [
            "100%|██████████| 200/200 [01:56<00:00,  1.71it/s]"
          ],
          "name": "stderr"
        },
        {
          "output_type": "stream",
          "text": [
            "\n",
            "Training complete!\n"
          ],
          "name": "stdout"
        },
        {
          "output_type": "stream",
          "text": [
            "\n"
          ],
          "name": "stderr"
        }
      ]
    },
    {
      "cell_type": "code",
      "metadata": {
        "id": "Xdti6eKlElXk"
      },
      "source": [
        "PATH = 'VAE.model'\n",
        "torch.save(vae, PATH)"
      ],
      "execution_count": 64,
      "outputs": []
    },
    {
      "cell_type": "markdown",
      "metadata": {
        "id": "hUqpO-aZC7BS"
      },
      "source": [
        "## Evaluation\n",
        "\n"
      ]
    },
    {
      "cell_type": "code",
      "metadata": {
        "id": "ddV1RODXCo9e"
      },
      "source": [
        "def elbo_elementwise(x, x_reconstr, mu, log_sigma):\n",
        "    reconstr_loss = torch.sum(nn.functional.mse_loss(x_reconstr, x, reduction='none'), dim=1)\n",
        "    constant_term = x_dim * 0.5 * np.log(np.pi)  # assuming sigma=1/sqrt(2)\n",
        "    kl_loss = 0.5 * torch.sum(mu.pow(2) + (2*log_sigma).exp() - 2*log_sigma - 1, dim=1)\n",
        "    elbo = - reconstr_loss - constant_term - kl_loss\n",
        "    return elbo, reconstr_loss, kl_loss"
      ],
      "execution_count": 65,
      "outputs": []
    },
    {
      "cell_type": "code",
      "metadata": {
        "id": "JrH5fZreCvfJ",
        "colab": {
          "base_uri": "https://localhost:8080/"
        },
        "outputId": "0174a38c-d74d-4384-8432-d6d072f51c1e"
      },
      "source": [
        "#vae.eval()\n",
        "\n",
        "x_original_list_normal = []\n",
        "x_reconstr_list_normal = []\n",
        "elbos_normal = []\n",
        "x_original_list_anomaly = []\n",
        "x_reconstr_list_anomaly = []\n",
        "elbos_anomaly = []\n",
        "with torch.no_grad():\n",
        "    for batch_idx, (x, y) in enumerate(tqdm(normal_loader_test)):\n",
        "        x = x.view(batch_size, x_dim)\n",
        "        x = x.to(DEVICE)\n",
        "        \n",
        "        x_reconstr, mu, log_sigma = vae(x)\n",
        "        elbo, reconstr_loss, kl_loss = elbo_elementwise(x, x_reconstr, mu, log_sigma)\n",
        "\n",
        "        x_original_list_normal.append(x)\n",
        "        x_reconstr_list_normal.append(x_reconstr)\n",
        "        elbos_normal.append(elbo.cpu().numpy())\n",
        "    \n",
        "    for batch_idx, (x, y) in enumerate(tqdm(anomaly_loader_test)):\n",
        "        x = x.view(batch_size, x_dim)\n",
        "        x = x.to(DEVICE)\n",
        "        \n",
        "        x_reconstr, mu, log_sigma = vae(x)\n",
        "        elbo, reconstr_loss, kl_loss = elbo_elementwise(x, x_reconstr, mu, log_sigma)\n",
        "\n",
        "        x_original_list_anomaly.append(x)\n",
        "        x_reconstr_list_anomaly.append(x_reconstr)\n",
        "        elbos_anomaly.append(elbo.cpu().numpy())\n",
        "\n",
        "elbos_normal = np.concatenate(elbos_normal)  # loss values represent *negative* ELBO values\n",
        "elbos_anomaly = np.concatenate(elbos_anomaly)"
      ],
      "execution_count": 66,
      "outputs": [
        {
          "output_type": "stream",
          "text": [
            "100%|██████████| 10/10 [00:00<00:00, 91.18it/s]\n",
            "100%|██████████| 10/10 [00:00<00:00, 89.34it/s]\n"
          ],
          "name": "stderr"
        }
      ]
    },
    {
      "cell_type": "markdown",
      "metadata": {
        "id": "FY2CKVQuDVu2"
      },
      "source": [
        "### Density Plot"
      ]
    },
    {
      "cell_type": "code",
      "metadata": {
        "id": "8jJaYpuyQSmj",
        "colab": {
          "base_uri": "https://localhost:8080/",
          "height": 541
        },
        "outputId": "b2166766-6bf0-446f-b0e6-10b5e91e503a"
      },
      "source": [
        "def density_histogram(neg, pos, bins=30, alpha=0.4):\n",
        "    plt.figure()\n",
        "    plt.hist(neg, bins=bins, density=True, histtype=\"bar\", color=\"g\", alpha=alpha)\n",
        "    plt.hist(neg, bins=bins, density=True, histtype=\"step\", color=\"g\", alpha=1)\n",
        "    plt.hist(pos, bins=bins, density=True, histtype=\"bar\", color=\"r\", alpha=alpha)\n",
        "    plt.hist(pos, bins=bins, density=True, histtype=\"step\", color=\"r\", alpha=1)\n",
        "    plt.xlabel(\"ELBO value\")\n",
        "    plt.ylabel(\"Density\")\n",
        "    plt.show()\n",
        "\n",
        "\n",
        "def density_plot(neg, pos):\n",
        "    plt.figure()\n",
        "    sns.kdeplot(neg, shade=True, color=\"g\")\n",
        "    sns.kdeplot(pos, shade=True, color=\"r\")\n",
        "    plt.xlabel(\"ELBO value\")\n",
        "    plt.ylabel(\"Density\")\n",
        "\n",
        "density_histogram(elbos_normal, elbos_anomaly)\n",
        "density_plot(elbos_normal, elbos_anomaly)"
      ],
      "execution_count": 67,
      "outputs": [
        {
          "output_type": "display_data",
          "data": {
            "image/png": "[encoded data removed]",
            "text/plain": [
              "<Figure size 432x288 with 1 Axes>"
            ]
          },
          "metadata": {
            "tags": [],
            "needs_background": "light"
          }
        },
        {
          "output_type": "display_data",
          "data": {
            "image/png": "[encoded data removed]",
            "text/plain": [
              "<Figure size 432x288 with 1 Axes>"
            ]
          },
          "metadata": {
            "tags": [],
            "needs_background": "light"
          }
        }
      ]
    },
    {
      "cell_type": "markdown",
      "metadata": {
        "id": "omhz3nlJDXKG"
      },
      "source": [
        "### ROC-AUC"
      ]
    },
    {
      "cell_type": "code",
      "metadata": {
        "id": "nPspBe5SCy4L",
        "colab": {
          "base_uri": "https://localhost:8080/",
          "height": 683
        },
        "outputId": "ea3a84cf-1b9f-4d8e-eb7a-9ed7ea313039"
      },
      "source": [
        "def roc_pr_curves(neg, pos):\n",
        "    # translate to scores from 0 to 1, where 1 means anomaly (low ELBO) and 0 means normal (high ELBO)\n",
        "    min_val = min(np.min(neg), np.min(pos))\n",
        "    max_val = max(np.max(neg), np.max(pos))\n",
        "    y_true_neg = np.zeros(neg.shape)\n",
        "    y_true_pos = np.ones(pos.shape)\n",
        "    y_true = np.concatenate((y_true_neg, y_true_pos))\n",
        "    y_score = (max_val - np.concatenate((neg, pos))) / (max_val - min_val)\n",
        "\n",
        "    # get ROC curve values\n",
        "    fpr, tpr, _ = roc_curve(y_true, y_score, drop_intermediate=True)\n",
        "    auroc = auc(fpr, tpr)\n",
        "\n",
        "    # plot ROC curve\n",
        "    lw = 2\n",
        "    plt.figure(figsize=(5, 5))\n",
        "    plt.plot(fpr, tpr, color='darkorange',\n",
        "             lw=lw, label='ROC curve (AUC = %0.2f)' % auroc)\n",
        "    plt.plot([0, 1], [0, 1], color='navy', lw=lw, linestyle='--')\n",
        "    plt.xlim([0.0, 1.0])\n",
        "    plt.ylim([0.0, 1.0])\n",
        "    plt.xlabel('False Positive Rate')\n",
        "    plt.ylabel('True Positive Rate')\n",
        "    plt.title('Receiver Operating Characteristic')\n",
        "    plt.legend(loc=\"lower right\")\n",
        "    plt.show()\n",
        "    \n",
        "    # get Precision-Recall values\n",
        "    precision, recall, _ = precision_recall_curve(y_true, y_score)\n",
        "    auprc = auc(recall, precision)\n",
        "\n",
        "    # plot Precision-Recall curve\n",
        "    no_skill = len(y_true[y_true==1]) / len(y_true)\n",
        "    plt.figure(figsize=(5, 5))\n",
        "    plt.plot([0, 1], [no_skill, no_skill], color=\"navy\", lw=lw, linestyle='--')\n",
        "    plt.plot(recall, precision, color='darkorange',\n",
        "             lw=lw, label=\"PR curve (AUC= %0.2f)\" % auprc)\n",
        "    plt.xlabel('Recall')\n",
        "    plt.ylabel('Precision')\n",
        "    plt.title(\"Precision-Recall Curve\")\n",
        "    plt.legend(loc=\"upper right\")\n",
        "    plt.show()\n",
        "\n",
        "roc_pr_curves(elbos_normal, elbos_anomaly)"
      ],
      "execution_count": 68,
      "outputs": [
        {
          "output_type": "display_data",
          "data": {
            "image/png": "[encoded data removed]",
            "text/plain": [
              "<Figure size 360x360 with 1 Axes>"
            ]
          },
          "metadata": {
            "tags": [],
            "needs_background": "light"
          }
        },
        {
          "output_type": "display_data",
          "data": {
            "image/png": "[encoded data removed]",
            "text/plain": [
              "<Figure size 360x360 with 1 Axes>"
            ]
          },
          "metadata": {
            "tags": [],
            "needs_background": "light"
          }
        }
      ]
    }
  ]
}