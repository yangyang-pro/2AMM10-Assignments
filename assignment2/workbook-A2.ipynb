{
 "cells": [
  {
   "cell_type": "markdown",
   "metadata": {},
   "source": [
    "<a href=\"https://colab.research.google.com/github/vlamen/tue-deeplearning/blob/main/assignments/assignment2/workbook-A2.ipynb\" target=\"_parent\"><img src=\"https://colab.research.google.com/assets/colab-badge.svg\" alt=\"Open In Colab\"/></a>"
   ]
  },
  {
   "cell_type": "markdown",
   "metadata": {
    "id": "b7-y662f1PHV"
   },
   "source": [
    "# Preparation"
   ]
  },
  {
   "cell_type": "code",
   "execution_count": null,
   "metadata": {
    "id": "UfUkWhex5pLP"
   },
   "outputs": [],
   "source": [
    "# Install PyTorch Geometric\n",
    "# !pip install -q torch-scatter -f https://pytorch-geometric.com/whl/torch-1.8.0+cu101.html\n",
    "# !pip install -q to·rch-sparse -f https://pytorch-geometric.com/whl/torch-1.8.0+cu101.html\n",
    "# !pip install -q torch-geometric"
   ]
  },
  {
   "cell_type": "code",
   "execution_count": 1,
   "metadata": {
    "id": "-3iwORqz9BQJ"
   },
   "outputs": [],
   "source": [
    "import numpy as np\n",
    "import torch\n",
    "import requests\n",
    "import io\n",
    "import pickle\n",
    "import json\n",
    "\n",
    "def download(url, filetype='tensor'):\n",
    "    if filetype not in ['tensor', 'pickle', 'json']:\n",
    "        raise ValueError('Incorrect filetype')\n",
    "    response = requests.get(url)\n",
    "    response.raise_for_status()\n",
    "    if filetype == 'tensor':\n",
    "        return torch.load(io.BytesIO(response.content))\n",
    "    elif filetype == 'pickle':\n",
    "        return pickle.load(io.BytesIO(response.content))\n",
    "    elif filetype == 'json':\n",
    "        return json.load(io.BytesIO(response.content))"
   ]
  },
  {
   "cell_type": "markdown",
   "metadata": {
    "id": "jtLMtRZa1Vjy"
   },
   "source": [
    "# Task 1"
   ]
  },
  {
   "cell_type": "code",
   "execution_count": 2,
   "metadata": {
    "id": "3h2zBMkm1XpD"
   },
   "outputs": [],
   "source": [
    "## Download the dataset for image retrieval ##\n",
    "data_1 = download('https://surfdrive.surf.nl/files/index.php/s/EH2tN7JiZnwdIXg/download', filetype='tensor')\n",
    "data_metadata = download('https://github.com/pmernyei/wiki-cs-dataset/raw/master/dataset/metadata.json', filetype='json')"
   ]
  },
  {
   "cell_type": "code",
   "execution_count": 3,
   "metadata": {
    "colab": {
     "base_uri": "https://localhost:8080/"
    },
    "executionInfo": {
     "elapsed": 17,
     "status": "ok",
     "timestamp": 1621940467107,
     "user": {
      "displayName": "Yoeri Poels",
      "photoUrl": "",
      "userId": "12918185417432069249"
     },
     "user_tz": -120
    },
    "id": "rwHKWhIF90JE",
    "outputId": "031a7857-60ba-4acc-9803-e0f98558cf33"
   },
   "outputs": [
    {
     "name": "stdout",
     "output_type": "stream",
     "text": [
      "Num nodes: 10701\n",
      "Num edges: 251927\n",
      "\n",
      "Num node features: 300\n",
      "Num classes: 10\n",
      "\n",
      "Num training labels: 522\n"
     ]
    }
   ],
   "source": [
    "num_node = data_1.x.shape[0]\n",
    "num_edge = data_1.edge_index.shape[1]\n",
    "num_node_feature = data_1.x.shape[1]\n",
    "num_class = int(max(data_1.y)+1)\n",
    "num_label = sum(data_1.train_mask)\n",
    "\n",
    "print(f'Num nodes: {num_node}')\n",
    "print(f'Num edges: {num_edge}')\n",
    "print()\n",
    "print(f'Num node features: {num_node_feature}')\n",
    "print(f'Num classes: {num_class}')\n",
    "print()\n",
    "print(f'Num training labels: {num_label}')"
   ]
  },
  {
   "cell_type": "code",
   "execution_count": 4,
   "metadata": {
    "colab": {
     "base_uri": "https://localhost:8080/"
    },
    "executionInfo": {
     "elapsed": 9,
     "status": "ok",
     "timestamp": 1621940467107,
     "user": {
      "displayName": "Yoeri Poels",
      "photoUrl": "",
      "userId": "12918185417432069249"
     },
     "user_tz": -120
    },
    "id": "ZkCGKmY0CPh2",
    "outputId": "49bf2307-7898-42c2-a95f-97a42a7772fa"
   },
   "outputs": [
    {
     "name": "stdout",
     "output_type": "stream",
     "text": [
      "0: Computational linguistics\n",
      "1: Databases\n",
      "2: Operating systems\n",
      "3: Computer architecture\n",
      "4: Computer security\n",
      "5: Internet protocols\n",
      "6: Computer file systems\n",
      "7: Distributed computing architecture\n",
      "8: Web technology\n",
      "9: Programming language topics\n"
     ]
    }
   ],
   "source": [
    "for i in range(num_class):\n",
    "    print('{}: {}'.format(i, data_metadata['labels'][str(i)]))"
   ]
  },
  {
   "cell_type": "code",
   "execution_count": 5,
   "metadata": {
    "id": "7pDn_vdhCNPw"
   },
   "outputs": [],
   "source": [
    "def print_node(idx, url=True, label=True):\n",
    "    node_info = data_metadata['nodes'][idx]\n",
    "    print(f'--Node {idx}--')\n",
    "    if url:\n",
    "        title = node_info['title']\n",
    "        wiki_url = 'https://en.wikipedia.org/wiki/' + title\n",
    "        print(wiki_url)\n",
    "    if label:\n",
    "        print('Label:', node_info['label'])\n",
    "    print()"
   ]
  },
  {
   "cell_type": "code",
   "execution_count": 6,
   "metadata": {
    "colab": {
     "base_uri": "https://localhost:8080/"
    },
    "executionInfo": {
     "elapsed": 8,
     "status": "ok",
     "timestamp": 1621940467108,
     "user": {
      "displayName": "Yoeri Poels",
      "photoUrl": "",
      "userId": "12918185417432069249"
     },
     "user_tz": -120
    },
    "id": "hvCmB6tFCr4R",
    "outputId": "d692d542-54ad-4706-945c-80a30ca78643"
   },
   "outputs": [
    {
     "name": "stdout",
     "output_type": "stream",
     "text": [
      "--Node 0--\n",
      "https://en.wikipedia.org/wiki/Twilio\n",
      "Label: Distributed computing architecture\n",
      "\n",
      "--Node 1--\n",
      "https://en.wikipedia.org/wiki/Program_compatibility_date_range\n",
      "Label: Operating systems\n",
      "\n",
      "--Node 2--\n",
      "https://en.wikipedia.org/wiki/SYSTAT_(DEC)\n",
      "Label: Operating systems\n",
      "\n",
      "--Node 3--\n",
      "https://en.wikipedia.org/wiki/List_of_column-oriented_DBMSes\n",
      "Label: Databases\n",
      "\n",
      "--Node 4--\n",
      "https://en.wikipedia.org/wiki/Stealth_wallpaper\n",
      "Label: Computer security\n",
      "\n",
      "--Node 5--\n",
      "https://en.wikipedia.org/wiki/Scalable_TCP\n",
      "Label: Internet protocols\n",
      "\n",
      "--Node 6--\n",
      "https://en.wikipedia.org/wiki/Carrier_IQ\n",
      "Label: Computer security\n",
      "\n",
      "--Node 7--\n",
      "https://en.wikipedia.org/wiki/ACF2\n",
      "Label: Operating systems\n",
      "\n",
      "--Node 8--\n",
      "https://en.wikipedia.org/wiki/Dorkbot_(malware)\n",
      "Label: Computer security\n",
      "\n",
      "--Node 9--\n",
      "https://en.wikipedia.org/wiki/Lout_(software)\n",
      "Label: Programming language topics\n",
      "\n"
     ]
    }
   ],
   "source": [
    "for i in range(10):\n",
    "    print_node(i)"
   ]
  },
  {
   "cell_type": "code",
   "execution_count": 4,
   "metadata": {
    "id": "IiWSjUmW1ZQ2"
   },
   "outputs": [],
   "source": [
    "## Build the article retrieval system ##\n",
    "import torch\n",
    "import torch.nn.functional as F\n",
    "from torch_geometric.nn import SAGEConv\n",
    "from tqdm import tqdm\n",
    "import matplotlib.pyplot as plt\n",
    "import numpy as np\n",
    "from torch import nn"
   ]
  },
  {
   "cell_type": "code",
   "execution_count": 8,
   "outputs": [],
   "source": [
    "class GraphSAGE(nn.Module):\n",
    "    def __init__(self, hidden_channels, num_features, num_classes):\n",
    "        super(GraphSAGE, self).__init__()\n",
    "        self.conv1 = SAGEConv(num_features, hidden_channels)  # the node's word vector (with size num_features) is\n",
    "                                                              # transformed to a vector of size hidden_channels\n",
    "        # self.conv2 = SAGEConv(hidden_channels, hidden_channels)\n",
    "\n",
    "        self.conv3 = SAGEConv(hidden_channels, num_classes)  # we convert our nodes from hidden_channels to num_classes, the\n",
    "                                                             # last update step turns a node's state into a node-class prediction\n",
    "\n",
    "    def forward(self, x, edge_index):\n",
    "        # x = (1), all nodes contain information about itself (x_size, num_features)\n",
    "        x = self.conv1(x, edge_index) # x = (2), update all nodes for the first time, returning (x_size, hidden_channels)\n",
    "        x = x.relu()  # activation function\n",
    "        # x = self.conv2(x, edge_index)\n",
    "        # x = x.relu()\n",
    "        # x = self.conv2(x, edge_index)\n",
    "        # x = x.relu()\n",
    "        x = F.dropout(x, p=0.5)  # attempt to combat overfitting, as we only have few labels\n",
    "        x = self.conv3(x, edge_index)  # x = (3), update all nodes again, returning (x_size, num_classes)\n",
    "                                       # this final update transforms each node embedding to a class prediction\n",
    "                                       # we do not apply an activation, as the PyTorch CCE calculation\n",
    "                                       # takes care of treating this output as 'softmax'.\n",
    "        return x\n",
    "\n",
    "    def get_embedding(self, x, edge_index, layer=3):\n",
    "        if layer == 2:\n",
    "            return self.forward(x, edge_index)\n",
    "        elif layer == 1:\n",
    "            return self.conv1(x, edge_index)"
   ],
   "metadata": {
    "collapsed": false,
    "pycharm": {
     "name": "#%%\n"
    }
   }
  },
  {
   "cell_type": "code",
   "execution_count": 9,
   "outputs": [],
   "source": [
    "class GNNTrainer():\n",
    "    def __init__(self,\n",
    "                 model: torch.nn.Module,\n",
    "                 device: torch.device,\n",
    "                 criterion: torch.nn.Module,\n",
    "                 optimizer: torch.optim.Optimizer,\n",
    "                 epochs: int,\n",
    "                 data\n",
    "                 ):\n",
    "        self.model = model\n",
    "        self.criterion = criterion\n",
    "        self.optimizer = optimizer\n",
    "        self.device = device\n",
    "        self.epochs = epochs\n",
    "        self.data = data\n",
    "\n",
    "    def run_trainer(self):\n",
    "        losses = []\n",
    "        train_accs = []\n",
    "        val_accs = []\n",
    "        x = self.data.x.to(self.device)\n",
    "        edge_index = self.data.edge_index.to(self.device)\n",
    "        y = self.data.y.to(self.device)\n",
    "        for epoch in tqdm(range(self.epochs)):\n",
    "            self.model.train()  # train mode\n",
    "            self.optimizer.zero_grad()\n",
    "            out = self.model(x, edge_index)\n",
    "            loss = self.criterion(out[self.data.train_mask], y[self.data.train_mask])\n",
    "            loss.backward()\n",
    "            self.optimizer.step()\n",
    "\n",
    "            self.model.eval()\n",
    "            pred = out.argmax(dim=1)\n",
    "            train_correct = pred[self.data.train_mask] == y[self.data.train_mask]\n",
    "            train_acc = int(train_correct.sum()) / int(self.data.train_mask.sum())\n",
    "            val_correct = pred[self.data.test_mask] == y[self.data.test_mask]\n",
    "            val_acc = int(val_correct.sum()) / int(self.data.test_mask.sum())\n",
    "            losses.append(loss)\n",
    "            train_accs.append(train_acc)\n",
    "            val_accs.append(val_acc)\n",
    "            if epoch % 20 == 0:\n",
    "                print('Epoch: {}, Loss: {}, ACC_train: {}, ACC_val: {}'.format(epoch, loss, train_acc, val_acc))\n",
    "        fig, axs = plt.subplots(2, 1, figsize=(8, 10))\n",
    "        t = range(1, self.epochs + 1)\n",
    "        axs[0].plot(t, losses, label = 'Training Loss')\n",
    "        axs[0].set_xlabel('epoch')\n",
    "        axs[0].set_ylabel('loss')\n",
    "        axs[0].grid(True)\n",
    "        axs[0].legend()\n",
    "\n",
    "        axs[1].plot(t, train_accs, label = 'Training Accuracy')\n",
    "        axs[1].plot(t, val_accs, label = 'Validation Accuracy')\n",
    "        axs[1].set_xlabel('epoch')\n",
    "        axs[1].set_ylabel('accuracy')\n",
    "        axs[1].grid(True)\n",
    "        axs[1].legend()\n",
    "\n",
    "        plt.show()"
   ],
   "metadata": {
    "collapsed": false,
    "pycharm": {
     "name": "#%%\n"
    }
   }
  },
  {
   "cell_type": "code",
   "execution_count": 10,
   "outputs": [],
   "source": [
    "device = torch.device('cuda' if torch.cuda.is_available() else 'cpu')\n",
    "model = GraphSAGE(hidden_channels=32, num_features=num_node_feature, num_classes=num_class).to(device=device)\n",
    "loss_func = torch.nn.CrossEntropyLoss()\n",
    "optimizer = torch.optim.Adam(model.parameters(), lr=0.01, weight_decay=5e-4)\n",
    "trainer = GNNTrainer(model=model,\n",
    "                     device=device,\n",
    "                     criterion=loss_func,\n",
    "                     optimizer=optimizer,\n",
    "                     epochs=200,\n",
    "                     data=data_1)"
   ],
   "metadata": {
    "collapsed": false,
    "pycharm": {
     "name": "#%%\n"
    }
   }
  },
  {
   "cell_type": "code",
   "execution_count": 11,
   "outputs": [
    {
     "name": "stderr",
     "output_type": "stream",
     "text": [
      "  2%|▎         | 5/200 [00:01<00:48,  4.02it/s]"
     ]
    },
    {
     "name": "stdout",
     "output_type": "stream",
     "text": [
      "Epoch: 0, Loss: 2.3035452365875244, ACC_train: 0.08045977011494253, ACC_val: 0.09274495138369485\n"
     ]
    },
    {
     "name": "stderr",
     "output_type": "stream",
     "text": [
      " 12%|█▎        | 25/200 [00:02<00:09, 18.21it/s]"
     ]
    },
    {
     "name": "stdout",
     "output_type": "stream",
     "text": [
      "Epoch: 20, Loss: 0.9961013793945312, ACC_train: 0.6839080459770115, ACC_val: 0.6320119670905011\n"
     ]
    },
    {
     "name": "stderr",
     "output_type": "stream",
     "text": [
      " 22%|██▏       | 43/200 [00:03<00:08, 19.45it/s]"
     ]
    },
    {
     "name": "stdout",
     "output_type": "stream",
     "text": [
      "Epoch: 40, Loss: 0.63080894947052, ACC_train: 0.7911877394636015, ACC_val: 0.7034405385190725\n"
     ]
    },
    {
     "name": "stderr",
     "output_type": "stream",
     "text": [
      " 32%|███▏      | 63/200 [00:04<00:07, 19.43it/s]"
     ]
    },
    {
     "name": "stdout",
     "output_type": "stream",
     "text": [
      "Epoch: 60, Loss: 0.46193963289260864, ACC_train: 0.8601532567049809, ACC_val: 0.7191473448017951\n"
     ]
    },
    {
     "name": "stderr",
     "output_type": "stream",
     "text": [
      " 42%|████▏     | 83/200 [00:05<00:06, 19.43it/s]"
     ]
    },
    {
     "name": "stdout",
     "output_type": "stream",
     "text": [
      "Epoch: 80, Loss: 0.33019009232521057, ACC_train: 0.9061302681992337, ACC_val: 0.7210172026925954\n"
     ]
    },
    {
     "name": "stderr",
     "output_type": "stream",
     "text": [
      " 52%|█████▎    | 105/200 [00:06<00:04, 19.40it/s]"
     ]
    },
    {
     "name": "stdout",
     "output_type": "stream",
     "text": [
      "Epoch: 100, Loss: 0.27641427516937256, ACC_train: 0.9195402298850575, ACC_val: 0.7284966342557966\n"
     ]
    },
    {
     "name": "stderr",
     "output_type": "stream",
     "text": [
      " 62%|██████▎   | 125/200 [00:07<00:03, 19.20it/s]"
     ]
    },
    {
     "name": "stdout",
     "output_type": "stream",
     "text": [
      "Epoch: 120, Loss: 0.24432139098644257, ACC_train: 0.9406130268199234, ACC_val: 0.7288706058339566\n"
     ]
    },
    {
     "name": "stderr",
     "output_type": "stream",
     "text": [
      " 72%|███████▎  | 145/200 [00:09<00:02, 19.30it/s]"
     ]
    },
    {
     "name": "stdout",
     "output_type": "stream",
     "text": [
      "Epoch: 140, Loss: 0.2203899770975113, ACC_train: 0.9386973180076629, ACC_val: 0.7266267763649963\n"
     ]
    },
    {
     "name": "stderr",
     "output_type": "stream",
     "text": [
      " 82%|████████▏ | 163/200 [00:09<00:01, 19.40it/s]"
     ]
    },
    {
     "name": "stdout",
     "output_type": "stream",
     "text": [
      "Epoch: 160, Loss: 0.1580943763256073, ACC_train: 0.9655172413793104, ACC_val: 0.7298055347793567\n"
     ]
    },
    {
     "name": "stderr",
     "output_type": "stream",
     "text": [
      " 92%|█████████▏| 183/200 [00:10<00:00, 19.44it/s]"
     ]
    },
    {
     "name": "stdout",
     "output_type": "stream",
     "text": [
      "Epoch: 180, Loss: 0.15395726263523102, ACC_train: 0.9674329501915708, ACC_val: 0.7275617053103964\n"
     ]
    },
    {
     "name": "stderr",
     "output_type": "stream",
     "text": [
      "100%|██████████| 200/200 [00:11<00:00, 16.85it/s]\n"
     ]
    },
    {
     "data": {
      "text/plain": "<Figure size 576x720 with 2 Axes>",
      "image/png": "[encoded data removed]"
     },
     "metadata": {
      "needs_background": "light"
     },
     "output_type": "display_data"
    }
   ],
   "source": [
    "trainer.run_trainer()"
   ],
   "metadata": {
    "collapsed": false,
    "pycharm": {
     "name": "#%%\n"
    }
   }
  },
  {
   "cell_type": "code",
   "execution_count": 12,
   "outputs": [],
   "source": [
    "embedding_1 = model.get_embedding(data_1.x.to(device), data_1.edge_index.to(device), layer=1)\n",
    "embedding_2 = model.get_embedding(data_1.x.to(device), data_1.edge_index.to(device), layer=2)\n",
    "# embedding_3 = model.get_embedding(data_1.x.to(device), data_1.edge_index.to(device), layer=3)\n",
    "\n",
    "def retrieve(query, embedding, k):\n",
    "    distances = []\n",
    "    for i in range(num_node):\n",
    "        distance = (embedding[query] - embedding[i]).pow(2).sum()\n",
    "        distances.append(distance)\n",
    "    return np.argsort(distances)[1:k + 1]"
   ],
   "metadata": {
    "collapsed": false,
    "pycharm": {
     "name": "#%%\n"
    }
   }
  },
  {
   "cell_type": "code",
   "execution_count": 13,
   "outputs": [
    {
     "name": "stdout",
     "output_type": "stream",
     "text": [
      "--Node 3616--\n",
      "https://en.wikipedia.org/wiki/Computer_security_model\n",
      "Label: Computer security\n",
      "\n",
      "--Node 7652--\n",
      "https://en.wikipedia.org/wiki/Traffic_analysis\n",
      "Label: Computer security\n",
      "\n",
      "--Node 5200--\n",
      "https://en.wikipedia.org/wiki/EIDAS\n",
      "Label: Computer security\n",
      "\n",
      "--Node 923--\n",
      "https://en.wikipedia.org/wiki/Project_Honey_Pot\n",
      "Label: Computer security\n",
      "\n",
      "--Node 10541--\n",
      "https://en.wikipedia.org/wiki/Text_Retrieval_Conference\n",
      "Label: Computational linguistics\n",
      "\n",
      "--Node 9260--\n",
      "https://en.wikipedia.org/wiki/National_Privacy_Commission_(Philippines)\n",
      "Label: Computer security\n",
      "\n",
      "--Node 8537--\n",
      "https://en.wikipedia.org/wiki/Four_Horsemen_of_the_Infocalypse\n",
      "Label: Computer security\n",
      "\n",
      "--Node 8667--\n",
      "https://en.wikipedia.org/wiki/National_Cybersecurity_and_Communications_Integration_Center\n",
      "Label: Computer security\n",
      "\n",
      "--Node 3417--\n",
      "https://en.wikipedia.org/wiki/Brewer_and_Nash_model\n",
      "Label: Computer security\n",
      "\n",
      "--Node 7491--\n",
      "https://en.wikipedia.org/wiki/Hack.lu\n",
      "Label: Computer security\n",
      "\n",
      "--Node 2794--\n",
      "https://en.wikipedia.org/wiki/World_Database_on_Protected_Areas\n",
      "Label: Databases\n",
      "\n",
      "--Node 1169--\n",
      "https://en.wikipedia.org/wiki/Mass_surveillance\n",
      "Label: Databases\n",
      "\n",
      "--Node 2305--\n",
      "https://en.wikipedia.org/wiki/Honeytoken\n",
      "Label: Computer security\n",
      "\n",
      "--Node 5353--\n",
      "https://en.wikipedia.org/wiki/IT_Baseline_Protection_Catalogs\n",
      "Label: Computer security\n",
      "\n",
      "--Node 8459--\n",
      "https://en.wikipedia.org/wiki/Brian_LaMacchia\n",
      "Label: Computer security\n",
      "\n",
      "--Node 4062--\n",
      "https://en.wikipedia.org/wiki/Common_Vulnerability_Scoring_System\n",
      "Label: Computer security\n",
      "\n",
      "--Node 8018--\n",
      "https://en.wikipedia.org/wiki/Qualified_electronic_signature\n",
      "Label: Computer security\n",
      "\n",
      "--Node 3447--\n",
      "https://en.wikipedia.org/wiki/ISO/IEC_27002\n",
      "Label: Computer security\n",
      "\n",
      "--Node 10300--\n",
      "https://en.wikipedia.org/wiki/Anti-pharming\n",
      "Label: Computer security\n",
      "\n",
      "--Node 2818--\n",
      "https://en.wikipedia.org/wiki/Information_privacy\n",
      "Label: Computer security\n",
      "\n",
      "--Node 10232--\n",
      "https://en.wikipedia.org/wiki/Defense_in_depth_(computing)\n",
      "Label: Computer security\n",
      "\n"
     ]
    }
   ],
   "source": [
    "query = np.random.randint(num_node)\n",
    "print_node(query)\n",
    "result = retrieve(query, embedding=embedding_2, k=20)\n",
    "for i in result:\n",
    "    print_node(i)"
   ],
   "metadata": {
    "collapsed": false,
    "pycharm": {
     "name": "#%%\n"
    }
   }
  },
  {
   "cell_type": "code",
   "execution_count": 24,
   "metadata": {
    "id": "nxwb70w6BLzc"
   },
   "outputs": [],
   "source": [
    "## Evaluate the article retrieval system ##"
   ]
  },
  {
   "cell_type": "markdown",
   "metadata": {
    "id": "n-VtEksc1fCt"
   },
   "source": [
    "# Task 2"
   ]
  },
  {
   "cell_type": "code",
   "execution_count": 25,
   "metadata": {
    "id": "_-TRngWF1ggw"
   },
   "outputs": [],
   "source": [
    "## Build the anomaly detection model ##"
   ]
  },
  {
   "cell_type": "code",
   "execution_count": 5,
   "metadata": {
    "id": "_ee8w-ZC1jJD"
   },
   "outputs": [],
   "source": [
    "## Download the anomaly evaluation data ##\n",
    "data_2 = download('https://surfdrive.surf.nl/files/index.php/s/EzMkh3SZbsbJb2i/download', filetype='tensor')\n",
    "is_anomaly = download('https://surfdrive.surf.nl/files/index.php/s/wrK5xipcIC9DHhu/download', filetype='pickle')"
   ]
  },
  {
   "cell_type": "code",
   "execution_count": 6,
   "metadata": {
    "colab": {
     "base_uri": "https://localhost:8080/"
    },
    "executionInfo": {
     "elapsed": 6,
     "status": "ok",
     "timestamp": 1621940470580,
     "user": {
      "displayName": "Yoeri Poels",
      "photoUrl": "",
      "userId": "12918185417432069249"
     },
     "user_tz": -120
    },
    "id": "IXVaLNjF-mFi",
    "outputId": "0bdf7c85-58f3-4936-ec67-688a160b698a"
   },
   "outputs": [
    {
     "name": "stdout",
     "output_type": "stream",
     "text": [
      "Num new nodes: 2000\n",
      "Num new edges: 50176\n"
     ]
    }
   ],
   "source": [
    "total_node = data_2.x.shape[0]\n",
    "total_edge = data_2.edge_index.shape[1]\n",
    "new_node = total_node - num_node\n",
    "new_edge = total_edge - num_edge\n",
    "print(f'Num new nodes: {new_node}')\n",
    "print(f'Num new edges: {new_edge}')"
   ]
  },
  {
   "cell_type": "code",
   "execution_count": 7,
   "metadata": {
    "colab": {
     "base_uri": "https://localhost:8080/"
    },
    "executionInfo": {
     "elapsed": 5,
     "status": "ok",
     "timestamp": 1621940470581,
     "user": {
      "displayName": "Yoeri Poels",
      "photoUrl": "",
      "userId": "12918185417432069249"
     },
     "user_tz": -120
    },
    "id": "8mVXRMxPA_oQ",
    "outputId": "ba3fabfb-e0fb-4351-d6fd-8c26b8e477af"
   },
   "outputs": [
    {
     "name": "stdout",
     "output_type": "stream",
     "text": [
      "Indices of new nodes are 10701...12700\n",
      "The first 1000 are real articles, the last 1000 are anomaly articles\n",
      "You can use the map \"is_anomaly\" to identify whether a node is an anomaly or not\n",
      "E.g., is_anomaly[11201] = 0 and is_anomaly[12201] = 1\n"
     ]
    }
   ],
   "source": [
    "print(f'Indices of new nodes are {num_node}...{total_node-1}')\n",
    "print('The first 1000 are real articles, the last 1000 are anomaly articles')\n",
    "print('You can use the map \"is_anomaly\" to identify whether a node is an anomaly or not')\n",
    "e_real = num_node+500\n",
    "e_anomaly = num_node+1500\n",
    "print(f'E.g., is_anomaly[{e_real}] = {is_anomaly[e_real]} and is_anomaly[{e_anomaly}] = {is_anomaly[e_anomaly]}')"
   ]
  },
  {
   "cell_type": "code",
   "execution_count": 8,
   "outputs": [],
   "source": [
    "# VAE model\n",
    "class Encoder(nn.Module):\n",
    "    def __init__(self, input_dim, hidden_dim, latent_dim, device):\n",
    "        super(Encoder, self).__init__()\n",
    "        self.device = device\n",
    "        self.gnn_input = SAGEConv(input_dim, hidden_dim)\n",
    "        self.fc_mu = nn.Linear(hidden_dim, latent_dim)\n",
    "        self.fc_sigma = nn.Linear(hidden_dim, latent_dim)\n",
    "\n",
    "    def forward(self, x, edge_index):\n",
    "        h = torch.relu(self.gnn_input(x, edge_index))\n",
    "        mu = self.fc_mu(h)\n",
    "        log_sigma = self.fc_sigma(h)\n",
    "        z = self.reparameterization(mu, log_sigma)\n",
    "        return z, mu, log_sigma\n",
    "\n",
    "    def reparameterization(self, mu, log_sigma):\n",
    "        sigma = torch.exp(log_sigma)\n",
    "        epsilon = torch.rand_like(sigma).to(self.device)\n",
    "        z = mu + sigma * epsilon\n",
    "        return z\n",
    "\n",
    "class Decoder(nn.Module):\n",
    "    def __init__(self, latent_dim, hidden_dim, output_dim):\n",
    "        super(Decoder, self).__init__()\n",
    "        self.gnn_input = SAGEConv(latent_dim, hidden_dim)\n",
    "        self.gnn_output = SAGEConv(hidden_dim, output_dim)\n",
    "\n",
    "    def forward(self, x, edge_index):\n",
    "        h = torch.relu(self.gnn_input(x, edge_index))\n",
    "        x_reconstr = self.gnn_output(h, edge_index)\n",
    "        return x_reconstr\n",
    "\n",
    "class VAE(nn.Module):\n",
    "    def __init__(self, encoder, decoder):\n",
    "        super(VAE, self).__init__()\n",
    "        self.encoder = encoder\n",
    "        self.decoder = decoder\n",
    "\n",
    "    def forward(self, x, edge_index):\n",
    "        z, mu, log_sigma = self.encoder(x, edge_index)\n",
    "        x_reconstr = self.decoder(z, edge_index)\n",
    "        return x_reconstr, mu, log_sigma"
   ],
   "metadata": {
    "collapsed": false,
    "pycharm": {
     "name": "#%%\n"
    }
   }
  },
  {
   "cell_type": "code",
   "execution_count": 9,
   "outputs": [],
   "source": [
    "device = torch.device('cuda' if torch.cuda.is_available() else 'cpu')\n",
    "input_dim = num_node_feature\n",
    "hidden_dim = 256\n",
    "latent_dim = num_class\n",
    "\n",
    "encoder = Encoder(input_dim=input_dim, hidden_dim=hidden_dim, latent_dim=latent_dim, device=device)\n",
    "decoder = Decoder(latent_dim=latent_dim, hidden_dim=hidden_dim, output_dim=input_dim)\n",
    "vae = VAE(encoder=encoder, decoder=decoder).to(device)\n",
    "\n",
    "x_normal = data_1.x.to(device)\n",
    "y_normal = data_1.y.to(device)\n",
    "edge_index_normal = data_1.edge_index.to(device)\n",
    "x_all = data_2.x.to(device)\n",
    "y_all = data_2.y.to(device)\n",
    "edge_index_all = data_2.edge_index.to(device)"
   ],
   "metadata": {
    "collapsed": false,
    "pycharm": {
     "name": "#%%\n"
    }
   }
  },
  {
   "cell_type": "code",
   "execution_count": 10,
   "outputs": [
    {
     "name": "stdout",
     "output_type": "stream",
     "text": [
      "Start training VAE...\n",
      "Epoch 1 Loss:  31.20967958602 Reconstruction Loss: 31.1414178581441 KL Loss: 0.0682607354343344\n",
      "Epoch 21 Loss:  3.724197796934866 Reconstruction Loss: 3.3656820916269505 KL Loss: 0.3585157509374124\n",
      "Epoch 41 Loss:  2.7458710780534528 Reconstruction Loss: 2.5655170223577235 KL Loss: 0.18035399865885782\n",
      "Epoch 61 Loss:  2.3411162654191195 Reconstruction Loss: 2.250058405756471 KL Loss: 0.0910579166995199\n",
      "Epoch 81 Loss:  2.057493349044482 Reconstruction Loss: 1.99906696804037 KL Loss: 0.0584264152262347\n",
      "Epoch 101 Loss:  1.8619468609826184 Reconstruction Loss: 1.7854968285674235 KL Loss: 0.07645000389675906\n",
      "Epoch 121 Loss:  1.745343418547332 Reconstruction Loss: 1.6507145944304271 KL Loss: 0.09462882411690496\n",
      "Epoch 141 Loss:  1.6740352829174843 Reconstruction Loss: 1.5696932164634145 KL Loss: 0.10434204363932109\n",
      "Epoch 161 Loss:  1.6258678730375666 Reconstruction Loss: 1.5080075204712176 KL Loss: 0.11786035256634894\n",
      "Epoch 181 Loss:  1.5887331280370993 Reconstruction Loss: 1.4576275362699749 KL Loss: 0.1311055233228787\n",
      "Training complete!\n"
     ]
    }
   ],
   "source": [
    "optimizer = torch.optim.Adam(vae.parameters(), lr=1e-3)\n",
    "def loss_function(x, x_reconstr, mu, log_sigma):\n",
    "    reconstr_loss = nn.functional.mse_loss(x_reconstr, x, reduction='sum')\n",
    "    kl_loss = 0.5 * torch.sum(mu.pow(2) + (2*log_sigma).exp() - 2*log_sigma - 1)\n",
    "    total_loss = reconstr_loss + kl_loss\n",
    "    return total_loss, reconstr_loss, kl_loss\n",
    "\n",
    "epochs = 200\n",
    "print(\"Start training VAE...\")\n",
    "\n",
    "for epoch in range(epochs):\n",
    "    vae.train()\n",
    "    optimizer.zero_grad()\n",
    "    x_reconstr, mu, log_sigma = vae(x_normal, edge_index_normal)\n",
    "    loss, reconstr_loss, kl_loss = loss_function(x_normal, x_reconstr, mu, log_sigma)\n",
    "    loss.backward()\n",
    "    optimizer.step()\n",
    "    if epoch % 20 == 0:\n",
    "        print(\"Epoch\", epoch + 1, \"Loss: \", loss.item() / num_node, \"Reconstruction Loss:\", reconstr_loss.item() / num_node, \"KL Loss:\", kl_loss.item() / num_node)\n",
    "print(\"Training complete!\")"
   ],
   "metadata": {
    "collapsed": false,
    "pycharm": {
     "name": "#%%\n"
    }
   }
  },
  {
   "cell_type": "code",
   "execution_count": 11,
   "outputs": [],
   "source": [
    "def elbo_elementwise(x, x_reconstr, mu, log_sigma):\n",
    "    reconstr_loss = torch.sum(nn.functional.mse_loss(x_reconstr, x, reduction='none'), dim=1)\n",
    "    constant_term = input_dim * 0.5 * np.log(np.pi)  # assuming sigma=1/sqrt(2)\n",
    "    kl_loss = 0.5 * torch.sum(mu.pow(2) + (2*log_sigma).exp() - 2*log_sigma - 1, dim=1)\n",
    "    elbo = - reconstr_loss - constant_term - kl_loss\n",
    "    return elbo, reconstr_loss, kl_loss"
   ],
   "metadata": {
    "collapsed": false,
    "pycharm": {
     "name": "#%%\n"
    }
   }
  },
  {
   "cell_type": "code",
   "execution_count": 14,
   "outputs": [],
   "source": [
    "elbos_normal = []\n",
    "elbos_anomaly = []\n",
    "with torch.no_grad():\n",
    "    x_reconstr, mu, log_sigma = vae(x_normal, edge_index_normal)\n",
    "    elbo, _, _ = elbo_elementwise(x_normal, x_reconstr, mu, log_sigma)\n",
    "    elbos_normal.append(elbo.cpu().numpy())\n",
    "\n",
    "    x_reconstr, mu, log_sigma = vae(x_all, edge_index_all)\n",
    "    elbo, _, _ = elbo_elementwise(x_all[-1000:], x_reconstr[-1000:], mu[-1000:], log_sigma[-1000:])\n",
    "    elbos_anomaly.append(elbo.cpu().numpy())\n",
    "\n",
    "elbos_normal = np.concatenate(elbos_normal)  # loss values represent *negative* ELBO values\n",
    "elbos_anomaly = np.concatenate(elbos_anomaly)"
   ],
   "metadata": {
    "collapsed": false,
    "pycharm": {
     "name": "#%%\n"
    }
   }
  },
  {
   "cell_type": "code",
   "execution_count": 15,
   "outputs": [
    {
     "data": {
      "text/plain": "<Figure size 432x288 with 1 Axes>",
      "image/png": "[encoded data removed]"
     },
     "metadata": {
      "needs_background": "light"
     },
     "output_type": "display_data"
    },
    {
     "data": {
      "text/plain": "<Figure size 432x288 with 1 Axes>",
      "image/png": "[encoded data removed]"
     },
     "metadata": {
      "needs_background": "light"
     },
     "output_type": "display_data"
    }
   ],
   "source": [
    "import seaborn as sns\n",
    "\n",
    "def density_histogram(neg, pos, bins=30, alpha=0.4):\n",
    "    plt.figure()\n",
    "    plt.hist(neg, bins=bins, density=True, histtype=\"bar\", color=\"g\", alpha=alpha)\n",
    "    plt.hist(neg, bins=bins, density=True, histtype=\"step\", color=\"g\", alpha=1)\n",
    "    plt.hist(pos, bins=bins, density=True, histtype=\"bar\", color=\"r\", alpha=alpha)\n",
    "    plt.hist(pos, bins=bins, density=True, histtype=\"step\", color=\"r\", alpha=1)\n",
    "    plt.xlabel(\"ELBO value\")\n",
    "    plt.ylabel(\"Density\")\n",
    "    plt.show()\n",
    "\n",
    "def density_plot(neg, pos):\n",
    "    plt.figure()\n",
    "    sns.kdeplot(neg, shade=True, color=\"g\")\n",
    "    sns.kdeplot(pos, shade=True, color=\"r\")\n",
    "    plt.xlabel(\"ELBO value\")\n",
    "    plt.ylabel(\"Density\")\n",
    "\n",
    "density_histogram(elbos_normal, elbos_anomaly)\n",
    "density_plot(elbos_normal, elbos_anomaly)"
   ],
   "metadata": {
    "collapsed": false,
    "pycharm": {
     "name": "#%%\n"
    }
   }
  },
  {
   "cell_type": "code",
   "execution_count": 29,
   "metadata": {
    "id": "wzWb42RX1myv"
   },
   "outputs": [],
   "source": [
    "## Evaluate the anomaly detection model ##"
   ]
  }
 ],
 "metadata": {
  "colab": {
   "authorship_tag": "ABX9TyMtIUUNA5rp626+rMGY54T9",
   "collapsed_sections": [],
   "name": "A2_Skeleton.ipynb",
   "provenance": []
  },
  "kernelspec": {
   "name": "python3",
   "language": "python",
   "display_name": "Python 3"
  },
  "language_info": {
   "codemirror_mode": {
    "name": "ipython",
    "version": 3
   },
   "file_extension": ".py",
   "mimetype": "text/x-python",
   "name": "python",
   "nbconvert_exporter": "python",
   "pygments_lexer": "ipython3",
   "version": "3.7.9"
  }
 },
 "nbformat": 4,
 "nbformat_minor": 1
}