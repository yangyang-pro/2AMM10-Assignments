{
  "nbformat": 4,
  "nbformat_minor": 0,
  "metadata": {
    "colab": {
      "name": "workbook-A2-new.ipynb",
      "provenance": [],
      "collapsed_sections": []
    },
    "kernelspec": {
      "name": "python3",
      "language": "python",
      "display_name": "Python 3"
    },
    "language_info": {
      "codemirror_mode": {
        "name": "ipython",
        "version": 3
      },
      "file_extension": ".py",
      "mimetype": "text/x-python",
      "name": "python",
      "nbconvert_exporter": "python",
      "pygments_lexer": "ipython3",
      "version": "3.7.9"
    },
    "accelerator": "GPU"
  },
  "cells": [
    {
      "cell_type": "markdown",
      "metadata": {
        "id": "b7Oavabv-10p"
      },
      "source": [
        "<a href=\"https://colab.research.google.com/github/vlamen/tue-deeplearning/blob/main/assignments/assignment2/workbook-A2.ipynb\" target=\"_parent\"><img src=\"https://colab.research.google.com/assets/colab-badge.svg\" alt=\"Open In Colab\"/></a>"
      ]
    },
    {
      "cell_type": "markdown",
      "metadata": {
        "id": "b7-y662f1PHV"
      },
      "source": [
        "# Preparation"
      ]
    },
    {
      "cell_type": "code",
      "metadata": {
        "id": "UfUkWhex5pLP",
        "colab": {
          "base_uri": "https://localhost:8080/"
        },
        "outputId": "fb478b65-93f3-4101-d1b1-030c10a0f35d"
      },
      "source": [
        " #Install PyTorch Geometric\n",
        " !pip install -q torch-scatter -f https://pytorch-geometric.com/whl/torch-1.8.0+cu101.html\n",
        " !pip install -q torch-sparse -f https://pytorch-geometric.com/whl/torch-1.8.0+cu101.html\n",
        " !pip install -q torch-geometric"
      ],
      "execution_count": 5,
      "outputs": [
        {
          "output_type": "stream",
          "text": [
            "\u001b[K     |████████████████████████████████| 2.5MB 3.5MB/s \n",
            "\u001b[K     |████████████████████████████████| 1.5MB 8.4MB/s \n",
            "\u001b[K     |████████████████████████████████| 215kB 28.8MB/s \n",
            "\u001b[K     |████████████████████████████████| 235kB 46.7MB/s \n",
            "\u001b[K     |████████████████████████████████| 2.2MB 54.6MB/s \n",
            "\u001b[K     |████████████████████████████████| 51kB 9.5MB/s \n",
            "\u001b[?25h  Building wheel for torch-geometric (setup.py) ... \u001b[?25l\u001b[?25hdone\n"
          ],
          "name": "stdout"
        }
      ]
    },
    {
      "cell_type": "code",
      "metadata": {
        "colab": {
          "base_uri": "https://localhost:8080/"
        },
        "id": "ozgHGJDKMmQ4",
        "outputId": "24fade53-a07f-4fb2-d0a3-e72f8e6d55cc"
      },
      "source": [
        "from google.colab import drive\n",
        "drive.mount('/content/drive')"
      ],
      "execution_count": 4,
      "outputs": [
        {
          "output_type": "stream",
          "text": [
            "Mounted at /content/drive\n"
          ],
          "name": "stdout"
        }
      ]
    },
    {
      "cell_type": "code",
      "metadata": {
        "id": "-3iwORqz9BQJ"
      },
      "source": [
        "import torch\n",
        "import requests\n",
        "import io\n",
        "import pickle\n",
        "import json\n",
        "\n",
        "def download(url, filetype='tensor'):\n",
        "    if filetype not in ['tensor', 'pickle', 'json']:\n",
        "        raise ValueError('Incorrect filetype')\n",
        "    response = requests.get(url)\n",
        "    response.raise_for_status()\n",
        "    if filetype == 'tensor':\n",
        "        return torch.load(io.BytesIO(response.content))\n",
        "    elif filetype == 'pickle':\n",
        "        return pickle.load(io.BytesIO(response.content))\n",
        "    elif filetype == 'json':\n",
        "        return json.load(io.BytesIO(response.content))"
      ],
      "execution_count": 13,
      "outputs": []
    },
    {
      "cell_type": "markdown",
      "metadata": {
        "id": "jtLMtRZa1Vjy"
      },
      "source": [
        "# Task 1"
      ]
    },
    {
      "cell_type": "code",
      "metadata": {
        "id": "3h2zBMkm1XpD"
      },
      "source": [
        "## Download the dataset for image retrieval ##\n",
        "data_1 = download('https://surfdrive.surf.nl/files/index.php/s/EH2tN7JiZnwdIXg/download', filetype='tensor')\n",
        "data_metadata = download('https://github.com/pmernyei/wiki-cs-dataset/raw/master/dataset/metadata.json', filetype='json')"
      ],
      "execution_count": 14,
      "outputs": []
    },
    {
      "cell_type": "code",
      "metadata": {
        "colab": {
          "base_uri": "https://localhost:8080/"
        },
        "id": "rwHKWhIF90JE",
        "outputId": "6832141b-e097-4362-f9b6-0903a38b9106"
      },
      "source": [
        "num_node = data_1.x.shape[0]\n",
        "num_edge = data_1.edge_index.shape[1]\n",
        "num_node_feature = data_1.x.shape[1]\n",
        "num_class = int(max(data_1.y)+1)\n",
        "num_label = sum(data_1.train_mask)\n",
        "\n",
        "print(f'Num nodes: {num_node}')\n",
        "print(f'Num edges: {num_edge}')\n",
        "print()\n",
        "print(f'Num node features: {num_node_feature}')\n",
        "print(f'Num classes: {num_class}')\n",
        "print()\n",
        "print(f'Num training labels: {num_label}')"
      ],
      "execution_count": 15,
      "outputs": [
        {
          "output_type": "stream",
          "text": [
            "Num nodes: 10701\n",
            "Num edges: 251927\n",
            "\n",
            "Num node features: 300\n",
            "Num classes: 10\n",
            "\n",
            "Num training labels: 522\n"
          ],
          "name": "stdout"
        }
      ]
    },
    {
      "cell_type": "code",
      "metadata": {
        "colab": {
          "base_uri": "https://localhost:8080/"
        },
        "id": "ZkCGKmY0CPh2",
        "outputId": "62ce1b89-cab2-42ed-aad8-77dbd2f5542f"
      },
      "source": [
        "for i in range(num_class):\n",
        "    print('{}: {}'.format(i, data_metadata['labels'][str(i)]))"
      ],
      "execution_count": 16,
      "outputs": [
        {
          "output_type": "stream",
          "text": [
            "0: Computational linguistics\n",
            "1: Databases\n",
            "2: Operating systems\n",
            "3: Computer architecture\n",
            "4: Computer security\n",
            "5: Internet protocols\n",
            "6: Computer file systems\n",
            "7: Distributed computing architecture\n",
            "8: Web technology\n",
            "9: Programming language topics\n"
          ],
          "name": "stdout"
        }
      ]
    },
    {
      "cell_type": "code",
      "metadata": {
        "id": "7pDn_vdhCNPw"
      },
      "source": [
        "def print_node(idx, url=True, label=True):\n",
        "    node_info = data_metadata['nodes'][idx]\n",
        "    print(f'--Node {idx}--')\n",
        "    if url:\n",
        "        title = node_info['title']\n",
        "        wiki_url = 'https://en.wikipedia.org/wiki/' + title\n",
        "        print(wiki_url)\n",
        "    if label:\n",
        "        print('Label:', node_info['label'])\n",
        "    print()"
      ],
      "execution_count": 17,
      "outputs": []
    },
    {
      "cell_type": "code",
      "metadata": {
        "colab": {
          "base_uri": "https://localhost:8080/"
        },
        "id": "hvCmB6tFCr4R",
        "outputId": "7cc65047-efcf-46a0-9164-67495ca904c2"
      },
      "source": [
        "for i in range(10):\n",
        "    print_node(i)"
      ],
      "execution_count": 8,
      "outputs": [
        {
          "output_type": "stream",
          "text": [
            "--Node 0--\n",
            "https://en.wikipedia.org/wiki/Twilio\n",
            "Label: Distributed computing architecture\n",
            "\n",
            "--Node 1--\n",
            "https://en.wikipedia.org/wiki/Program_compatibility_date_range\n",
            "Label: Operating systems\n",
            "\n",
            "--Node 2--\n",
            "https://en.wikipedia.org/wiki/SYSTAT_(DEC)\n",
            "Label: Operating systems\n",
            "\n",
            "--Node 3--\n",
            "https://en.wikipedia.org/wiki/List_of_column-oriented_DBMSes\n",
            "Label: Databases\n",
            "\n",
            "--Node 4--\n",
            "https://en.wikipedia.org/wiki/Stealth_wallpaper\n",
            "Label: Computer security\n",
            "\n",
            "--Node 5--\n",
            "https://en.wikipedia.org/wiki/Scalable_TCP\n",
            "Label: Internet protocols\n",
            "\n",
            "--Node 6--\n",
            "https://en.wikipedia.org/wiki/Carrier_IQ\n",
            "Label: Computer security\n",
            "\n",
            "--Node 7--\n",
            "https://en.wikipedia.org/wiki/ACF2\n",
            "Label: Operating systems\n",
            "\n",
            "--Node 8--\n",
            "https://en.wikipedia.org/wiki/Dorkbot_(malware)\n",
            "Label: Computer security\n",
            "\n",
            "--Node 9--\n",
            "https://en.wikipedia.org/wiki/Lout_(software)\n",
            "Label: Programming language topics\n",
            "\n"
          ],
          "name": "stdout"
        }
      ]
    },
    {
      "cell_type": "code",
      "metadata": {
        "id": "IiWSjUmW1ZQ2"
      },
      "source": [
        "## Build the article retrieval system ##\n",
        "import torch\n",
        "import torch.nn.functional as F\n",
        "from torch_geometric.nn import SAGEConv\n",
        "from tqdm import tqdm\n",
        "import matplotlib.pyplot as plt"
      ],
      "execution_count": 18,
      "outputs": []
    },
    {
      "cell_type": "code",
      "metadata": {
        "pycharm": {
          "name": "#%%\n"
        },
        "id": "wDbh3Ovy-10u"
      },
      "source": [
        "class GraphSAGE(torch.nn.Module):\n",
        "    def __init__(self, hidden_channels, num_features, num_classes):\n",
        "        super(GraphSAGE, self).__init__()\n",
        "        self.conv1 = SAGEConv(num_features, hidden_channels)  # the node's word vector (with size num_features) is\n",
        "                                                              # transformed to a vector of size hidden_channels\n",
        "        self.conv2 = SAGEConv(hidden_channels, hidden_channels)\n",
        "\n",
        "        self.conv3 = SAGEConv(hidden_channels, num_classes)  # we convert our nodes from hidden_channels to num_classes, the\n",
        "                                                             # last update step turns a node's state into a node-class prediction\n",
        "\n",
        "    def forward(self, x, edge_index):\n",
        "        # x = (1), all nodes contain information about itself (x_size, num_features)\n",
        "        x = self.conv1(x, edge_index) # x = (2), update all nodes for the first time, returning (x_size, hidden_channels)\n",
        "        x = x.relu()  # activation function\n",
        "        x = self.conv2(x, edge_index)\n",
        "        x = x.relu()\n",
        "        x = self.conv2(x, edge_index)\n",
        "        x = x.relu()\n",
        "        x = F.dropout(x, p=0.5)  # attempt to combat overfitting, as we only have few labels\n",
        "        x = self.conv3(x, edge_index)  # x = (3), update all nodes again, returning (x_size, num_classes)\n",
        "                                       # this final update transforms each node embedding to a class prediction\n",
        "                                       # we do not apply an activation, as the PyTorch CCE calculation\n",
        "                                       # takes care of treating this output as 'softmax'.\n",
        "        return x"
      ],
      "execution_count": 19,
      "outputs": []
    },
    {
      "cell_type": "code",
      "metadata": {
        "pycharm": {
          "name": "#%%\n"
        },
        "id": "YgP8hGeY-10u"
      },
      "source": [
        "class GNNTrainer():\n",
        "    def __init__(self,\n",
        "                 model: torch.nn.Module,\n",
        "                 device: torch.device,\n",
        "                 criterion: torch.nn.Module,\n",
        "                 optimizer: torch.optim.Optimizer,\n",
        "                 epochs: int,\n",
        "                 data\n",
        "                 ):\n",
        "        self.model = model\n",
        "        self.criterion = criterion\n",
        "        self.optimizer = optimizer\n",
        "        self.device = device\n",
        "        self.epochs = epochs\n",
        "        self.data = data\n",
        "\n",
        "    def run_trainer(self):\n",
        "        losses = []\n",
        "        train_accs = []\n",
        "        val_accs = []\n",
        "        x = self.data.x.to(self.device)\n",
        "        edge_index = self.data.edge_index.to(self.device)\n",
        "        y = self.data.y.to(self.device)\n",
        "        for epoch in tqdm(range(self.epochs)):\n",
        "            self.model.train()  # train mode\n",
        "            self.optimizer.zero_grad()\n",
        "            out = self.model(x, edge_index)\n",
        "            loss = self.criterion(out[self.data.train_mask], y[self.data.train_mask])\n",
        "            loss.backward()\n",
        "            self.optimizer.step()\n",
        "\n",
        "            self.model.eval()\n",
        "            pred = out.argmax(dim=1)\n",
        "            train_correct = pred[self.data.train_mask] == y[self.data.train_mask]\n",
        "            train_acc = int(train_correct.sum()) / int(self.data.train_mask.sum())\n",
        "            val_correct = pred[self.data.test_mask] == y[self.data.test_mask]\n",
        "            val_acc = int(val_correct.sum()) / int(self.data.test_mask.sum())\n",
        "            losses.append(loss)\n",
        "            train_accs.append(train_acc)\n",
        "            val_accs.append(val_acc)\n",
        "            if epoch % 20 == 0:\n",
        "                print('Epoch: {}, Loss: {}, ACC_train: {}, ACC_val: {}'.format(epoch, loss, train_acc, val_acc))\n",
        "        fig, axs = plt.subplots(2, 1, figsize=(8, 10))\n",
        "        t = range(1, self.epochs + 1)\n",
        "        axs[0].plot(t, losses, label = 'Training Loss')\n",
        "        axs[0].set_xlabel('epoch')\n",
        "        axs[0].set_ylabel('loss')\n",
        "        axs[0].grid(True)\n",
        "        axs[0].legend()\n",
        "\n",
        "        axs[1].plot(t, train_accs, label = 'Training Accuracy')\n",
        "        axs[1].plot(t, val_accs, label = 'Validation Accuracy')\n",
        "        axs[1].set_xlabel('epoch')\n",
        "        axs[1].set_ylabel('accuracy')\n",
        "        axs[1].grid(True)\n",
        "        axs[1].legend()\n",
        "\n",
        "        plt.show()"
      ],
      "execution_count": 20,
      "outputs": []
    },
    {
      "cell_type": "code",
      "metadata": {
        "pycharm": {
          "name": "#%%\n"
        },
        "id": "87VLW8Aj-10v"
      },
      "source": [
        "device = torch.device('cuda' if torch.cuda.is_available() else 'cpu')\n",
        "model = GraphSAGE(hidden_channels=32, num_features=num_node_feature, num_classes=num_class).to(device=device)\n",
        "loss_func = torch.nn.CrossEntropyLoss()\n",
        "optimizer = torch.optim.Adam(model.parameters(), lr=0.01, weight_decay=5e-4)\n",
        "trainer = GNNTrainer(model=model,\n",
        "                     device=device,\n",
        "                     criterion=loss_func,\n",
        "                     optimizer=optimizer,\n",
        "                     epochs=200,\n",
        "                     data=data_1)"
      ],
      "execution_count": 12,
      "outputs": []
    },
    {
      "cell_type": "code",
      "metadata": {
        "pycharm": {
          "name": "#%%\n"
        },
        "colab": {
          "base_uri": "https://localhost:8080/",
          "height": 820
        },
        "id": "3Sa6V-IL-10w",
        "outputId": "4045066d-9e46-4c11-f92d-3c8d2543801e"
      },
      "source": [
        "trainer.run_trainer()"
      ],
      "execution_count": 13,
      "outputs": [
        {
          "output_type": "stream",
          "text": [
            "  2%|▏         | 4/200 [00:00<00:32,  5.96it/s]"
          ],
          "name": "stderr"
        },
        {
          "output_type": "stream",
          "text": [
            "Epoch: 0, Loss: 2.3439347743988037, ACC_train: 0.05172413793103448, ACC_val: 0.04899027673896784\n"
          ],
          "name": "stdout"
        },
        {
          "output_type": "stream",
          "text": [
            " 12%|█▎        | 25/200 [00:01<00:08, 21.55it/s]"
          ],
          "name": "stderr"
        },
        {
          "output_type": "stream",
          "text": [
            "Epoch: 20, Loss: 1.2493913173675537, ACC_train: 0.553639846743295, ACC_val: 0.5611443530291698\n"
          ],
          "name": "stdout"
        },
        {
          "output_type": "stream",
          "text": [
            " 23%|██▎       | 46/200 [00:01<00:05, 28.68it/s]"
          ],
          "name": "stderr"
        },
        {
          "output_type": "stream",
          "text": [
            "Epoch: 40, Loss: 0.8242135643959045, ACC_train: 0.7145593869731801, ACC_val: 0.6529543754674645\n"
          ],
          "name": "stdout"
        },
        {
          "output_type": "stream",
          "text": [
            " 33%|███▎      | 66/200 [00:02<00:04, 30.02it/s]"
          ],
          "name": "stderr"
        },
        {
          "output_type": "stream",
          "text": [
            "Epoch: 60, Loss: 0.5592955350875854, ACC_train: 0.8065134099616859, ACC_val: 0.6864248317127898\n"
          ],
          "name": "stdout"
        },
        {
          "output_type": "stream",
          "text": [
            " 43%|████▎     | 86/200 [00:03<00:03, 30.00it/s]"
          ],
          "name": "stderr"
        },
        {
          "output_type": "stream",
          "text": [
            "Epoch: 80, Loss: 0.35936984419822693, ACC_train: 0.867816091954023, ACC_val: 0.6963350785340314\n"
          ],
          "name": "stdout"
        },
        {
          "output_type": "stream",
          "text": [
            " 53%|█████▎    | 106/200 [00:03<00:03, 30.26it/s]"
          ],
          "name": "stderr"
        },
        {
          "output_type": "stream",
          "text": [
            "Epoch: 100, Loss: 0.2708745300769806, ACC_train: 0.9176245210727969, ACC_val: 0.7047494390426328\n"
          ],
          "name": "stdout"
        },
        {
          "output_type": "stream",
          "text": [
            " 63%|██████▎   | 126/200 [00:04<00:02, 30.22it/s]"
          ],
          "name": "stderr"
        },
        {
          "output_type": "stream",
          "text": [
            "Epoch: 120, Loss: 0.18168318271636963, ACC_train: 0.946360153256705, ACC_val: 0.705871353777113\n"
          ],
          "name": "stdout"
        },
        {
          "output_type": "stream",
          "text": [
            " 73%|███████▎  | 146/200 [00:05<00:01, 30.23it/s]"
          ],
          "name": "stderr"
        },
        {
          "output_type": "stream",
          "text": [
            "Epoch: 140, Loss: 0.12919078767299652, ACC_train: 0.9636015325670498, ACC_val: 0.7068062827225131\n"
          ],
          "name": "stdout"
        },
        {
          "output_type": "stream",
          "text": [
            " 83%|████████▎ | 166/200 [00:05<00:01, 30.31it/s]"
          ],
          "name": "stderr"
        },
        {
          "output_type": "stream",
          "text": [
            "Epoch: 160, Loss: 0.08224048465490341, ACC_train: 0.9865900383141762, ACC_val: 0.7013836948391923\n"
          ],
          "name": "stdout"
        },
        {
          "output_type": "stream",
          "text": [
            " 93%|█████████▎| 186/200 [00:06<00:00, 30.19it/s]"
          ],
          "name": "stderr"
        },
        {
          "output_type": "stream",
          "text": [
            "Epoch: 180, Loss: 0.07354994118213654, ACC_train: 0.9846743295019157, ACC_val: 0.6989528795811518\n"
          ],
          "name": "stdout"
        },
        {
          "output_type": "stream",
          "text": [
            "100%|██████████| 200/200 [00:06<00:00, 28.75it/s]\n"
          ],
          "name": "stderr"
        },
        {
          "output_type": "display_data",
          "data": {
            "image/png": "[encoded data removed]",
            "text/plain": [
              "<Figure size 576x720 with 2 Axes>"
            ]
          },
          "metadata": {
            "tags": [],
            "needs_background": "light"
          }
        }
      ]
    },
    {
      "cell_type": "code",
      "metadata": {
        "id": "nxwb70w6BLzc",
        "colab": {
          "base_uri": "https://localhost:8080/",
          "height": 206
        },
        "outputId": "ef887177-3d96-4d87-e5f9-0aa7e080a50f"
      },
      "source": [
        "## Evaluate the article retrieval system ##\n",
        "PATH = 'GNN.model'\n",
        "torch.save(model, PATH)\n"
      ],
      "execution_count": 6,
      "outputs": [
        {
          "output_type": "error",
          "ename": "NameError",
          "evalue": "ignored",
          "traceback": [
            "\u001b[0;31m---------------------------------------------------------------------------\u001b[0m",
            "\u001b[0;31mNameError\u001b[0m                                 Traceback (most recent call last)",
            "\u001b[0;32m<ipython-input-6-cf36a4b80bdf>\u001b[0m in \u001b[0;36m<module>\u001b[0;34m()\u001b[0m\n\u001b[1;32m      1\u001b[0m \u001b[0;31m## Evaluate the article retrieval system ##\u001b[0m\u001b[0;34m\u001b[0m\u001b[0;34m\u001b[0m\u001b[0;34m\u001b[0m\u001b[0m\n\u001b[1;32m      2\u001b[0m \u001b[0mPATH\u001b[0m \u001b[0;34m=\u001b[0m \u001b[0;34m'GNN.model'\u001b[0m\u001b[0;34m\u001b[0m\u001b[0;34m\u001b[0m\u001b[0m\n\u001b[0;32m----> 3\u001b[0;31m \u001b[0mtorch\u001b[0m\u001b[0;34m.\u001b[0m\u001b[0msave\u001b[0m\u001b[0;34m(\u001b[0m\u001b[0mmodel\u001b[0m\u001b[0;34m,\u001b[0m \u001b[0mPATH\u001b[0m\u001b[0;34m)\u001b[0m\u001b[0;34m\u001b[0m\u001b[0;34m\u001b[0m\u001b[0m\n\u001b[0m",
            "\u001b[0;31mNameError\u001b[0m: name 'model' is not defined"
          ]
        }
      ]
    },
    {
      "cell_type": "markdown",
      "metadata": {
        "id": "n-VtEksc1fCt"
      },
      "source": [
        "# Task 2"
      ]
    },
    {
      "cell_type": "code",
      "metadata": {
        "id": "5FDvj8rpJjaI"
      },
      "source": [
        "## Evaluate the anomaly detection model ##\n",
        "import torch\n",
        "import torch.nn as nn\n",
        "from torch.optim import Adam\n",
        "from torchvision.datasets import FashionMNIST\n",
        "import torchvision.transforms as transforms\n",
        "from torch.utils.data import DataLoader, SubsetRandomSampler\n",
        "import numpy as np\n",
        "import matplotlib.pyplot as plt\n",
        "import seaborn as sns\n",
        "from tqdm import tqdm\n",
        "from sklearn.metrics import roc_curve, precision_recall_curve, auc"
      ],
      "execution_count": 7,
      "outputs": []
    },
    {
      "cell_type": "markdown",
      "metadata": {
        "id": "BN14j28bFiOe"
      },
      "source": [
        "## Data Process\n"
      ]
    },
    {
      "cell_type": "code",
      "metadata": {
        "id": "_-TRngWF1ggw"
      },
      "source": [
        "## Build the anomaly detection model ##"
      ],
      "execution_count": 8,
      "outputs": []
    },
    {
      "cell_type": "code",
      "metadata": {
        "colab": {
          "base_uri": "https://localhost:8080/"
        },
        "id": "ioG8yLkf_Qmv",
        "outputId": "0037fb3c-11c6-4cfe-dfe3-099c98833d25"
      },
      "source": [
        "GNNPATH = 'drive/MyDrive/GNN.model'\n",
        "GNN_model = torch.load(GNNPATH)\n",
        "GNN_model.eval()\n",
        "\n"
      ],
      "execution_count": 22,
      "outputs": [
        {
          "output_type": "execute_result",
          "data": {
            "text/plain": [
              "GraphSAGE(\n",
              "  (conv1): SAGEConv(300, 32)\n",
              "  (conv2): SAGEConv(32, 32)\n",
              "  (conv3): SAGEConv(32, 10)\n",
              ")"
            ]
          },
          "metadata": {
            "tags": []
          },
          "execution_count": 22
        }
      ]
    },
    {
      "cell_type": "code",
      "metadata": {
        "id": "_ee8w-ZC1jJD"
      },
      "source": [
        "## Download the anomaly evaluation data ##\n",
        "data_2 = download('https://surfdrive.surf.nl/files/index.php/s/EzMkh3SZbsbJb2i/download', filetype='tensor')\n",
        "is_anomaly = download('https://surfdrive.surf.nl/files/index.php/s/wrK5xipcIC9DHhu/download', filetype='pickle')"
      ],
      "execution_count": 23,
      "outputs": []
    },
    {
      "cell_type": "code",
      "metadata": {
        "colab": {
          "base_uri": "https://localhost:8080/"
        },
        "id": "IXVaLNjF-mFi",
        "outputId": "65dd8eea-98d2-42ba-bc29-1fbc76d14229"
      },
      "source": [
        "total_node = data_2.x.shape[0]\n",
        "total_edge = data_2.edge_index.shape[1]\n",
        "new_node = total_node - num_node\n",
        "new_edge = total_edge - num_edge\n",
        "print(f'Num new nodes: {new_node}')\n",
        "print(f'Num new edges: {new_edge}')"
      ],
      "execution_count": 24,
      "outputs": [
        {
          "output_type": "stream",
          "text": [
            "Num new nodes: 2000\n",
            "Num new edges: 50176\n"
          ],
          "name": "stdout"
        }
      ]
    },
    {
      "cell_type": "code",
      "metadata": {
        "colab": {
          "base_uri": "https://localhost:8080/"
        },
        "id": "8mVXRMxPA_oQ",
        "outputId": "bd847c11-2d18-4a5b-ce0e-b8a4b261d3a4"
      },
      "source": [
        "print(f'Indices of new nodes are {num_node}...{total_node-1}')\n",
        "print('The first 1000 are real articles, the last 1000 are anomaly articles')\n",
        "print('You can use the map \"is_anomaly\" to identify whether a node is an anomaly or not')\n",
        "e_real = num_node+500\n",
        "e_anomaly = num_node+1500\n",
        "print(f'E.g., is_anomaly[{e_real}] = {is_anomaly[e_real]} and is_anomaly[{e_anomaly}] = {is_anomaly[e_anomaly]}')"
      ],
      "execution_count": 25,
      "outputs": [
        {
          "output_type": "stream",
          "text": [
            "Indices of new nodes are 10701...12700\n",
            "The first 1000 are real articles, the last 1000 are anomaly articles\n",
            "You can use the map \"is_anomaly\" to identify whether a node is an anomaly or not\n",
            "E.g., is_anomaly[11201] = 0 and is_anomaly[12201] = 1\n"
          ],
          "name": "stdout"
        }
      ]
    },
    {
      "cell_type": "code",
      "metadata": {
        "colab": {
          "base_uri": "https://localhost:8080/"
        },
        "id": "CsRejF-UJqtr",
        "outputId": "9e8ff959-7cf6-4235-f3ec-2d9358e58291"
      },
      "source": [
        "device = torch.device('cuda' if torch.cuda.is_available() else 'cpu')\n",
        "\n",
        "print(data_1)\n",
        "print(data_2)\n",
        "\n",
        "num_node_feature2 = data_1.x.shape[1]\n",
        "num_class2 = int(max(data_1.y)+1)\n",
        "num_label2 = sum(data_1.train_mask)\n",
        "\n",
        "\n",
        "print(f'Num node features: {num_node_feature2}')\n",
        "print(f'Num classes: {num_class2}')\n",
        "print()\n",
        "print(f'Num training labels: {num_label2}')\n",
        "\n",
        "#train_node = total_node[:num_node]\n",
        "#train_edge = total_node[:num_node]\n",
        "\n",
        "#test_node = total_node[num_node:]\n",
        "#test_edge = total_edge[num_node:]\n",
        "\n",
        "embeddings = GNN_model(data_2.x.to(device), data_2.edge_index.to(device)).tolist()\n",
        "train_dataset = embeddings[:num_node]\n",
        "normal_test= embeddings[num_node : num_node + 1000]\n",
        "anomaly_test= embeddings[num_node + 1000 : ]\n",
        "#print(normal_test)"
      ],
      "execution_count": 26,
      "outputs": [
        {
          "output_type": "stream",
          "text": [
            "Data(edge_index=[2, 251927], test_mask=[10701], train_mask=[10701], x=[10701, 300], y=[10701])\n",
            "Data(edge_index=[2, 302103], test_mask=[12701], train_mask=[12701], x=[12701, 300], y=[12701])\n",
            "Num node features: 300\n",
            "Num classes: 10\n",
            "\n",
            "Num training labels: 522\n"
          ],
          "name": "stdout"
        }
      ]
    },
    {
      "cell_type": "code",
      "metadata": {
        "id": "wIpSf4sMFnhV"
      },
      "source": [
        "batch_size = 100\n",
        "kwargs = {'num_workers': 1, 'pin_memory': True}\n",
        "\n",
        "train_dataset = torch.utils.data.TensorDataset(torch.tensor(train_dataset), torch.tensor(np.zeros((len(train_dataset)), dtype=int)))\n",
        "normal_test =  torch.utils.data.TensorDataset(torch.tensor(normal_test), torch.tensor(np.zeros((len(normal_test)), dtype=int)))\n",
        "anomaly_test = torch.utils.data.TensorDataset(torch.tensor(anomaly_test), torch.tensor(np.zeros((len(anomaly_test)), dtype=int)))\n",
        "\n",
        "# setup DataLoaders\n",
        "normal_loader_train = DataLoader(dataset=train_dataset, batch_size=batch_size, shuffle=True, **kwargs)\n",
        "normal_loader_test = DataLoader(dataset=normal_test, batch_size=batch_size, shuffle=True, **kwargs)\n",
        "anomaly_loader_test = DataLoader(dataset=anomaly_test, batch_size=batch_size, shuffle=True, **kwargs)\n"
      ],
      "execution_count": 27,
      "outputs": []
    },
    {
      "cell_type": "code",
      "metadata": {
        "colab": {
          "base_uri": "https://localhost:8080/"
        },
        "id": "kzVPrD83eOLR",
        "outputId": "b92b0459-77fc-4a21-d579-062f610c97d0"
      },
      "source": [
        "print(normal_loader_train)"
      ],
      "execution_count": 47,
      "outputs": [
        {
          "output_type": "stream",
          "text": [
            "<torch.utils.data.dataloader.DataLoader object at 0x7fb6cc49ec10>\n"
          ],
          "name": "stdout"
        }
      ]
    },
    {
      "cell_type": "markdown",
      "metadata": {
        "id": "fZgkCD3nDGqg"
      },
      "source": [
        "## Model"
      ]
    },
    {
      "cell_type": "code",
      "metadata": {
        "id": "O18Djr8pBed0"
      },
      "source": [
        "# VAE model\n",
        "class Encoder(nn.Module):\n",
        "    def __init__(self, input_dim, hidden_dim, latent_dim):\n",
        "        super(Encoder, self).__init__()\n",
        "        self.fc_input = nn.Linear(input_dim, hidden_dim)\n",
        "        self.fc_hidden = nn.Linear(hidden_dim, hidden_dim)\n",
        "        self.fc_mu = nn.Linear(hidden_dim, latent_dim)\n",
        "        self.fc_sigma = nn.Linear (hidden_dim, latent_dim)\n",
        "        \n",
        "    def forward(self, x):\n",
        "        h = torch.relu(self.fc_input(x))\n",
        "        h = torch.relu(self.fc_hidden(h))\n",
        "        mu = self.fc_mu(h)\n",
        "        log_sigma = self.fc_sigma(h)\n",
        "        z = self.reparameterization(mu, log_sigma)\n",
        "\n",
        "        return z, mu, log_sigma\n",
        "    \n",
        "    def reparameterization(self, mu, log_sigma):\n",
        "        sigma = torch.exp(log_sigma)\n",
        "        epsilon = torch.rand_like(sigma).to(DEVICE)\n",
        "        z = mu + sigma * epsilon\n",
        "        \n",
        "        return z"
      ],
      "execution_count": 40,
      "outputs": []
    },
    {
      "cell_type": "code",
      "metadata": {
        "id": "5loNhL67By2X"
      },
      "source": [
        "class Decoder(nn.Module):\n",
        "    def __init__(self, latent_dim, hidden_dim, output_dim):\n",
        "        super(Decoder, self).__init__()\n",
        "        self.fc_hidden1 = nn.Linear(latent_dim, hidden_dim)\n",
        "        self.fc_hidden2 = nn.Linear(hidden_dim, hidden_dim)\n",
        "        self.fc_output = nn.Linear(hidden_dim, output_dim)\n",
        "        \n",
        "    def forward(self, x):\n",
        "        h = torch.relu(self.fc_hidden1(x))\n",
        "        h = torch.relu(self.fc_hidden2(h))\n",
        "        x_reconstr = torch.sigmoid(self.fc_output(h))\n",
        "        return x_reconstr"
      ],
      "execution_count": 41,
      "outputs": []
    },
    {
      "cell_type": "code",
      "metadata": {
        "id": "TxTIVvJHBy_q"
      },
      "source": [
        "class VAE(nn.Module):\n",
        "    def __init__(self, encoder, decoder):\n",
        "        super(VAE, self).__init__()\n",
        "        self.encoder = encoder\n",
        "        self.decoder = decoder\n",
        "                \n",
        "    def forward(self, x):\n",
        "        z, mu, log_sigma = self.encoder(x)\n",
        "        x_reconstr = self.decoder(z)\n",
        "        \n",
        "        return x_reconstr, mu, log_sigma"
      ],
      "execution_count": 42,
      "outputs": []
    },
    {
      "cell_type": "code",
      "metadata": {
        "id": "KJokHDmRBrta",
        "colab": {
          "base_uri": "https://localhost:8080/"
        },
        "outputId": "4c8156d5-637a-44c4-84e9-eb087eef6b05"
      },
      "source": [
        "x_dim  = len(train_dataset[0][0])\n",
        "hidden_dim = 500\n",
        "latent_dim = num_class\n",
        "print(x_dim, hidden_dim, latent_dim)\n",
        "\n",
        "cuda = True  # NOTE: if running in Google Colab, make sure to go to \"Edit > Notebook settings\" and set \"Hardware accelerator\" to \"GPU\"\n",
        "DEVICE = torch.device(\"cuda\" if cuda else \"cpu\")\n",
        "\n",
        "encoder = Encoder(input_dim=x_dim, hidden_dim=hidden_dim, latent_dim=latent_dim)\n",
        "decoder = Decoder(latent_dim=latent_dim, hidden_dim=hidden_dim, output_dim=x_dim)\n",
        "\n",
        "vae = VAE(encoder=encoder, decoder=decoder).to(DEVICE)"
      ],
      "execution_count": 43,
      "outputs": [
        {
          "output_type": "stream",
          "text": [
            "10 500 10\n"
          ],
          "name": "stdout"
        }
      ]
    },
    {
      "cell_type": "code",
      "metadata": {
        "colab": {
          "base_uri": "https://localhost:8080/"
        },
        "id": "4Sumk6jed3jp",
        "outputId": "de1f1618-aa24-43c6-f7e7-c487690b26a2"
      },
      "source": [
        "vae.eval()"
      ],
      "execution_count": 44,
      "outputs": [
        {
          "output_type": "execute_result",
          "data": {
            "text/plain": [
              "VAE(\n",
              "  (encoder): Encoder(\n",
              "    (fc_input): Linear(in_features=10, out_features=500, bias=True)\n",
              "    (fc_hidden): Linear(in_features=500, out_features=500, bias=True)\n",
              "    (fc_mu): Linear(in_features=500, out_features=10, bias=True)\n",
              "    (fc_sigma): Linear(in_features=500, out_features=10, bias=True)\n",
              "  )\n",
              "  (decoder): Decoder(\n",
              "    (fc_hidden1): Linear(in_features=10, out_features=500, bias=True)\n",
              "    (fc_hidden2): Linear(in_features=500, out_features=500, bias=True)\n",
              "    (fc_output): Linear(in_features=500, out_features=10, bias=True)\n",
              "  )\n",
              ")"
            ]
          },
          "metadata": {
            "tags": []
          },
          "execution_count": 44
        }
      ]
    },
    {
      "cell_type": "code",
      "metadata": {
        "id": "MqfQywLgB86L"
      },
      "source": [
        "lr = 1e-3\n",
        "\n",
        "def loss_function(x, x_reconstr, mu, log_sigma):\n",
        "    reconstr_loss = nn.functional.mse_loss(x_reconstr, x, reduction='sum')\n",
        "    kl_loss = 0.5 * torch.sum(mu.pow(2) + (2*log_sigma).exp() - 2*log_sigma - 1)\n",
        "    total_loss = reconstr_loss + kl_loss\n",
        "    return total_loss, reconstr_loss, kl_loss\n",
        "\n",
        "optimizer = Adam(vae.parameters(), lr=lr)"
      ],
      "execution_count": 45,
      "outputs": []
    },
    {
      "cell_type": "markdown",
      "metadata": {
        "id": "_duI-zHqDOwo"
      },
      "source": [
        "## Training"
      ]
    },
    {
      "cell_type": "code",
      "metadata": {
        "id": "m6U8GbGrCkSf",
        "colab": {
          "base_uri": "https://localhost:8080/"
        },
        "outputId": "9259370d-514c-40e7-bf4c-2f21dcf0c6df"
      },
      "source": [
        "#training \n",
        "epochs = 50\n",
        "\n",
        "print(\"Start training VAE...\")\n",
        "vae.train()\n",
        "\n",
        "for epoch in range(epochs):\n",
        "    overall_loss = 0\n",
        "    overall_reconstr_loss = 0\n",
        "    overall_kl_loss = 0\n",
        "    for batch_idx, (x, _) in enumerate(normal_loader_train):\n",
        "        #print(x.shape)\n",
        "        x = x.view(-1, x_dim)\n",
        "        x = x.to(DEVICE)\n",
        "\n",
        "        optimizer.zero_grad()\n",
        "\n",
        "        x_reconstr, mu, log_sigma = vae(x)\n",
        "        loss, reconstr_loss, kl_loss = loss_function(x, x_reconstr, mu, log_sigma)\n",
        "        \n",
        "        overall_loss += loss.item()\n",
        "        overall_reconstr_loss += reconstr_loss.item()\n",
        "        overall_kl_loss += kl_loss.item()\n",
        "        \n",
        "        loss.backward()\n",
        "        optimizer.step()\n",
        "        \n",
        "    n_datapoints = batch_idx * batch_size\n",
        "    print(\"\\tEpoch\", epoch + 1, \"\\tAverage Loss: \", overall_loss / n_datapoints, \"\\tReconstruction Loss:\", overall_reconstr_loss / n_datapoints, \"\\tKL Loss:\", overall_kl_loss / n_datapoints)\n",
        "\n",
        "print()   \n",
        "print(\"Training complete!\")"
      ],
      "execution_count": 51,
      "outputs": [
        {
          "output_type": "stream",
          "text": [
            "Start training VAE...\n",
            "\tEpoch 1 \tAverage Loss:  1809.9407900744286 \tReconstruction Loss: 1808.2389749915578 \tKL Loss: 1.7018152025871187\n",
            "\tEpoch 2 \tAverage Loss:  1809.9209462930555 \tReconstruction Loss: 1808.19578306109 \tKL Loss: 1.7251727197883284\n",
            "\tEpoch 3 \tAverage Loss:  1809.5973903934087 \tReconstruction Loss: 1808.1133444413515 \tKL Loss: 1.4840506834237375\n",
            "\tEpoch 4 \tAverage Loss:  1809.770967241804 \tReconstruction Loss: 1808.1346238865362 \tKL Loss: 1.6363365537875167\n",
            "\tEpoch 5 \tAverage Loss:  1809.4265817631517 \tReconstruction Loss: 1808.018489590939 \tKL Loss: 1.4080980719806993\n",
            "\tEpoch 6 \tAverage Loss:  1809.8194397999416 \tReconstruction Loss: 1808.1069750748393 \tKL Loss: 1.7124664249598422\n",
            "\tEpoch 7 \tAverage Loss:  1809.349280503888 \tReconstruction Loss: 1807.9976274950259 \tKL Loss: 1.351655511772521\n",
            "\tEpoch 8 \tAverage Loss:  1809.1617678861528 \tReconstruction Loss: 1807.942241016994 \tKL Loss: 1.2195264206868466\n",
            "\tEpoch 9 \tAverage Loss:  1809.2137107093313 \tReconstruction Loss: 1807.916544862551 \tKL Loss: 1.2971588840997108\n",
            "\tEpoch 10 \tAverage Loss:  1809.1533237521448 \tReconstruction Loss: 1807.8909675840573 \tKL Loss: 1.2623497477480183\n",
            "\tEpoch 11 \tAverage Loss:  1809.0979121684136 \tReconstruction Loss: 1807.8525623806393 \tKL Loss: 1.2453536533863745\n",
            "\tEpoch 12 \tAverage Loss:  1809.0834240722656 \tReconstruction Loss: 1807.8581686971788 \tKL Loss: 1.2252477641640422\n",
            "\tEpoch 13 \tAverage Loss:  1808.9803372962454 \tReconstruction Loss: 1807.8079548202943 \tKL Loss: 1.1723764914329922\n",
            "\tEpoch 14 \tAverage Loss:  1808.9794091226454 \tReconstruction Loss: 1807.7999430262485 \tKL Loss: 1.1794652205315705\n",
            "\tEpoch 15 \tAverage Loss:  1809.1311355961595 \tReconstruction Loss: 1807.8080070823598 \tKL Loss: 1.3231296353919484\n",
            "\tEpoch 16 \tAverage Loss:  1809.370691417088 \tReconstruction Loss: 1807.9010740191022 \tKL Loss: 1.4696188895947466\n",
            "\tEpoch 17 \tAverage Loss:  1808.9847582494433 \tReconstruction Loss: 1807.7762185070003 \tKL Loss: 1.208532231979281\n",
            "\tEpoch 18 \tAverage Loss:  1808.826864116348 \tReconstruction Loss: 1807.733373156396 \tKL Loss: 1.0934964905943827\n",
            "\tEpoch 19 \tAverage Loss:  1808.7448318395882 \tReconstruction Loss: 1807.6825342481382 \tKL Loss: 1.062293814610098\n",
            "\tEpoch 20 \tAverage Loss:  1808.8814720767011 \tReconstruction Loss: 1807.7382095821772 \tKL Loss: 1.1432566676797153\n",
            "\tEpoch 21 \tAverage Loss:  1809.0584912907966 \tReconstruction Loss: 1807.7697316050308 \tKL Loss: 1.288754807008761\n",
            "\tEpoch 22 \tAverage Loss:  1808.97516272429 \tReconstruction Loss: 1807.7385744126934 \tKL Loss: 1.2365879560631012\n",
            "\tEpoch 23 \tAverage Loss:  1808.7570602844808 \tReconstruction Loss: 1807.6956894348714 \tKL Loss: 1.0613743613479294\n",
            "\tEpoch 24 \tAverage Loss:  1808.6702111987533 \tReconstruction Loss: 1807.6501510762723 \tKL Loss: 1.0200580624275117\n",
            "\tEpoch 25 \tAverage Loss:  1808.6415007118867 \tReconstruction Loss: 1807.5897577075423 \tKL Loss: 1.051738688923488\n",
            "\tEpoch 26 \tAverage Loss:  1808.6324751296 \tReconstruction Loss: 1807.5859325715537 \tKL Loss: 1.0465484277333055\n",
            "\tEpoch 27 \tAverage Loss:  1808.8143564327631 \tReconstruction Loss: 1807.6319351510022 \tKL Loss: 1.1824243976691058\n",
            "\tEpoch 28 \tAverage Loss:  1808.7240278069328 \tReconstruction Loss: 1807.6349371737185 \tKL Loss: 1.0890930554799945\n",
            "\tEpoch 29 \tAverage Loss:  1808.7151978908075 \tReconstruction Loss: 1807.6192439398365 \tKL Loss: 1.0959532769818172\n",
            "\tEpoch 30 \tAverage Loss:  1808.5398162328418 \tReconstruction Loss: 1807.541615343896 \tKL Loss: 0.9982101134496314\n",
            "\tEpoch 31 \tAverage Loss:  1808.8229252153913 \tReconstruction Loss: 1807.6701175069363 \tKL Loss: 1.1528089396307402\n",
            "\tEpoch 32 \tAverage Loss:  1808.5957911867515 \tReconstruction Loss: 1807.566651942173 \tKL Loss: 1.0291444983604912\n",
            "\tEpoch 33 \tAverage Loss:  1808.6830665659681 \tReconstruction Loss: 1807.6051567747882 \tKL Loss: 1.0779079048377331\n",
            "\tEpoch 34 \tAverage Loss:  1808.6681154197622 \tReconstruction Loss: 1807.58182262385 \tKL Loss: 1.086299055001446\n",
            "\tEpoch 35 \tAverage Loss:  1808.560233599226 \tReconstruction Loss: 1807.5140361236859 \tKL Loss: 1.0462031363103992\n",
            "\tEpoch 36 \tAverage Loss:  1808.7555928207112 \tReconstruction Loss: 1807.592328867333 \tKL Loss: 1.1632638629797463\n",
            "\tEpoch 37 \tAverage Loss:  1808.7330601430162 \tReconstruction Loss: 1807.5692678975613 \tKL Loss: 1.1637998814894774\n",
            "\tEpoch 38 \tAverage Loss:  1808.493048244013 \tReconstruction Loss: 1807.492207419137 \tKL Loss: 1.0008334931034908\n",
            "\tEpoch 39 \tAverage Loss:  1808.5824507098332 \tReconstruction Loss: 1807.520208238263 \tKL Loss: 1.062239258868672\n",
            "\tEpoch 40 \tAverage Loss:  1808.9414333678628 \tReconstruction Loss: 1807.6322951728607 \tKL Loss: 1.3091364090464939\n",
            "\tEpoch 41 \tAverage Loss:  1808.7618100973825 \tReconstruction Loss: 1807.569836961978 \tKL Loss: 1.191967011818262\n",
            "\tEpoch 42 \tAverage Loss:  1808.8592489595503 \tReconstruction Loss: 1807.5794418534608 \tKL Loss: 1.279802214141204\n",
            "\tEpoch 43 \tAverage Loss:  1808.5506306357695 \tReconstruction Loss: 1807.524870719553 \tKL Loss: 1.0257539196270649\n",
            "\tEpoch 44 \tAverage Loss:  1808.6277288647232 \tReconstruction Loss: 1807.5155023820823 \tKL Loss: 1.1122172254045433\n",
            "\tEpoch 45 \tAverage Loss:  1808.6273064329914 \tReconstruction Loss: 1807.5145153523383 \tKL Loss: 1.1127931682862968\n",
            "\tEpoch 46 \tAverage Loss:  1808.6692227201372 \tReconstruction Loss: 1807.5265905077213 \tKL Loss: 1.1426289831812138\n",
            "\tEpoch 47 \tAverage Loss:  1808.608419571636 \tReconstruction Loss: 1807.497315074885 \tKL Loss: 1.1111144358978093\n",
            "\tEpoch 48 \tAverage Loss:  1808.6636317115856 \tReconstruction Loss: 1807.5092829253294 \tKL Loss: 1.1543572417987842\n",
            "\tEpoch 49 \tAverage Loss:  1808.5026543447905 \tReconstruction Loss: 1807.4507201406889 \tKL Loss: 1.0519350799778913\n",
            "\tEpoch 50 \tAverage Loss:  1808.711013548664 \tReconstruction Loss: 1807.5655504572503 \tKL Loss: 1.1454630774872325\n",
            "Training complete!\n"
          ],
          "name": "stdout"
        }
      ]
    },
    {
      "cell_type": "code",
      "metadata": {
        "id": "Xdti6eKlElXk"
      },
      "source": [
        "PATH = 'VAE.model'\n",
        "torch.save(vae, PATH)"
      ],
      "execution_count": 52,
      "outputs": []
    },
    {
      "cell_type": "code",
      "metadata": {
        "id": "PYq8p21yCxYu"
      },
      "source": [
        ""
      ],
      "execution_count": null,
      "outputs": []
    },
    {
      "cell_type": "markdown",
      "metadata": {
        "id": "hUqpO-aZC7BS"
      },
      "source": [
        "## Evaluation\n",
        "\n"
      ]
    },
    {
      "cell_type": "code",
      "metadata": {
        "id": "ddV1RODXCo9e"
      },
      "source": [
        "def elbo_elementwise(x, x_reconstr, mu, log_sigma):\n",
        "    reconstr_loss = torch.sum(nn.functional.mse_loss(x_reconstr, x, reduction='none'), dim=1)\n",
        "    constant_term = x_dim * 0.5 * np.log(np.pi)  # assuming sigma=1/sqrt(2)\n",
        "    kl_loss = 0.5 * torch.sum(mu.pow(2) + (2*log_sigma).exp() - 2*log_sigma - 1, dim=1)\n",
        "    elbo = - reconstr_loss - constant_term - kl_loss\n",
        "    return elbo, reconstr_loss, kl_loss"
      ],
      "execution_count": 53,
      "outputs": []
    },
    {
      "cell_type": "code",
      "metadata": {
        "id": "JrH5fZreCvfJ",
        "colab": {
          "base_uri": "https://localhost:8080/"
        },
        "outputId": "4708c2bb-632f-4f0f-c6d6-06ec57f97ba7"
      },
      "source": [
        "#vae.eval()\n",
        "\n",
        "x_original_list_normal = []\n",
        "x_reconstr_list_normal = []\n",
        "elbos_normal = []\n",
        "x_original_list_anomaly = []\n",
        "x_reconstr_list_anomaly = []\n",
        "elbos_anomaly = []\n",
        "with torch.no_grad():\n",
        "    for batch_idx, (x, y) in enumerate(tqdm(normal_loader_test)):\n",
        "        x = x.view(batch_size, x_dim)\n",
        "        x = x.to(DEVICE)\n",
        "        \n",
        "        x_reconstr, mu, log_sigma = vae(x)\n",
        "        elbo, reconstr_loss, kl_loss = elbo_elementwise(x, x_reconstr, mu, log_sigma)\n",
        "\n",
        "        x_original_list_normal.append(x)\n",
        "        x_reconstr_list_normal.append(x_reconstr)\n",
        "        elbos_normal.append(elbo.cpu().numpy())\n",
        "    \n",
        "    for batch_idx, (x, y) in enumerate(tqdm(anomaly_loader_test)):\n",
        "        x = x.view(batch_size, x_dim)\n",
        "        x = x.to(DEVICE)\n",
        "        \n",
        "        x_reconstr, mu, log_sigma = vae(x)\n",
        "        elbo, reconstr_loss, kl_loss = elbo_elementwise(x, x_reconstr, mu, log_sigma)\n",
        "\n",
        "        x_original_list_anomaly.append(x)\n",
        "        x_reconstr_list_anomaly.append(x_reconstr)\n",
        "        elbos_anomaly.append(elbo.cpu().numpy())\n",
        "\n",
        "elbos_normal = np.concatenate(elbos_normal)  # loss values represent *negative* ELBO values\n",
        "elbos_anomaly = np.concatenate(elbos_anomaly)"
      ],
      "execution_count": 54,
      "outputs": [
        {
          "output_type": "stream",
          "text": [
            "100%|██████████| 10/10 [00:00<00:00, 90.02it/s]\n",
            "100%|██████████| 10/10 [00:00<00:00, 87.07it/s]\n"
          ],
          "name": "stderr"
        }
      ]
    },
    {
      "cell_type": "markdown",
      "metadata": {
        "id": "FY2CKVQuDVu2"
      },
      "source": [
        "### Density Plot"
      ]
    },
    {
      "cell_type": "code",
      "metadata": {
        "id": "8jJaYpuyQSmj",
        "colab": {
          "base_uri": "https://localhost:8080/",
          "height": 541
        },
        "outputId": "2ee37e47-863c-426e-a1f1-a2c65764c3be"
      },
      "source": [
        "def density_histogram(neg, pos, bins=30, alpha=0.4):\n",
        "    plt.figure()\n",
        "    plt.hist(neg, bins=bins, density=True, histtype=\"bar\", color=\"g\", alpha=alpha)\n",
        "    plt.hist(neg, bins=bins, density=True, histtype=\"step\", color=\"g\", alpha=1)\n",
        "    plt.hist(pos, bins=bins, density=True, histtype=\"bar\", color=\"r\", alpha=alpha)\n",
        "    plt.hist(pos, bins=bins, density=True, histtype=\"step\", color=\"r\", alpha=1)\n",
        "    plt.xlabel(\"ELBO value\")\n",
        "    plt.ylabel(\"Density\")\n",
        "    plt.show()\n",
        "\n",
        "\n",
        "def density_plot(neg, pos):\n",
        "    plt.figure()\n",
        "    sns.kdeplot(neg, shade=True, color=\"g\")\n",
        "    sns.kdeplot(pos, shade=True, color=\"r\")\n",
        "    plt.xlabel(\"ELBO value\")\n",
        "    plt.ylabel(\"Density\")\n",
        "\n",
        "density_histogram(elbos_normal, elbos_anomaly)\n",
        "density_plot(elbos_normal, elbos_anomaly)"
      ],
      "execution_count": 55,
      "outputs": [
        {
          "output_type": "display_data",
          "data": {
            "image/png": "[encoded data removed]",
            "text/plain": [
              "<Figure size 432x288 with 1 Axes>"
            ]
          },
          "metadata": {
            "tags": [],
            "needs_background": "light"
          }
        },
        {
          "output_type": "display_data",
          "data": {
            "image/png": "[encoded data removed]",
            "text/plain": [
              "<Figure size 432x288 with 1 Axes>"
            ]
          },
          "metadata": {
            "tags": [],
            "needs_background": "light"
          }
        }
      ]
    },
    {
      "cell_type": "markdown",
      "metadata": {
        "id": "omhz3nlJDXKG"
      },
      "source": [
        "### ROC-AUC"
      ]
    },
    {
      "cell_type": "code",
      "metadata": {
        "id": "nPspBe5SCy4L",
        "colab": {
          "base_uri": "https://localhost:8080/",
          "height": 683
        },
        "outputId": "b1614230-9a1c-44e5-d295-295cfd88a9c6"
      },
      "source": [
        "def roc_pr_curves(neg, pos):\n",
        "    # translate to scores from 0 to 1, where 1 means anomaly (low ELBO) and 0 means normal (high ELBO)\n",
        "    min_val = min(np.min(neg), np.min(pos))\n",
        "    max_val = max(np.max(neg), np.max(pos))\n",
        "    y_true_neg = np.zeros(neg.shape)\n",
        "    y_true_pos = np.ones(pos.shape)\n",
        "    y_true = np.concatenate((y_true_neg, y_true_pos))\n",
        "    y_score = (max_val - np.concatenate((neg, pos))) / (max_val - min_val)\n",
        "\n",
        "    # get ROC curve values\n",
        "    fpr, tpr, _ = roc_curve(y_true, y_score, drop_intermediate=True)\n",
        "    auroc = auc(fpr, tpr)\n",
        "\n",
        "    # plot ROC curve\n",
        "    lw = 2\n",
        "    plt.figure(figsize=(5, 5))\n",
        "    plt.plot(fpr, tpr, color='darkorange',\n",
        "             lw=lw, label='ROC curve (AUC = %0.2f)' % auroc)\n",
        "    plt.plot([0, 1], [0, 1], color='navy', lw=lw, linestyle='--')\n",
        "    plt.xlim([0.0, 1.0])\n",
        "    plt.ylim([0.0, 1.0])\n",
        "    plt.xlabel('False Positive Rate')\n",
        "    plt.ylabel('True Positive Rate')\n",
        "    plt.title('Receiver Operating Characteristic')\n",
        "    plt.legend(loc=\"lower right\")\n",
        "    plt.show()\n",
        "    \n",
        "    # get Precision-Recall values\n",
        "    precision, recall, _ = precision_recall_curve(y_true, y_score)\n",
        "    auprc = auc(recall, precision)\n",
        "\n",
        "    # plot Precision-Recall curve\n",
        "    no_skill = len(y_true[y_true==1]) / len(y_true)\n",
        "    plt.figure(figsize=(5, 5))\n",
        "    plt.plot([0, 1], [no_skill, no_skill], color=\"navy\", lw=lw, linestyle='--')\n",
        "    plt.plot(recall, precision, color='darkorange',\n",
        "             lw=lw, label=\"PR curve (AUC= %0.2f)\" % auprc)\n",
        "    plt.xlabel('Recall')\n",
        "    plt.ylabel('Precision')\n",
        "    plt.title(\"Precision-Recall Curve\")\n",
        "    plt.legend(loc=\"upper right\")\n",
        "    plt.show()\n",
        "\n",
        "roc_pr_curves(elbos_normal, elbos_anomaly)"
      ],
      "execution_count": 56,
      "outputs": [
        {
          "output_type": "display_data",
          "data": {
            "image/png": "[encoded data removed]",
            "text/plain": [
              "<Figure size 360x360 with 1 Axes>"
            ]
          },
          "metadata": {
            "tags": [],
            "needs_background": "light"
          }
        },
        {
          "output_type": "display_data",
          "data": {
            "image/png": "[encoded data removed]",
            "text/plain": [
              "<Figure size 360x360 with 1 Axes>"
            ]
          },
          "metadata": {
            "tags": [],
            "needs_background": "light"
          }
        }
      ]
    }
  ]
}